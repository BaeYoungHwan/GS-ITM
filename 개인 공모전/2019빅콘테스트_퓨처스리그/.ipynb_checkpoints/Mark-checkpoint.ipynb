{
 "cells": [
  {
   "cell_type": "markdown",
   "metadata": {},
   "source": [
    "## 해당 코드는 Jupyter 에서 작성 되었습니다.\n",
    "\n",
    "### 순서는 \n",
    "\n",
    "- 데이터 업로드 \n",
    "- 형식 살펴보기 \n",
    "- 전처리 \n",
    "- 모델 \n",
    "- 적용\n",
    "\n",
    "### 전처리 같은 경우 따로 파일을 저장하지 않고 바로바로 작성하여 최종본 밖에 없습니다.\n",
    "\n",
    "자세한 설명은 코드내에 MarkDown으로 작성하였습니다"
   ]
  }
 ],
 "metadata": {
  "kernelspec": {
   "display_name": "Python 3",
   "language": "python",
   "name": "python3"
  },
  "language_info": {
   "codemirror_mode": {
    "name": "ipython",
    "version": 3
   },
   "file_extension": ".py",
   "mimetype": "text/x-python",
   "name": "python",
   "nbconvert_exporter": "python",
   "pygments_lexer": "ipython3",
   "version": "3.7.3"
  }
 },
 "nbformat": 4,
 "nbformat_minor": 2
}
