{
 "cells": [
  {
   "cell_type": "markdown",
   "metadata": {},
   "source": [
    "# 퓨처스리그 항공"
   ]
  },
  {
   "cell_type": "code",
   "execution_count": 142,
   "metadata": {},
   "outputs": [],
   "source": [
    "import numpy as np\n",
    "import pandas as pd\n",
    "from sklearn.model_selection import train_test_split, cross_val_score\n",
    "from sklearn.neighbors import KNeighborsClassifier, KNeighborsRegressor\n",
    "from sklearn.preprocessing import LabelEncoder, OneHotEncoder\n",
    "from sklearn.linear_model import LinearRegression, Ridge, Lasso, LogisticRegression\n",
    "from sklearn.tree import DecisionTreeClassifier\n",
    "from sklearn.ensemble import RandomForestClassifier, GradientBoostingClassifier\n",
    "from sklearn.neural_network import MLPClassifier\n",
    "from sklearn.linear_model import Perceptron\n",
    "import matplotlib.pyplot as  plt"
   ]
  },
  {
   "cell_type": "code",
   "execution_count": 2,
   "metadata": {},
   "outputs": [],
   "source": [
    "AFSNT = pd.read_csv(\"AFSNT.csv\", engine='python')          # train table\n",
    "\n",
    "AFSNT_DLY = pd.read_csv(\"AFSNT_DLY.csv\", engine='python')   # Target table\n",
    "\n",
    "SFSNT = pd.read_csv(\"SFSNT.csv\", engine='python')       # 비행기의 요일별 출항유무"
   ]
  },
  {
   "cell_type": "code",
   "execution_count": 4,
   "metadata": {
    "scrolled": true
   },
   "outputs": [
    {
     "name": "stdout",
     "output_type": "stream",
     "text": [
      "<class 'pandas.core.frame.DataFrame'>\n",
      "RangeIndex: 987709 entries, 0 to 987708\n",
      "Data columns (total 17 columns):\n",
      "SDT_YY    987709 non-null int64\n",
      "SDT_MM    987709 non-null int64\n",
      "SDT_DD    987709 non-null int64\n",
      "SDT_DY    987709 non-null object\n",
      "ARP       987709 non-null object\n",
      "ODP       987709 non-null object\n",
      "FLO       987709 non-null object\n",
      "FLT       987709 non-null object\n",
      "REG       987251 non-null object\n",
      "AOD       987709 non-null object\n",
      "IRR       987709 non-null object\n",
      "STT       987709 non-null object\n",
      "ATT       979461 non-null object\n",
      "DLY       987709 non-null object\n",
      "DRR       119917 non-null object\n",
      "CNL       987709 non-null object\n",
      "CNR       3018 non-null object\n",
      "dtypes: int64(3), object(14)\n",
      "memory usage: 128.1+ MB\n",
      "<class 'pandas.core.frame.DataFrame'>\n",
      "RangeIndex: 1171 entries, 0 to 1170\n",
      "Data columns (total 17 columns):\n",
      "SSC    1171 non-null object\n",
      "FLT    1171 non-null object\n",
      "ORG    1171 non-null object\n",
      "DES    1171 non-null object\n",
      "STD    1153 non-null object\n",
      "STA    1152 non-null object\n",
      "FLO    1171 non-null object\n",
      "MON    750 non-null object\n",
      "TUE    745 non-null object\n",
      "WED    739 non-null object\n",
      "THU    741 non-null object\n",
      "FRI    744 non-null object\n",
      "SAT    743 non-null object\n",
      "SUN    722 non-null object\n",
      "FSD    1171 non-null int64\n",
      "FED    1171 non-null int64\n",
      "IRR    1171 non-null object\n",
      "dtypes: int64(2), object(15)\n",
      "memory usage: 155.6+ KB\n"
     ]
    },
    {
     "data": {
      "text/html": [
       "<div>\n",
       "<style scoped>\n",
       "    .dataframe tbody tr th:only-of-type {\n",
       "        vertical-align: middle;\n",
       "    }\n",
       "\n",
       "    .dataframe tbody tr th {\n",
       "        vertical-align: top;\n",
       "    }\n",
       "\n",
       "    .dataframe thead th {\n",
       "        text-align: right;\n",
       "    }\n",
       "</style>\n",
       "<table border=\"1\" class=\"dataframe\">\n",
       "  <thead>\n",
       "    <tr style=\"text-align: right;\">\n",
       "      <th></th>\n",
       "      <th>FSD</th>\n",
       "      <th>FED</th>\n",
       "    </tr>\n",
       "  </thead>\n",
       "  <tbody>\n",
       "    <tr>\n",
       "      <th>count</th>\n",
       "      <td>1.171000e+03</td>\n",
       "      <td>1.171000e+03</td>\n",
       "    </tr>\n",
       "    <tr>\n",
       "      <th>mean</th>\n",
       "      <td>2.019049e+07</td>\n",
       "      <td>2.019097e+07</td>\n",
       "    </tr>\n",
       "    <tr>\n",
       "      <th>std</th>\n",
       "      <td>1.978824e+02</td>\n",
       "      <td>1.063757e+02</td>\n",
       "    </tr>\n",
       "    <tr>\n",
       "      <th>min</th>\n",
       "      <td>2.019033e+07</td>\n",
       "      <td>2.019070e+07</td>\n",
       "    </tr>\n",
       "    <tr>\n",
       "      <th>25%</th>\n",
       "      <td>2.019033e+07</td>\n",
       "      <td>2.019102e+07</td>\n",
       "    </tr>\n",
       "    <tr>\n",
       "      <th>50%</th>\n",
       "      <td>2.019040e+07</td>\n",
       "      <td>2.019103e+07</td>\n",
       "    </tr>\n",
       "    <tr>\n",
       "      <th>75%</th>\n",
       "      <td>2.019063e+07</td>\n",
       "      <td>2.019103e+07</td>\n",
       "    </tr>\n",
       "    <tr>\n",
       "      <th>max</th>\n",
       "      <td>2.019092e+07</td>\n",
       "      <td>2.019103e+07</td>\n",
       "    </tr>\n",
       "  </tbody>\n",
       "</table>\n",
       "</div>"
      ],
      "text/plain": [
       "                FSD           FED\n",
       "count  1.171000e+03  1.171000e+03\n",
       "mean   2.019049e+07  2.019097e+07\n",
       "std    1.978824e+02  1.063757e+02\n",
       "min    2.019033e+07  2.019070e+07\n",
       "25%    2.019033e+07  2.019102e+07\n",
       "50%    2.019040e+07  2.019103e+07\n",
       "75%    2.019063e+07  2.019103e+07\n",
       "max    2.019092e+07  2.019103e+07"
      ]
     },
     "execution_count": 4,
     "metadata": {},
     "output_type": "execute_result"
    }
   ],
   "source": [
    "AFSNT.info()\n",
    "\n",
    "SFSNT.info()\n",
    "\n",
    "AFSNT.describe()\n",
    "\n",
    "SFSNT.describe()"
   ]
  },
  {
   "cell_type": "code",
   "execution_count": 5,
   "metadata": {},
   "outputs": [
    {
     "data": {
      "text/html": [
       "<div>\n",
       "<style scoped>\n",
       "    .dataframe tbody tr th:only-of-type {\n",
       "        vertical-align: middle;\n",
       "    }\n",
       "\n",
       "    .dataframe tbody tr th {\n",
       "        vertical-align: top;\n",
       "    }\n",
       "\n",
       "    .dataframe thead th {\n",
       "        text-align: right;\n",
       "    }\n",
       "</style>\n",
       "<table border=\"1\" class=\"dataframe\">\n",
       "  <thead>\n",
       "    <tr style=\"text-align: right;\">\n",
       "      <th></th>\n",
       "      <th>SDT_YY</th>\n",
       "      <th>SDT_MM</th>\n",
       "      <th>SDT_DD</th>\n",
       "      <th>SDT_DY</th>\n",
       "      <th>ARP</th>\n",
       "      <th>ODP</th>\n",
       "      <th>FLO</th>\n",
       "      <th>FLT</th>\n",
       "      <th>REG</th>\n",
       "      <th>AOD</th>\n",
       "      <th>IRR</th>\n",
       "      <th>STT</th>\n",
       "      <th>ATT</th>\n",
       "      <th>DLY</th>\n",
       "      <th>DRR</th>\n",
       "      <th>CNL</th>\n",
       "      <th>CNR</th>\n",
       "    </tr>\n",
       "  </thead>\n",
       "  <tbody>\n",
       "    <tr>\n",
       "      <th>0</th>\n",
       "      <td>2017</td>\n",
       "      <td>1</td>\n",
       "      <td>1</td>\n",
       "      <td>일</td>\n",
       "      <td>ARP1</td>\n",
       "      <td>ARP3</td>\n",
       "      <td>A</td>\n",
       "      <td>A1901</td>\n",
       "      <td>SEw3Nzc2</td>\n",
       "      <td>D</td>\n",
       "      <td>N</td>\n",
       "      <td>6:10</td>\n",
       "      <td>6:18</td>\n",
       "      <td>N</td>\n",
       "      <td>NaN</td>\n",
       "      <td>N</td>\n",
       "      <td>NaN</td>\n",
       "    </tr>\n",
       "    <tr>\n",
       "      <th>1</th>\n",
       "      <td>2017</td>\n",
       "      <td>1</td>\n",
       "      <td>1</td>\n",
       "      <td>일</td>\n",
       "      <td>ARP1</td>\n",
       "      <td>ARP3</td>\n",
       "      <td>A</td>\n",
       "      <td>A1905</td>\n",
       "      <td>SEw4MjM2</td>\n",
       "      <td>D</td>\n",
       "      <td>N</td>\n",
       "      <td>6:15</td>\n",
       "      <td>6:25</td>\n",
       "      <td>N</td>\n",
       "      <td>NaN</td>\n",
       "      <td>N</td>\n",
       "      <td>NaN</td>\n",
       "    </tr>\n",
       "    <tr>\n",
       "      <th>2</th>\n",
       "      <td>2017</td>\n",
       "      <td>1</td>\n",
       "      <td>1</td>\n",
       "      <td>일</td>\n",
       "      <td>ARP1</td>\n",
       "      <td>ARP3</td>\n",
       "      <td>L</td>\n",
       "      <td>L1751</td>\n",
       "      <td>SEw4MjM3</td>\n",
       "      <td>D</td>\n",
       "      <td>N</td>\n",
       "      <td>6:20</td>\n",
       "      <td>6:30</td>\n",
       "      <td>N</td>\n",
       "      <td>NaN</td>\n",
       "      <td>N</td>\n",
       "      <td>NaN</td>\n",
       "    </tr>\n",
       "    <tr>\n",
       "      <th>3</th>\n",
       "      <td>2017</td>\n",
       "      <td>1</td>\n",
       "      <td>1</td>\n",
       "      <td>일</td>\n",
       "      <td>ARP1</td>\n",
       "      <td>ARP3</td>\n",
       "      <td>F</td>\n",
       "      <td>F1201</td>\n",
       "      <td>SEw4MjA3</td>\n",
       "      <td>D</td>\n",
       "      <td>N</td>\n",
       "      <td>6:25</td>\n",
       "      <td>6:34</td>\n",
       "      <td>N</td>\n",
       "      <td>NaN</td>\n",
       "      <td>N</td>\n",
       "      <td>NaN</td>\n",
       "    </tr>\n",
       "    <tr>\n",
       "      <th>4</th>\n",
       "      <td>2017</td>\n",
       "      <td>1</td>\n",
       "      <td>1</td>\n",
       "      <td>일</td>\n",
       "      <td>ARP3</td>\n",
       "      <td>ARP1</td>\n",
       "      <td>A</td>\n",
       "      <td>A1900</td>\n",
       "      <td>SEw3NzAz</td>\n",
       "      <td>D</td>\n",
       "      <td>N</td>\n",
       "      <td>6:30</td>\n",
       "      <td>6:37</td>\n",
       "      <td>N</td>\n",
       "      <td>NaN</td>\n",
       "      <td>N</td>\n",
       "      <td>NaN</td>\n",
       "    </tr>\n",
       "  </tbody>\n",
       "</table>\n",
       "</div>"
      ],
      "text/plain": [
       "   SDT_YY  SDT_MM  SDT_DD SDT_DY   ARP   ODP FLO    FLT       REG AOD IRR  \\\n",
       "0    2017       1       1      일  ARP1  ARP3   A  A1901  SEw3Nzc2   D   N   \n",
       "1    2017       1       1      일  ARP1  ARP3   A  A1905  SEw4MjM2   D   N   \n",
       "2    2017       1       1      일  ARP1  ARP3   L  L1751  SEw4MjM3   D   N   \n",
       "3    2017       1       1      일  ARP1  ARP3   F  F1201  SEw4MjA3   D   N   \n",
       "4    2017       1       1      일  ARP3  ARP1   A  A1900  SEw3NzAz   D   N   \n",
       "\n",
       "    STT   ATT DLY  DRR CNL  CNR  \n",
       "0  6:10  6:18   N  NaN   N  NaN  \n",
       "1  6:15  6:25   N  NaN   N  NaN  \n",
       "2  6:20  6:30   N  NaN   N  NaN  \n",
       "3  6:25  6:34   N  NaN   N  NaN  \n",
       "4  6:30  6:37   N  NaN   N  NaN  "
      ]
     },
     "execution_count": 5,
     "metadata": {},
     "output_type": "execute_result"
    }
   ],
   "source": [
    "AFSNT.head()"
   ]
  },
  {
   "cell_type": "code",
   "execution_count": 6,
   "metadata": {},
   "outputs": [
    {
     "data": {
      "text/plain": [
       "987709"
      ]
     },
     "execution_count": 6,
     "metadata": {},
     "output_type": "execute_result"
    }
   ],
   "source": [
    "len(AFSNT)"
   ]
  },
  {
   "cell_type": "code",
   "execution_count": 28,
   "metadata": {
    "collapsed": true
   },
   "outputs": [
    {
     "data": {
      "text/plain": [
       "ARP3     61432\n",
       "ARP1     34902\n",
       "ARP2     12958\n",
       "ARP6      4137\n",
       "ARP8      4024\n",
       "ARP4      3675\n",
       "ARP15     1797\n",
       "ARP5      1146\n",
       "ARP9      1062\n",
       "ARP13      782\n",
       "ARP12      530\n",
       "ARP11      351\n",
       "ARP7       211\n",
       "ARP14      188\n",
       "ARP10        1\n",
       "Name: ARP, dtype: int64"
      ]
     },
     "execution_count": 28,
     "metadata": {},
     "output_type": "execute_result"
    }
   ],
   "source": [
    "AFSNT[(AFSNT[\"DLY\"] == \"Y\") | (AFSNT[\"CNL\"] == \"Y\")][\"ARP\"].value_counts()"
   ]
  },
  {
   "cell_type": "code",
   "execution_count": 54,
   "metadata": {
    "collapsed": true
   },
   "outputs": [
    {
     "data": {
      "text/plain": [
       "ARP3     393607\n",
       "ARP1     310665\n",
       "ARP2     121513\n",
       "ARP6      34472\n",
       "ARP4      33623\n",
       "ARP8      33195\n",
       "ARP5      16321\n",
       "ARP15     13696\n",
       "ARP9      12759\n",
       "ARP12      4880\n",
       "ARP13      4248\n",
       "ARP11      3658\n",
       "ARP7       3163\n",
       "ARP14      1897\n",
       "ARP10        12\n",
       "Name: ARP, dtype: int64"
      ]
     },
     "execution_count": 54,
     "metadata": {},
     "output_type": "execute_result"
    }
   ],
   "source": [
    "AFSNT[\"ARP\"].value_counts()"
   ]
  },
  {
   "cell_type": "code",
   "execution_count": 17,
   "metadata": {
    "collapsed": true
   },
   "outputs": [
    {
     "data": {
      "text/plain": [
       "ARP3     393429\n",
       "ARP1     308825\n",
       "ARP2     121030\n",
       "ARP6      34427\n",
       "ARP4      33515\n",
       "ARP8      33191\n",
       "ARP15     16383\n",
       "ARP5      16318\n",
       "ARP9      12761\n",
       "ARP12      4877\n",
       "ARP13      4248\n",
       "ARP11      3653\n",
       "ARP7       3149\n",
       "ARP14      1896\n",
       "ARP10         7\n",
       "Name: ODP, dtype: int64"
      ]
     },
     "execution_count": 17,
     "metadata": {},
     "output_type": "execute_result"
    }
   ],
   "source": [
    "AFSNT[\"ODP\"].value_counts()"
   ]
  },
  {
   "cell_type": "code",
   "execution_count": 18,
   "metadata": {
    "collapsed": true
   },
   "outputs": [
    {
     "data": {
      "text/plain": [
       "J    276447\n",
       "A    177187\n",
       "B    135235\n",
       "H    131935\n",
       "I     95074\n",
       "F     88110\n",
       "L     83712\n",
       "C         3\n",
       "D         2\n",
       "K         2\n",
       "E         1\n",
       "G         1\n",
       "Name: FLO, dtype: int64"
      ]
     },
     "execution_count": 18,
     "metadata": {},
     "output_type": "execute_result"
    }
   ],
   "source": [
    "AFSNT[\"FLO\"].value_counts()"
   ]
  },
  {
   "cell_type": "code",
   "execution_count": 19,
   "metadata": {
    "collapsed": true
   },
   "outputs": [
    {
     "data": {
      "text/plain": [
       "L1804     1832\n",
       "L1805     1828\n",
       "L1807     1828\n",
       "L1808     1828\n",
       "J1534     1826\n",
       "L1806     1826\n",
       "A1736     1824\n",
       "J1911     1824\n",
       "F1703     1822\n",
       "A1233     1822\n",
       "J1806     1822\n",
       "B1029     1822\n",
       "A1198     1822\n",
       "J1535     1822\n",
       "I1320     1822\n",
       "J1416     1822\n",
       "A1234     1822\n",
       "J1910     1822\n",
       "F1701     1822\n",
       "J1808     1822\n",
       "H1705     1822\n",
       "B1207     1822\n",
       "J1637     1822\n",
       "A1735     1822\n",
       "L1906     1822\n",
       "J1814     1822\n",
       "H1513     1822\n",
       "B1021     1822\n",
       "J1006     1822\n",
       "J1334     1822\n",
       "          ... \n",
       "A1336A       1\n",
       "A1459        1\n",
       "I1954        1\n",
       "A1511        1\n",
       "J1077D       1\n",
       "B1041        1\n",
       "J1493        1\n",
       "A1861A       1\n",
       "H1591        1\n",
       "F1594F       1\n",
       "B1803M       1\n",
       "J1495        1\n",
       "F1268F       1\n",
       "A1107A       1\n",
       "J1478        1\n",
       "H1594        1\n",
       "G1095A       1\n",
       "A1123A       1\n",
       "L1005        1\n",
       "A1463        1\n",
       "J1931        1\n",
       "J1148F       1\n",
       "J1800        1\n",
       "A1858A       1\n",
       "F1504F       1\n",
       "F1153F       1\n",
       "H1941M       1\n",
       "A1862A       1\n",
       "H1793        1\n",
       "J1135T       1\n",
       "Name: FLT, Length: 1541, dtype: int64"
      ]
     },
     "execution_count": 19,
     "metadata": {},
     "output_type": "execute_result"
    }
   ],
   "source": [
    "AFSNT[\"FLT\"].value_counts()"
   ]
  },
  {
   "cell_type": "code",
   "execution_count": 80,
   "metadata": {
    "collapsed": true
   },
   "outputs": [
    {
     "data": {
      "text/plain": [
       "A    493992\n",
       "D    493717\n",
       "Name: AOD, dtype: int64"
      ]
     },
     "execution_count": 80,
     "metadata": {},
     "output_type": "execute_result"
    }
   ],
   "source": [
    "AFSNT[\"AOD\"].value_counts()"
   ]
  },
  {
   "cell_type": "markdown",
   "metadata": {},
   "source": [
    "## 분석할 카피본 만들기"
   ]
  },
  {
   "cell_type": "code",
   "execution_count": 3,
   "metadata": {},
   "outputs": [],
   "source": [
    "Test = AFSNT.copy()"
   ]
  },
  {
   "cell_type": "code",
   "execution_count": 4,
   "metadata": {},
   "outputs": [],
   "source": [
    "Test.drop([\"SDT_YY\", \"SDT_DD\", \"SDT_MM\", \"REG\", \"IRR\", \"STT\", \"ATT\"], axis = 1, inplace = True)"
   ]
  },
  {
   "cell_type": "code",
   "execution_count": 36,
   "metadata": {
    "scrolled": true
   },
   "outputs": [
    {
     "data": {
      "text/html": [
       "<div>\n",
       "<style scoped>\n",
       "    .dataframe tbody tr th:only-of-type {\n",
       "        vertical-align: middle;\n",
       "    }\n",
       "\n",
       "    .dataframe tbody tr th {\n",
       "        vertical-align: top;\n",
       "    }\n",
       "\n",
       "    .dataframe thead th {\n",
       "        text-align: right;\n",
       "    }\n",
       "</style>\n",
       "<table border=\"1\" class=\"dataframe\">\n",
       "  <thead>\n",
       "    <tr style=\"text-align: right;\">\n",
       "      <th></th>\n",
       "      <th>SDT_DY</th>\n",
       "      <th>ARP</th>\n",
       "      <th>ODP</th>\n",
       "      <th>FLO</th>\n",
       "      <th>FLT</th>\n",
       "      <th>AOD</th>\n",
       "      <th>DLY</th>\n",
       "      <th>DRR</th>\n",
       "      <th>CNL</th>\n",
       "      <th>CNR</th>\n",
       "    </tr>\n",
       "  </thead>\n",
       "  <tbody>\n",
       "    <tr>\n",
       "      <th>7</th>\n",
       "      <td>일</td>\n",
       "      <td>ARP1</td>\n",
       "      <td>ARP3</td>\n",
       "      <td>A</td>\n",
       "      <td>A1907</td>\n",
       "      <td>D</td>\n",
       "      <td>Y</td>\n",
       "      <td>C01</td>\n",
       "      <td>N</td>\n",
       "      <td>NaN</td>\n",
       "    </tr>\n",
       "    <tr>\n",
       "      <th>24</th>\n",
       "      <td>일</td>\n",
       "      <td>ARP2</td>\n",
       "      <td>ARP3</td>\n",
       "      <td>I</td>\n",
       "      <td>I1561</td>\n",
       "      <td>D</td>\n",
       "      <td>Y</td>\n",
       "      <td>C02</td>\n",
       "      <td>N</td>\n",
       "      <td>NaN</td>\n",
       "    </tr>\n",
       "    <tr>\n",
       "      <th>48</th>\n",
       "      <td>일</td>\n",
       "      <td>ARP3</td>\n",
       "      <td>ARP1</td>\n",
       "      <td>A</td>\n",
       "      <td>A1907</td>\n",
       "      <td>A</td>\n",
       "      <td>Y</td>\n",
       "      <td>C01</td>\n",
       "      <td>N</td>\n",
       "      <td>NaN</td>\n",
       "    </tr>\n",
       "    <tr>\n",
       "      <th>75</th>\n",
       "      <td>일</td>\n",
       "      <td>ARP2</td>\n",
       "      <td>ARP3</td>\n",
       "      <td>H</td>\n",
       "      <td>H1503</td>\n",
       "      <td>D</td>\n",
       "      <td>Y</td>\n",
       "      <td>D01</td>\n",
       "      <td>N</td>\n",
       "      <td>NaN</td>\n",
       "    </tr>\n",
       "    <tr>\n",
       "      <th>87</th>\n",
       "      <td>일</td>\n",
       "      <td>ARP3</td>\n",
       "      <td>ARP1</td>\n",
       "      <td>H</td>\n",
       "      <td>H1102</td>\n",
       "      <td>D</td>\n",
       "      <td>Y</td>\n",
       "      <td>C02</td>\n",
       "      <td>N</td>\n",
       "      <td>NaN</td>\n",
       "    </tr>\n",
       "    <tr>\n",
       "      <th>91</th>\n",
       "      <td>일</td>\n",
       "      <td>ARP15</td>\n",
       "      <td>ARP2</td>\n",
       "      <td>J</td>\n",
       "      <td>J1404</td>\n",
       "      <td>D</td>\n",
       "      <td>Y</td>\n",
       "      <td>D01</td>\n",
       "      <td>N</td>\n",
       "      <td>NaN</td>\n",
       "    </tr>\n",
       "    <tr>\n",
       "      <th>105</th>\n",
       "      <td>일</td>\n",
       "      <td>ARP3</td>\n",
       "      <td>ARP1</td>\n",
       "      <td>A</td>\n",
       "      <td>A1906</td>\n",
       "      <td>D</td>\n",
       "      <td>Y</td>\n",
       "      <td>C02</td>\n",
       "      <td>N</td>\n",
       "      <td>NaN</td>\n",
       "    </tr>\n",
       "    <tr>\n",
       "      <th>111</th>\n",
       "      <td>일</td>\n",
       "      <td>ARP3</td>\n",
       "      <td>ARP1</td>\n",
       "      <td>I</td>\n",
       "      <td>I1306</td>\n",
       "      <td>D</td>\n",
       "      <td>Y</td>\n",
       "      <td>C02</td>\n",
       "      <td>N</td>\n",
       "      <td>NaN</td>\n",
       "    </tr>\n",
       "    <tr>\n",
       "      <th>152</th>\n",
       "      <td>일</td>\n",
       "      <td>ARP2</td>\n",
       "      <td>ARP3</td>\n",
       "      <td>H</td>\n",
       "      <td>H1505</td>\n",
       "      <td>D</td>\n",
       "      <td>Y</td>\n",
       "      <td>C02</td>\n",
       "      <td>N</td>\n",
       "      <td>NaN</td>\n",
       "    </tr>\n",
       "    <tr>\n",
       "      <th>154</th>\n",
       "      <td>일</td>\n",
       "      <td>ARP4</td>\n",
       "      <td>ARP3</td>\n",
       "      <td>L</td>\n",
       "      <td>L1803</td>\n",
       "      <td>D</td>\n",
       "      <td>Y</td>\n",
       "      <td>C01</td>\n",
       "      <td>N</td>\n",
       "      <td>NaN</td>\n",
       "    </tr>\n",
       "    <tr>\n",
       "      <th>157</th>\n",
       "      <td>일</td>\n",
       "      <td>ARP3</td>\n",
       "      <td>ARP1</td>\n",
       "      <td>A</td>\n",
       "      <td>A1954</td>\n",
       "      <td>D</td>\n",
       "      <td>Y</td>\n",
       "      <td>C01</td>\n",
       "      <td>N</td>\n",
       "      <td>NaN</td>\n",
       "    </tr>\n",
       "    <tr>\n",
       "      <th>184</th>\n",
       "      <td>일</td>\n",
       "      <td>ARP1</td>\n",
       "      <td>ARP3</td>\n",
       "      <td>A</td>\n",
       "      <td>A1906</td>\n",
       "      <td>A</td>\n",
       "      <td>Y</td>\n",
       "      <td>C02</td>\n",
       "      <td>N</td>\n",
       "      <td>NaN</td>\n",
       "    </tr>\n",
       "    <tr>\n",
       "      <th>191</th>\n",
       "      <td>일</td>\n",
       "      <td>ARP3</td>\n",
       "      <td>ARP1</td>\n",
       "      <td>H</td>\n",
       "      <td>H1104</td>\n",
       "      <td>D</td>\n",
       "      <td>Y</td>\n",
       "      <td>C02</td>\n",
       "      <td>N</td>\n",
       "      <td>NaN</td>\n",
       "    </tr>\n",
       "    <tr>\n",
       "      <th>231</th>\n",
       "      <td>일</td>\n",
       "      <td>ARP1</td>\n",
       "      <td>ARP3</td>\n",
       "      <td>A</td>\n",
       "      <td>A1915</td>\n",
       "      <td>D</td>\n",
       "      <td>Y</td>\n",
       "      <td>C02</td>\n",
       "      <td>N</td>\n",
       "      <td>NaN</td>\n",
       "    </tr>\n",
       "    <tr>\n",
       "      <th>235</th>\n",
       "      <td>일</td>\n",
       "      <td>ARP3</td>\n",
       "      <td>ARP4</td>\n",
       "      <td>L</td>\n",
       "      <td>L1803</td>\n",
       "      <td>A</td>\n",
       "      <td>Y</td>\n",
       "      <td>C01</td>\n",
       "      <td>N</td>\n",
       "      <td>NaN</td>\n",
       "    </tr>\n",
       "    <tr>\n",
       "      <th>239</th>\n",
       "      <td>일</td>\n",
       "      <td>ARP1</td>\n",
       "      <td>ARP3</td>\n",
       "      <td>F</td>\n",
       "      <td>F1209</td>\n",
       "      <td>D</td>\n",
       "      <td>Y</td>\n",
       "      <td>C02</td>\n",
       "      <td>N</td>\n",
       "      <td>NaN</td>\n",
       "    </tr>\n",
       "    <tr>\n",
       "      <th>245</th>\n",
       "      <td>일</td>\n",
       "      <td>ARP1</td>\n",
       "      <td>ARP3</td>\n",
       "      <td>A</td>\n",
       "      <td>A1954</td>\n",
       "      <td>A</td>\n",
       "      <td>Y</td>\n",
       "      <td>C01</td>\n",
       "      <td>N</td>\n",
       "      <td>NaN</td>\n",
       "    </tr>\n",
       "    <tr>\n",
       "      <th>248</th>\n",
       "      <td>일</td>\n",
       "      <td>ARP2</td>\n",
       "      <td>ARP15</td>\n",
       "      <td>J</td>\n",
       "      <td>J1409</td>\n",
       "      <td>D</td>\n",
       "      <td>Y</td>\n",
       "      <td>C02</td>\n",
       "      <td>N</td>\n",
       "      <td>NaN</td>\n",
       "    </tr>\n",
       "    <tr>\n",
       "      <th>256</th>\n",
       "      <td>일</td>\n",
       "      <td>ARP3</td>\n",
       "      <td>ARP2</td>\n",
       "      <td>B</td>\n",
       "      <td>B1104</td>\n",
       "      <td>D</td>\n",
       "      <td>Y</td>\n",
       "      <td>C02</td>\n",
       "      <td>N</td>\n",
       "      <td>NaN</td>\n",
       "    </tr>\n",
       "    <tr>\n",
       "      <th>258</th>\n",
       "      <td>일</td>\n",
       "      <td>ARP3</td>\n",
       "      <td>ARP8</td>\n",
       "      <td>L</td>\n",
       "      <td>L1904</td>\n",
       "      <td>D</td>\n",
       "      <td>Y</td>\n",
       "      <td>C02</td>\n",
       "      <td>N</td>\n",
       "      <td>NaN</td>\n",
       "    </tr>\n",
       "    <tr>\n",
       "      <th>291</th>\n",
       "      <td>일</td>\n",
       "      <td>ARP1</td>\n",
       "      <td>ARP3</td>\n",
       "      <td>A</td>\n",
       "      <td>A1983</td>\n",
       "      <td>D</td>\n",
       "      <td>Y</td>\n",
       "      <td>C02</td>\n",
       "      <td>N</td>\n",
       "      <td>NaN</td>\n",
       "    </tr>\n",
       "    <tr>\n",
       "      <th>304</th>\n",
       "      <td>일</td>\n",
       "      <td>ARP3</td>\n",
       "      <td>ARP1</td>\n",
       "      <td>A</td>\n",
       "      <td>A1915</td>\n",
       "      <td>A</td>\n",
       "      <td>Y</td>\n",
       "      <td>C02</td>\n",
       "      <td>N</td>\n",
       "      <td>NaN</td>\n",
       "    </tr>\n",
       "    <tr>\n",
       "      <th>315</th>\n",
       "      <td>일</td>\n",
       "      <td>ARP1</td>\n",
       "      <td>ARP3</td>\n",
       "      <td>H</td>\n",
       "      <td>H1113</td>\n",
       "      <td>D</td>\n",
       "      <td>Y</td>\n",
       "      <td>C02</td>\n",
       "      <td>N</td>\n",
       "      <td>NaN</td>\n",
       "    </tr>\n",
       "    <tr>\n",
       "      <th>346</th>\n",
       "      <td>일</td>\n",
       "      <td>ARP8</td>\n",
       "      <td>ARP3</td>\n",
       "      <td>L</td>\n",
       "      <td>L1905</td>\n",
       "      <td>D</td>\n",
       "      <td>Y</td>\n",
       "      <td>C02</td>\n",
       "      <td>N</td>\n",
       "      <td>NaN</td>\n",
       "    </tr>\n",
       "    <tr>\n",
       "      <th>351</th>\n",
       "      <td>일</td>\n",
       "      <td>ARP3</td>\n",
       "      <td>ARP1</td>\n",
       "      <td>A</td>\n",
       "      <td>A1914</td>\n",
       "      <td>D</td>\n",
       "      <td>Y</td>\n",
       "      <td>C02</td>\n",
       "      <td>N</td>\n",
       "      <td>NaN</td>\n",
       "    </tr>\n",
       "    <tr>\n",
       "      <th>355</th>\n",
       "      <td>일</td>\n",
       "      <td>ARP3</td>\n",
       "      <td>ARP13</td>\n",
       "      <td>F</td>\n",
       "      <td>F1302</td>\n",
       "      <td>D</td>\n",
       "      <td>Y</td>\n",
       "      <td>C02</td>\n",
       "      <td>N</td>\n",
       "      <td>NaN</td>\n",
       "    </tr>\n",
       "    <tr>\n",
       "      <th>356</th>\n",
       "      <td>일</td>\n",
       "      <td>ARP1</td>\n",
       "      <td>ARP3</td>\n",
       "      <td>A</td>\n",
       "      <td>A1921</td>\n",
       "      <td>D</td>\n",
       "      <td>Y</td>\n",
       "      <td>C02</td>\n",
       "      <td>N</td>\n",
       "      <td>NaN</td>\n",
       "    </tr>\n",
       "    <tr>\n",
       "      <th>396</th>\n",
       "      <td>일</td>\n",
       "      <td>ARP3</td>\n",
       "      <td>ARP1</td>\n",
       "      <td>L</td>\n",
       "      <td>L1764</td>\n",
       "      <td>D</td>\n",
       "      <td>Y</td>\n",
       "      <td>C02</td>\n",
       "      <td>N</td>\n",
       "      <td>NaN</td>\n",
       "    </tr>\n",
       "    <tr>\n",
       "      <th>425</th>\n",
       "      <td>일</td>\n",
       "      <td>ARP1</td>\n",
       "      <td>ARP3</td>\n",
       "      <td>A</td>\n",
       "      <td>A1914</td>\n",
       "      <td>A</td>\n",
       "      <td>Y</td>\n",
       "      <td>C02</td>\n",
       "      <td>N</td>\n",
       "      <td>NaN</td>\n",
       "    </tr>\n",
       "    <tr>\n",
       "      <th>426</th>\n",
       "      <td>일</td>\n",
       "      <td>ARP3</td>\n",
       "      <td>ARP1</td>\n",
       "      <td>A</td>\n",
       "      <td>A1984</td>\n",
       "      <td>D</td>\n",
       "      <td>Y</td>\n",
       "      <td>C02</td>\n",
       "      <td>N</td>\n",
       "      <td>NaN</td>\n",
       "    </tr>\n",
       "    <tr>\n",
       "      <th>...</th>\n",
       "      <td>...</td>\n",
       "      <td>...</td>\n",
       "      <td>...</td>\n",
       "      <td>...</td>\n",
       "      <td>...</td>\n",
       "      <td>...</td>\n",
       "      <td>...</td>\n",
       "      <td>...</td>\n",
       "      <td>...</td>\n",
       "      <td>...</td>\n",
       "    </tr>\n",
       "    <tr>\n",
       "      <th>987510</th>\n",
       "      <td>일</td>\n",
       "      <td>ARP1</td>\n",
       "      <td>ARP3</td>\n",
       "      <td>A</td>\n",
       "      <td>A1991</td>\n",
       "      <td>D</td>\n",
       "      <td>Y</td>\n",
       "      <td>C02</td>\n",
       "      <td>N</td>\n",
       "      <td>NaN</td>\n",
       "    </tr>\n",
       "    <tr>\n",
       "      <th>987520</th>\n",
       "      <td>일</td>\n",
       "      <td>ARP1</td>\n",
       "      <td>ARP3</td>\n",
       "      <td>F</td>\n",
       "      <td>F1231</td>\n",
       "      <td>D</td>\n",
       "      <td>Y</td>\n",
       "      <td>C02</td>\n",
       "      <td>N</td>\n",
       "      <td>NaN</td>\n",
       "    </tr>\n",
       "    <tr>\n",
       "      <th>987529</th>\n",
       "      <td>일</td>\n",
       "      <td>ARP3</td>\n",
       "      <td>ARP12</td>\n",
       "      <td>A</td>\n",
       "      <td>A1182</td>\n",
       "      <td>D</td>\n",
       "      <td>Y</td>\n",
       "      <td>C02</td>\n",
       "      <td>N</td>\n",
       "      <td>NaN</td>\n",
       "    </tr>\n",
       "    <tr>\n",
       "      <th>987531</th>\n",
       "      <td>일</td>\n",
       "      <td>ARP15</td>\n",
       "      <td>ARP2</td>\n",
       "      <td>J</td>\n",
       "      <td>J1410</td>\n",
       "      <td>D</td>\n",
       "      <td>Y</td>\n",
       "      <td>C03</td>\n",
       "      <td>N</td>\n",
       "      <td>NaN</td>\n",
       "    </tr>\n",
       "    <tr>\n",
       "      <th>987535</th>\n",
       "      <td>일</td>\n",
       "      <td>ARP1</td>\n",
       "      <td>ARP3</td>\n",
       "      <td>F</td>\n",
       "      <td>F1226</td>\n",
       "      <td>A</td>\n",
       "      <td>Y</td>\n",
       "      <td>C01</td>\n",
       "      <td>N</td>\n",
       "      <td>NaN</td>\n",
       "    </tr>\n",
       "    <tr>\n",
       "      <th>987538</th>\n",
       "      <td>일</td>\n",
       "      <td>ARP1</td>\n",
       "      <td>ARP3</td>\n",
       "      <td>I</td>\n",
       "      <td>I1339</td>\n",
       "      <td>D</td>\n",
       "      <td>Y</td>\n",
       "      <td>C02</td>\n",
       "      <td>N</td>\n",
       "      <td>NaN</td>\n",
       "    </tr>\n",
       "    <tr>\n",
       "      <th>987539</th>\n",
       "      <td>일</td>\n",
       "      <td>ARP4</td>\n",
       "      <td>ARP3</td>\n",
       "      <td>L</td>\n",
       "      <td>L1809</td>\n",
       "      <td>D</td>\n",
       "      <td>Y</td>\n",
       "      <td>C02</td>\n",
       "      <td>N</td>\n",
       "      <td>NaN</td>\n",
       "    </tr>\n",
       "    <tr>\n",
       "      <th>987545</th>\n",
       "      <td>일</td>\n",
       "      <td>ARP2</td>\n",
       "      <td>ARP1</td>\n",
       "      <td>H</td>\n",
       "      <td>H1961F</td>\n",
       "      <td>D</td>\n",
       "      <td>Y</td>\n",
       "      <td>C02</td>\n",
       "      <td>N</td>\n",
       "      <td>NaN</td>\n",
       "    </tr>\n",
       "    <tr>\n",
       "      <th>987548</th>\n",
       "      <td>일</td>\n",
       "      <td>ARP1</td>\n",
       "      <td>ARP3</td>\n",
       "      <td>F</td>\n",
       "      <td>F1233</td>\n",
       "      <td>D</td>\n",
       "      <td>Y</td>\n",
       "      <td>C02</td>\n",
       "      <td>N</td>\n",
       "      <td>NaN</td>\n",
       "    </tr>\n",
       "    <tr>\n",
       "      <th>987554</th>\n",
       "      <td>일</td>\n",
       "      <td>ARP3</td>\n",
       "      <td>ARP4</td>\n",
       "      <td>B</td>\n",
       "      <td>B1206</td>\n",
       "      <td>D</td>\n",
       "      <td>Y</td>\n",
       "      <td>C02</td>\n",
       "      <td>N</td>\n",
       "      <td>NaN</td>\n",
       "    </tr>\n",
       "    <tr>\n",
       "      <th>987558</th>\n",
       "      <td>일</td>\n",
       "      <td>ARP12</td>\n",
       "      <td>ARP1</td>\n",
       "      <td>J</td>\n",
       "      <td>J1637</td>\n",
       "      <td>D</td>\n",
       "      <td>Y</td>\n",
       "      <td>C02</td>\n",
       "      <td>N</td>\n",
       "      <td>NaN</td>\n",
       "    </tr>\n",
       "    <tr>\n",
       "      <th>987559</th>\n",
       "      <td>일</td>\n",
       "      <td>ARP3</td>\n",
       "      <td>ARP2</td>\n",
       "      <td>B</td>\n",
       "      <td>B1118</td>\n",
       "      <td>D</td>\n",
       "      <td>Y</td>\n",
       "      <td>C02</td>\n",
       "      <td>N</td>\n",
       "      <td>NaN</td>\n",
       "    </tr>\n",
       "    <tr>\n",
       "      <th>987577</th>\n",
       "      <td>일</td>\n",
       "      <td>ARP3</td>\n",
       "      <td>ARP1</td>\n",
       "      <td>A</td>\n",
       "      <td>A1985</td>\n",
       "      <td>A</td>\n",
       "      <td>Y</td>\n",
       "      <td>C02</td>\n",
       "      <td>N</td>\n",
       "      <td>NaN</td>\n",
       "    </tr>\n",
       "    <tr>\n",
       "      <th>987596</th>\n",
       "      <td>일</td>\n",
       "      <td>ARP12</td>\n",
       "      <td>ARP3</td>\n",
       "      <td>A</td>\n",
       "      <td>A1182</td>\n",
       "      <td>A</td>\n",
       "      <td>Y</td>\n",
       "      <td>C02</td>\n",
       "      <td>N</td>\n",
       "      <td>NaN</td>\n",
       "    </tr>\n",
       "    <tr>\n",
       "      <th>987608</th>\n",
       "      <td>일</td>\n",
       "      <td>ARP3</td>\n",
       "      <td>ARP6</td>\n",
       "      <td>A</td>\n",
       "      <td>A1236</td>\n",
       "      <td>D</td>\n",
       "      <td>Y</td>\n",
       "      <td>C02</td>\n",
       "      <td>N</td>\n",
       "      <td>NaN</td>\n",
       "    </tr>\n",
       "    <tr>\n",
       "      <th>987614</th>\n",
       "      <td>일</td>\n",
       "      <td>ARP2</td>\n",
       "      <td>ARP1</td>\n",
       "      <td>J</td>\n",
       "      <td>J1129</td>\n",
       "      <td>D</td>\n",
       "      <td>Y</td>\n",
       "      <td>C02</td>\n",
       "      <td>N</td>\n",
       "      <td>NaN</td>\n",
       "    </tr>\n",
       "    <tr>\n",
       "      <th>987626</th>\n",
       "      <td>일</td>\n",
       "      <td>ARP3</td>\n",
       "      <td>ARP1</td>\n",
       "      <td>A</td>\n",
       "      <td>A1994</td>\n",
       "      <td>D</td>\n",
       "      <td>Y</td>\n",
       "      <td>C02</td>\n",
       "      <td>N</td>\n",
       "      <td>NaN</td>\n",
       "    </tr>\n",
       "    <tr>\n",
       "      <th>987633</th>\n",
       "      <td>일</td>\n",
       "      <td>ARP3</td>\n",
       "      <td>ARP1</td>\n",
       "      <td>F</td>\n",
       "      <td>F1233</td>\n",
       "      <td>A</td>\n",
       "      <td>Y</td>\n",
       "      <td>C02</td>\n",
       "      <td>N</td>\n",
       "      <td>NaN</td>\n",
       "    </tr>\n",
       "    <tr>\n",
       "      <th>987634</th>\n",
       "      <td>일</td>\n",
       "      <td>ARP3</td>\n",
       "      <td>ARP1</td>\n",
       "      <td>A</td>\n",
       "      <td>A1996</td>\n",
       "      <td>D</td>\n",
       "      <td>Y</td>\n",
       "      <td>C02</td>\n",
       "      <td>N</td>\n",
       "      <td>NaN</td>\n",
       "    </tr>\n",
       "    <tr>\n",
       "      <th>987638</th>\n",
       "      <td>일</td>\n",
       "      <td>ARP4</td>\n",
       "      <td>ARP3</td>\n",
       "      <td>B</td>\n",
       "      <td>B1206</td>\n",
       "      <td>A</td>\n",
       "      <td>Y</td>\n",
       "      <td>C02</td>\n",
       "      <td>N</td>\n",
       "      <td>NaN</td>\n",
       "    </tr>\n",
       "    <tr>\n",
       "      <th>987646</th>\n",
       "      <td>일</td>\n",
       "      <td>ARP3</td>\n",
       "      <td>ARP2</td>\n",
       "      <td>J</td>\n",
       "      <td>J1021</td>\n",
       "      <td>D</td>\n",
       "      <td>Y</td>\n",
       "      <td>C02</td>\n",
       "      <td>N</td>\n",
       "      <td>NaN</td>\n",
       "    </tr>\n",
       "    <tr>\n",
       "      <th>987654</th>\n",
       "      <td>일</td>\n",
       "      <td>ARP12</td>\n",
       "      <td>ARP3</td>\n",
       "      <td>A</td>\n",
       "      <td>A1181</td>\n",
       "      <td>D</td>\n",
       "      <td>Y</td>\n",
       "      <td>C02</td>\n",
       "      <td>N</td>\n",
       "      <td>NaN</td>\n",
       "    </tr>\n",
       "    <tr>\n",
       "      <th>987655</th>\n",
       "      <td>일</td>\n",
       "      <td>ARP3</td>\n",
       "      <td>ARP1</td>\n",
       "      <td>A</td>\n",
       "      <td>A1998</td>\n",
       "      <td>D</td>\n",
       "      <td>Y</td>\n",
       "      <td>C02</td>\n",
       "      <td>N</td>\n",
       "      <td>NaN</td>\n",
       "    </tr>\n",
       "    <tr>\n",
       "      <th>987659</th>\n",
       "      <td>일</td>\n",
       "      <td>ARP3</td>\n",
       "      <td>ARP4</td>\n",
       "      <td>L</td>\n",
       "      <td>L1810</td>\n",
       "      <td>D</td>\n",
       "      <td>Y</td>\n",
       "      <td>C02</td>\n",
       "      <td>N</td>\n",
       "      <td>NaN</td>\n",
       "    </tr>\n",
       "    <tr>\n",
       "      <th>987661</th>\n",
       "      <td>일</td>\n",
       "      <td>ARP3</td>\n",
       "      <td>ARP1</td>\n",
       "      <td>F</td>\n",
       "      <td>F1232</td>\n",
       "      <td>D</td>\n",
       "      <td>Y</td>\n",
       "      <td>C02</td>\n",
       "      <td>N</td>\n",
       "      <td>NaN</td>\n",
       "    </tr>\n",
       "    <tr>\n",
       "      <th>987664</th>\n",
       "      <td>일</td>\n",
       "      <td>ARP3</td>\n",
       "      <td>ARP1</td>\n",
       "      <td>H</td>\n",
       "      <td>H1134</td>\n",
       "      <td>D</td>\n",
       "      <td>Y</td>\n",
       "      <td>C02</td>\n",
       "      <td>N</td>\n",
       "      <td>NaN</td>\n",
       "    </tr>\n",
       "    <tr>\n",
       "      <th>987665</th>\n",
       "      <td>일</td>\n",
       "      <td>ARP3</td>\n",
       "      <td>ARP1</td>\n",
       "      <td>F</td>\n",
       "      <td>F1282</td>\n",
       "      <td>D</td>\n",
       "      <td>Y</td>\n",
       "      <td>C02</td>\n",
       "      <td>N</td>\n",
       "      <td>NaN</td>\n",
       "    </tr>\n",
       "    <tr>\n",
       "      <th>987670</th>\n",
       "      <td>일</td>\n",
       "      <td>ARP3</td>\n",
       "      <td>ARP6</td>\n",
       "      <td>I</td>\n",
       "      <td>I1560</td>\n",
       "      <td>D</td>\n",
       "      <td>Y</td>\n",
       "      <td>C02</td>\n",
       "      <td>N</td>\n",
       "      <td>NaN</td>\n",
       "    </tr>\n",
       "    <tr>\n",
       "      <th>987685</th>\n",
       "      <td>일</td>\n",
       "      <td>ARP1</td>\n",
       "      <td>ARP3</td>\n",
       "      <td>A</td>\n",
       "      <td>A1994</td>\n",
       "      <td>A</td>\n",
       "      <td>Y</td>\n",
       "      <td>C02</td>\n",
       "      <td>N</td>\n",
       "      <td>NaN</td>\n",
       "    </tr>\n",
       "    <tr>\n",
       "      <th>987686</th>\n",
       "      <td>일</td>\n",
       "      <td>ARP3</td>\n",
       "      <td>ARP12</td>\n",
       "      <td>A</td>\n",
       "      <td>A1181</td>\n",
       "      <td>A</td>\n",
       "      <td>Y</td>\n",
       "      <td>C02</td>\n",
       "      <td>N</td>\n",
       "      <td>NaN</td>\n",
       "    </tr>\n",
       "  </tbody>\n",
       "</table>\n",
       "<p>127196 rows × 10 columns</p>\n",
       "</div>"
      ],
      "text/plain": [
       "       SDT_DY    ARP    ODP FLO     FLT AOD DLY  DRR CNL  CNR\n",
       "7           일   ARP1   ARP3   A   A1907   D   Y  C01   N  NaN\n",
       "24          일   ARP2   ARP3   I   I1561   D   Y  C02   N  NaN\n",
       "48          일   ARP3   ARP1   A   A1907   A   Y  C01   N  NaN\n",
       "75          일   ARP2   ARP3   H   H1503   D   Y  D01   N  NaN\n",
       "87          일   ARP3   ARP1   H   H1102   D   Y  C02   N  NaN\n",
       "91          일  ARP15   ARP2   J   J1404   D   Y  D01   N  NaN\n",
       "105         일   ARP3   ARP1   A   A1906   D   Y  C02   N  NaN\n",
       "111         일   ARP3   ARP1   I   I1306   D   Y  C02   N  NaN\n",
       "152         일   ARP2   ARP3   H   H1505   D   Y  C02   N  NaN\n",
       "154         일   ARP4   ARP3   L   L1803   D   Y  C01   N  NaN\n",
       "157         일   ARP3   ARP1   A   A1954   D   Y  C01   N  NaN\n",
       "184         일   ARP1   ARP3   A   A1906   A   Y  C02   N  NaN\n",
       "191         일   ARP3   ARP1   H   H1104   D   Y  C02   N  NaN\n",
       "231         일   ARP1   ARP3   A   A1915   D   Y  C02   N  NaN\n",
       "235         일   ARP3   ARP4   L   L1803   A   Y  C01   N  NaN\n",
       "239         일   ARP1   ARP3   F   F1209   D   Y  C02   N  NaN\n",
       "245         일   ARP1   ARP3   A   A1954   A   Y  C01   N  NaN\n",
       "248         일   ARP2  ARP15   J   J1409   D   Y  C02   N  NaN\n",
       "256         일   ARP3   ARP2   B   B1104   D   Y  C02   N  NaN\n",
       "258         일   ARP3   ARP8   L   L1904   D   Y  C02   N  NaN\n",
       "291         일   ARP1   ARP3   A   A1983   D   Y  C02   N  NaN\n",
       "304         일   ARP3   ARP1   A   A1915   A   Y  C02   N  NaN\n",
       "315         일   ARP1   ARP3   H   H1113   D   Y  C02   N  NaN\n",
       "346         일   ARP8   ARP3   L   L1905   D   Y  C02   N  NaN\n",
       "351         일   ARP3   ARP1   A   A1914   D   Y  C02   N  NaN\n",
       "355         일   ARP3  ARP13   F   F1302   D   Y  C02   N  NaN\n",
       "356         일   ARP1   ARP3   A   A1921   D   Y  C02   N  NaN\n",
       "396         일   ARP3   ARP1   L   L1764   D   Y  C02   N  NaN\n",
       "425         일   ARP1   ARP3   A   A1914   A   Y  C02   N  NaN\n",
       "426         일   ARP3   ARP1   A   A1984   D   Y  C02   N  NaN\n",
       "...       ...    ...    ...  ..     ...  ..  ..  ...  ..  ...\n",
       "987510      일   ARP1   ARP3   A   A1991   D   Y  C02   N  NaN\n",
       "987520      일   ARP1   ARP3   F   F1231   D   Y  C02   N  NaN\n",
       "987529      일   ARP3  ARP12   A   A1182   D   Y  C02   N  NaN\n",
       "987531      일  ARP15   ARP2   J   J1410   D   Y  C03   N  NaN\n",
       "987535      일   ARP1   ARP3   F   F1226   A   Y  C01   N  NaN\n",
       "987538      일   ARP1   ARP3   I   I1339   D   Y  C02   N  NaN\n",
       "987539      일   ARP4   ARP3   L   L1809   D   Y  C02   N  NaN\n",
       "987545      일   ARP2   ARP1   H  H1961F   D   Y  C02   N  NaN\n",
       "987548      일   ARP1   ARP3   F   F1233   D   Y  C02   N  NaN\n",
       "987554      일   ARP3   ARP4   B   B1206   D   Y  C02   N  NaN\n",
       "987558      일  ARP12   ARP1   J   J1637   D   Y  C02   N  NaN\n",
       "987559      일   ARP3   ARP2   B   B1118   D   Y  C02   N  NaN\n",
       "987577      일   ARP3   ARP1   A   A1985   A   Y  C02   N  NaN\n",
       "987596      일  ARP12   ARP3   A   A1182   A   Y  C02   N  NaN\n",
       "987608      일   ARP3   ARP6   A   A1236   D   Y  C02   N  NaN\n",
       "987614      일   ARP2   ARP1   J   J1129   D   Y  C02   N  NaN\n",
       "987626      일   ARP3   ARP1   A   A1994   D   Y  C02   N  NaN\n",
       "987633      일   ARP3   ARP1   F   F1233   A   Y  C02   N  NaN\n",
       "987634      일   ARP3   ARP1   A   A1996   D   Y  C02   N  NaN\n",
       "987638      일   ARP4   ARP3   B   B1206   A   Y  C02   N  NaN\n",
       "987646      일   ARP3   ARP2   J   J1021   D   Y  C02   N  NaN\n",
       "987654      일  ARP12   ARP3   A   A1181   D   Y  C02   N  NaN\n",
       "987655      일   ARP3   ARP1   A   A1998   D   Y  C02   N  NaN\n",
       "987659      일   ARP3   ARP4   L   L1810   D   Y  C02   N  NaN\n",
       "987661      일   ARP3   ARP1   F   F1232   D   Y  C02   N  NaN\n",
       "987664      일   ARP3   ARP1   H   H1134   D   Y  C02   N  NaN\n",
       "987665      일   ARP3   ARP1   F   F1282   D   Y  C02   N  NaN\n",
       "987670      일   ARP3   ARP6   I   I1560   D   Y  C02   N  NaN\n",
       "987685      일   ARP1   ARP3   A   A1994   A   Y  C02   N  NaN\n",
       "987686      일   ARP3  ARP12   A   A1181   A   Y  C02   N  NaN\n",
       "\n",
       "[127196 rows x 10 columns]"
      ]
     },
     "execution_count": 36,
     "metadata": {},
     "output_type": "execute_result"
    }
   ],
   "source": [
    "Test[(Test[\"DLY\"] == \"Y\") | (Test[\"CNL\"] == \"Y\")]"
   ]
  },
  {
   "cell_type": "code",
   "execution_count": 87,
   "metadata": {},
   "outputs": [],
   "source": [
    "Test0 = Test.copy()"
   ]
  },
  {
   "cell_type": "code",
   "execution_count": 137,
   "metadata": {
    "scrolled": true
   },
   "outputs": [
    {
     "name": "stderr",
     "output_type": "stream",
     "text": [
      "C:\\ProgramData\\Anaconda3\\lib\\site-packages\\ipykernel_launcher.py:1: SettingWithCopyWarning: \n",
      "A value is trying to be set on a copy of a slice from a DataFrame.\n",
      "Try using .loc[row_indexer,col_indexer] = value instead\n",
      "\n",
      "See the caveats in the documentation: http://pandas.pydata.org/pandas-docs/stable/indexing.html#indexing-view-versus-copy\n",
      "  \"\"\"Entry point for launching an IPython kernel.\n"
     ]
    }
   ],
   "source": [
    "Test[(Test[\"DLY\"] == \"Y\") | (Test[\"CNL\"] == \"Y\")][\"DLYCNL\"] = 1"
   ]
  },
  {
   "cell_type": "code",
   "execution_count": 147,
   "metadata": {},
   "outputs": [],
   "source": [
    "Test.loc[(Test[\"DLY\"] == \"Y\") | (Test[\"CNL\"] == \"Y\") , [\"DLYCNL\"] ] = 1"
   ]
  },
  {
   "cell_type": "code",
   "execution_count": 88,
   "metadata": {},
   "outputs": [],
   "source": [
    "Test1 = Test0[[\"ARP\", \"DLY\", \"CNL\"]]\n",
    "\n",
    "Test2 = Test0[[\"ODP\", \"DLY\", \"CNL\"]]\n",
    "\n",
    "Test3 = Test0[[\"FLO\", \"DLY\", \"CNL\"]]\n",
    "\n",
    "Test4 = Test0[[\"FLT\", \"DLY\", \"CNL\"]]"
   ]
  },
  {
   "cell_type": "code",
   "execution_count": 150,
   "metadata": {},
   "outputs": [],
   "source": [
    "Test.loc[ Test[\"DLYCNL\"] != 1 , [\"DLYCNL\"] ] = 0"
   ]
  },
  {
   "cell_type": "code",
   "execution_count": 152,
   "metadata": {},
   "outputs": [],
   "source": [
    "Test.drop([\"DLY\", \"CNL\"], axis = 1 , inplace = True)"
   ]
  },
  {
   "cell_type": "code",
   "execution_count": 153,
   "metadata": {
    "collapsed": true
   },
   "outputs": [
    {
     "data": {
      "text/html": [
       "<div>\n",
       "<style scoped>\n",
       "    .dataframe tbody tr th:only-of-type {\n",
       "        vertical-align: middle;\n",
       "    }\n",
       "\n",
       "    .dataframe tbody tr th {\n",
       "        vertical-align: top;\n",
       "    }\n",
       "\n",
       "    .dataframe thead th {\n",
       "        text-align: right;\n",
       "    }\n",
       "</style>\n",
       "<table border=\"1\" class=\"dataframe\">\n",
       "  <thead>\n",
       "    <tr style=\"text-align: right;\">\n",
       "      <th></th>\n",
       "      <th>ARP</th>\n",
       "      <th>ODP</th>\n",
       "      <th>FLO</th>\n",
       "      <th>FLT</th>\n",
       "      <th>AOD</th>\n",
       "      <th>DLYCNL</th>\n",
       "    </tr>\n",
       "  </thead>\n",
       "  <tbody>\n",
       "    <tr>\n",
       "      <th>0</th>\n",
       "      <td>ARP1</td>\n",
       "      <td>ARP3</td>\n",
       "      <td>A</td>\n",
       "      <td>A1901</td>\n",
       "      <td>D</td>\n",
       "      <td>0</td>\n",
       "    </tr>\n",
       "    <tr>\n",
       "      <th>1</th>\n",
       "      <td>ARP1</td>\n",
       "      <td>ARP3</td>\n",
       "      <td>A</td>\n",
       "      <td>A1905</td>\n",
       "      <td>D</td>\n",
       "      <td>0</td>\n",
       "    </tr>\n",
       "    <tr>\n",
       "      <th>2</th>\n",
       "      <td>ARP1</td>\n",
       "      <td>ARP3</td>\n",
       "      <td>L</td>\n",
       "      <td>L1751</td>\n",
       "      <td>D</td>\n",
       "      <td>0</td>\n",
       "    </tr>\n",
       "    <tr>\n",
       "      <th>3</th>\n",
       "      <td>ARP1</td>\n",
       "      <td>ARP3</td>\n",
       "      <td>F</td>\n",
       "      <td>F1201</td>\n",
       "      <td>D</td>\n",
       "      <td>0</td>\n",
       "    </tr>\n",
       "    <tr>\n",
       "      <th>4</th>\n",
       "      <td>ARP3</td>\n",
       "      <td>ARP1</td>\n",
       "      <td>A</td>\n",
       "      <td>A1900</td>\n",
       "      <td>D</td>\n",
       "      <td>0</td>\n",
       "    </tr>\n",
       "    <tr>\n",
       "      <th>5</th>\n",
       "      <td>ARP1</td>\n",
       "      <td>ARP3</td>\n",
       "      <td>H</td>\n",
       "      <td>H1101</td>\n",
       "      <td>D</td>\n",
       "      <td>0</td>\n",
       "    </tr>\n",
       "    <tr>\n",
       "      <th>6</th>\n",
       "      <td>ARP1</td>\n",
       "      <td>ARP3</td>\n",
       "      <td>I</td>\n",
       "      <td>I1301</td>\n",
       "      <td>D</td>\n",
       "      <td>0</td>\n",
       "    </tr>\n",
       "    <tr>\n",
       "      <th>7</th>\n",
       "      <td>ARP1</td>\n",
       "      <td>ARP3</td>\n",
       "      <td>A</td>\n",
       "      <td>A1907</td>\n",
       "      <td>D</td>\n",
       "      <td>1</td>\n",
       "    </tr>\n",
       "    <tr>\n",
       "      <th>8</th>\n",
       "      <td>ARP1</td>\n",
       "      <td>ARP3</td>\n",
       "      <td>I</td>\n",
       "      <td>I1303</td>\n",
       "      <td>D</td>\n",
       "      <td>0</td>\n",
       "    </tr>\n",
       "    <tr>\n",
       "      <th>9</th>\n",
       "      <td>ARP1</td>\n",
       "      <td>ARP3</td>\n",
       "      <td>J</td>\n",
       "      <td>J1204</td>\n",
       "      <td>D</td>\n",
       "      <td>0</td>\n",
       "    </tr>\n",
       "    <tr>\n",
       "      <th>10</th>\n",
       "      <td>ARP1</td>\n",
       "      <td>ARP3</td>\n",
       "      <td>A</td>\n",
       "      <td>A1903</td>\n",
       "      <td>D</td>\n",
       "      <td>0</td>\n",
       "    </tr>\n",
       "    <tr>\n",
       "      <th>11</th>\n",
       "      <td>ARP7</td>\n",
       "      <td>ARP3</td>\n",
       "      <td>L</td>\n",
       "      <td>L1931</td>\n",
       "      <td>D</td>\n",
       "      <td>0</td>\n",
       "    </tr>\n",
       "    <tr>\n",
       "      <th>12</th>\n",
       "      <td>ARP3</td>\n",
       "      <td>ARP1</td>\n",
       "      <td>J</td>\n",
       "      <td>J1203</td>\n",
       "      <td>D</td>\n",
       "      <td>0</td>\n",
       "    </tr>\n",
       "    <tr>\n",
       "      <th>13</th>\n",
       "      <td>ARP1</td>\n",
       "      <td>ARP12</td>\n",
       "      <td>J</td>\n",
       "      <td>J1634</td>\n",
       "      <td>D</td>\n",
       "      <td>0</td>\n",
       "    </tr>\n",
       "    <tr>\n",
       "      <th>14</th>\n",
       "      <td>ARP4</td>\n",
       "      <td>ARP15</td>\n",
       "      <td>J</td>\n",
       "      <td>J1415</td>\n",
       "      <td>D</td>\n",
       "      <td>0</td>\n",
       "    </tr>\n",
       "    <tr>\n",
       "      <th>15</th>\n",
       "      <td>ARP1</td>\n",
       "      <td>ARP3</td>\n",
       "      <td>B</td>\n",
       "      <td>B1011</td>\n",
       "      <td>D</td>\n",
       "      <td>0</td>\n",
       "    </tr>\n",
       "    <tr>\n",
       "      <th>16</th>\n",
       "      <td>ARP2</td>\n",
       "      <td>ARP3</td>\n",
       "      <td>B</td>\n",
       "      <td>B1101</td>\n",
       "      <td>D</td>\n",
       "      <td>0</td>\n",
       "    </tr>\n",
       "    <tr>\n",
       "      <th>17</th>\n",
       "      <td>ARP3</td>\n",
       "      <td>ARP1</td>\n",
       "      <td>A</td>\n",
       "      <td>A1928</td>\n",
       "      <td>D</td>\n",
       "      <td>0</td>\n",
       "    </tr>\n",
       "    <tr>\n",
       "      <th>18</th>\n",
       "      <td>ARP2</td>\n",
       "      <td>ARP15</td>\n",
       "      <td>A</td>\n",
       "      <td>A1532</td>\n",
       "      <td>D</td>\n",
       "      <td>0</td>\n",
       "    </tr>\n",
       "    <tr>\n",
       "      <th>19</th>\n",
       "      <td>ARP3</td>\n",
       "      <td>ARP1</td>\n",
       "      <td>I</td>\n",
       "      <td>I1302</td>\n",
       "      <td>D</td>\n",
       "      <td>0</td>\n",
       "    </tr>\n",
       "    <tr>\n",
       "      <th>20</th>\n",
       "      <td>ARP1</td>\n",
       "      <td>ARP3</td>\n",
       "      <td>L</td>\n",
       "      <td>L1701</td>\n",
       "      <td>D</td>\n",
       "      <td>0</td>\n",
       "    </tr>\n",
       "    <tr>\n",
       "      <th>21</th>\n",
       "      <td>ARP2</td>\n",
       "      <td>ARP15</td>\n",
       "      <td>J</td>\n",
       "      <td>J1405</td>\n",
       "      <td>D</td>\n",
       "      <td>0</td>\n",
       "    </tr>\n",
       "    <tr>\n",
       "      <th>22</th>\n",
       "      <td>ARP2</td>\n",
       "      <td>ARP4</td>\n",
       "      <td>B</td>\n",
       "      <td>B1808F</td>\n",
       "      <td>D</td>\n",
       "      <td>0</td>\n",
       "    </tr>\n",
       "    <tr>\n",
       "      <th>23</th>\n",
       "      <td>ARP1</td>\n",
       "      <td>ARP3</td>\n",
       "      <td>F</td>\n",
       "      <td>F1203</td>\n",
       "      <td>D</td>\n",
       "      <td>0</td>\n",
       "    </tr>\n",
       "    <tr>\n",
       "      <th>24</th>\n",
       "      <td>ARP2</td>\n",
       "      <td>ARP3</td>\n",
       "      <td>I</td>\n",
       "      <td>I1561</td>\n",
       "      <td>D</td>\n",
       "      <td>1</td>\n",
       "    </tr>\n",
       "    <tr>\n",
       "      <th>25</th>\n",
       "      <td>ARP2</td>\n",
       "      <td>ARP3</td>\n",
       "      <td>J</td>\n",
       "      <td>J1004</td>\n",
       "      <td>D</td>\n",
       "      <td>0</td>\n",
       "    </tr>\n",
       "    <tr>\n",
       "      <th>26</th>\n",
       "      <td>ARP3</td>\n",
       "      <td>ARP1</td>\n",
       "      <td>J</td>\n",
       "      <td>J1253</td>\n",
       "      <td>D</td>\n",
       "      <td>0</td>\n",
       "    </tr>\n",
       "    <tr>\n",
       "      <th>27</th>\n",
       "      <td>ARP3</td>\n",
       "      <td>ARP1</td>\n",
       "      <td>A</td>\n",
       "      <td>A1901</td>\n",
       "      <td>A</td>\n",
       "      <td>0</td>\n",
       "    </tr>\n",
       "    <tr>\n",
       "      <th>28</th>\n",
       "      <td>ARP1</td>\n",
       "      <td>ARP3</td>\n",
       "      <td>B</td>\n",
       "      <td>B1013</td>\n",
       "      <td>D</td>\n",
       "      <td>0</td>\n",
       "    </tr>\n",
       "    <tr>\n",
       "      <th>29</th>\n",
       "      <td>ARP1</td>\n",
       "      <td>ARP3</td>\n",
       "      <td>A</td>\n",
       "      <td>A1981</td>\n",
       "      <td>D</td>\n",
       "      <td>0</td>\n",
       "    </tr>\n",
       "    <tr>\n",
       "      <th>...</th>\n",
       "      <td>...</td>\n",
       "      <td>...</td>\n",
       "      <td>...</td>\n",
       "      <td>...</td>\n",
       "      <td>...</td>\n",
       "      <td>...</td>\n",
       "    </tr>\n",
       "    <tr>\n",
       "      <th>987679</th>\n",
       "      <td>ARP7</td>\n",
       "      <td>ARP3</td>\n",
       "      <td>A</td>\n",
       "      <td>A1168</td>\n",
       "      <td>A</td>\n",
       "      <td>0</td>\n",
       "    </tr>\n",
       "    <tr>\n",
       "      <th>987680</th>\n",
       "      <td>ARP1</td>\n",
       "      <td>ARP3</td>\n",
       "      <td>L</td>\n",
       "      <td>L1734</td>\n",
       "      <td>A</td>\n",
       "      <td>0</td>\n",
       "    </tr>\n",
       "    <tr>\n",
       "      <th>987681</th>\n",
       "      <td>ARP6</td>\n",
       "      <td>ARP3</td>\n",
       "      <td>A</td>\n",
       "      <td>A1236</td>\n",
       "      <td>A</td>\n",
       "      <td>0</td>\n",
       "    </tr>\n",
       "    <tr>\n",
       "      <th>987682</th>\n",
       "      <td>ARP3</td>\n",
       "      <td>ARP1</td>\n",
       "      <td>H</td>\n",
       "      <td>H1147</td>\n",
       "      <td>A</td>\n",
       "      <td>0</td>\n",
       "    </tr>\n",
       "    <tr>\n",
       "      <th>987683</th>\n",
       "      <td>ARP1</td>\n",
       "      <td>ARP2</td>\n",
       "      <td>B</td>\n",
       "      <td>B1828</td>\n",
       "      <td>A</td>\n",
       "      <td>0</td>\n",
       "    </tr>\n",
       "    <tr>\n",
       "      <th>987684</th>\n",
       "      <td>ARP1</td>\n",
       "      <td>ARP3</td>\n",
       "      <td>J</td>\n",
       "      <td>J1265</td>\n",
       "      <td>A</td>\n",
       "      <td>0</td>\n",
       "    </tr>\n",
       "    <tr>\n",
       "      <th>987685</th>\n",
       "      <td>ARP1</td>\n",
       "      <td>ARP3</td>\n",
       "      <td>A</td>\n",
       "      <td>A1994</td>\n",
       "      <td>A</td>\n",
       "      <td>1</td>\n",
       "    </tr>\n",
       "    <tr>\n",
       "      <th>987686</th>\n",
       "      <td>ARP3</td>\n",
       "      <td>ARP12</td>\n",
       "      <td>A</td>\n",
       "      <td>A1181</td>\n",
       "      <td>A</td>\n",
       "      <td>1</td>\n",
       "    </tr>\n",
       "    <tr>\n",
       "      <th>987687</th>\n",
       "      <td>ARP1</td>\n",
       "      <td>ARP3</td>\n",
       "      <td>H</td>\n",
       "      <td>H1128</td>\n",
       "      <td>A</td>\n",
       "      <td>0</td>\n",
       "    </tr>\n",
       "    <tr>\n",
       "      <th>987688</th>\n",
       "      <td>ARP1</td>\n",
       "      <td>ARP3</td>\n",
       "      <td>I</td>\n",
       "      <td>I1340</td>\n",
       "      <td>A</td>\n",
       "      <td>0</td>\n",
       "    </tr>\n",
       "    <tr>\n",
       "      <th>987689</th>\n",
       "      <td>ARP2</td>\n",
       "      <td>ARP3</td>\n",
       "      <td>J</td>\n",
       "      <td>J1021</td>\n",
       "      <td>A</td>\n",
       "      <td>0</td>\n",
       "    </tr>\n",
       "    <tr>\n",
       "      <th>987690</th>\n",
       "      <td>ARP1</td>\n",
       "      <td>ARP3</td>\n",
       "      <td>A</td>\n",
       "      <td>A1996</td>\n",
       "      <td>A</td>\n",
       "      <td>0</td>\n",
       "    </tr>\n",
       "    <tr>\n",
       "      <th>987691</th>\n",
       "      <td>ARP3</td>\n",
       "      <td>ARP1</td>\n",
       "      <td>J</td>\n",
       "      <td>J1268</td>\n",
       "      <td>A</td>\n",
       "      <td>0</td>\n",
       "    </tr>\n",
       "    <tr>\n",
       "      <th>987692</th>\n",
       "      <td>ARP4</td>\n",
       "      <td>ARP3</td>\n",
       "      <td>L</td>\n",
       "      <td>L1810</td>\n",
       "      <td>A</td>\n",
       "      <td>0</td>\n",
       "    </tr>\n",
       "    <tr>\n",
       "      <th>987693</th>\n",
       "      <td>ARP1</td>\n",
       "      <td>ARP3</td>\n",
       "      <td>J</td>\n",
       "      <td>J1267</td>\n",
       "      <td>A</td>\n",
       "      <td>0</td>\n",
       "    </tr>\n",
       "    <tr>\n",
       "      <th>987694</th>\n",
       "      <td>ARP1</td>\n",
       "      <td>ARP3</td>\n",
       "      <td>H</td>\n",
       "      <td>H1130</td>\n",
       "      <td>A</td>\n",
       "      <td>0</td>\n",
       "    </tr>\n",
       "    <tr>\n",
       "      <th>987695</th>\n",
       "      <td>ARP1</td>\n",
       "      <td>ARP3</td>\n",
       "      <td>I</td>\n",
       "      <td>I1336</td>\n",
       "      <td>A</td>\n",
       "      <td>0</td>\n",
       "    </tr>\n",
       "    <tr>\n",
       "      <th>987696</th>\n",
       "      <td>ARP1</td>\n",
       "      <td>ARP3</td>\n",
       "      <td>L</td>\n",
       "      <td>L1736</td>\n",
       "      <td>A</td>\n",
       "      <td>0</td>\n",
       "    </tr>\n",
       "    <tr>\n",
       "      <th>987697</th>\n",
       "      <td>ARP1</td>\n",
       "      <td>ARP3</td>\n",
       "      <td>A</td>\n",
       "      <td>A1998</td>\n",
       "      <td>A</td>\n",
       "      <td>0</td>\n",
       "    </tr>\n",
       "    <tr>\n",
       "      <th>987698</th>\n",
       "      <td>ARP1</td>\n",
       "      <td>ARP3</td>\n",
       "      <td>H</td>\n",
       "      <td>H1158</td>\n",
       "      <td>A</td>\n",
       "      <td>0</td>\n",
       "    </tr>\n",
       "    <tr>\n",
       "      <th>987699</th>\n",
       "      <td>ARP1</td>\n",
       "      <td>ARP3</td>\n",
       "      <td>I</td>\n",
       "      <td>I1338</td>\n",
       "      <td>A</td>\n",
       "      <td>0</td>\n",
       "    </tr>\n",
       "    <tr>\n",
       "      <th>987700</th>\n",
       "      <td>ARP1</td>\n",
       "      <td>ARP2</td>\n",
       "      <td>B</td>\n",
       "      <td>B1830</td>\n",
       "      <td>A</td>\n",
       "      <td>0</td>\n",
       "    </tr>\n",
       "    <tr>\n",
       "      <th>987701</th>\n",
       "      <td>ARP6</td>\n",
       "      <td>ARP3</td>\n",
       "      <td>F</td>\n",
       "      <td>F1706</td>\n",
       "      <td>A</td>\n",
       "      <td>0</td>\n",
       "    </tr>\n",
       "    <tr>\n",
       "      <th>987702</th>\n",
       "      <td>ARP1</td>\n",
       "      <td>ARP3</td>\n",
       "      <td>F</td>\n",
       "      <td>F1232</td>\n",
       "      <td>A</td>\n",
       "      <td>0</td>\n",
       "    </tr>\n",
       "    <tr>\n",
       "      <th>987703</th>\n",
       "      <td>ARP1</td>\n",
       "      <td>ARP3</td>\n",
       "      <td>B</td>\n",
       "      <td>B1014</td>\n",
       "      <td>A</td>\n",
       "      <td>0</td>\n",
       "    </tr>\n",
       "    <tr>\n",
       "      <th>987704</th>\n",
       "      <td>ARP3</td>\n",
       "      <td>ARP1</td>\n",
       "      <td>A</td>\n",
       "      <td>A1995</td>\n",
       "      <td>A</td>\n",
       "      <td>0</td>\n",
       "    </tr>\n",
       "    <tr>\n",
       "      <th>987705</th>\n",
       "      <td>ARP1</td>\n",
       "      <td>ARP3</td>\n",
       "      <td>H</td>\n",
       "      <td>H1134</td>\n",
       "      <td>A</td>\n",
       "      <td>0</td>\n",
       "    </tr>\n",
       "    <tr>\n",
       "      <th>987706</th>\n",
       "      <td>ARP2</td>\n",
       "      <td>ARP1</td>\n",
       "      <td>B</td>\n",
       "      <td>B1831</td>\n",
       "      <td>A</td>\n",
       "      <td>0</td>\n",
       "    </tr>\n",
       "    <tr>\n",
       "      <th>987707</th>\n",
       "      <td>ARP1</td>\n",
       "      <td>ARP3</td>\n",
       "      <td>F</td>\n",
       "      <td>F1282</td>\n",
       "      <td>A</td>\n",
       "      <td>0</td>\n",
       "    </tr>\n",
       "    <tr>\n",
       "      <th>987708</th>\n",
       "      <td>ARP6</td>\n",
       "      <td>ARP3</td>\n",
       "      <td>I</td>\n",
       "      <td>I1560</td>\n",
       "      <td>A</td>\n",
       "      <td>0</td>\n",
       "    </tr>\n",
       "  </tbody>\n",
       "</table>\n",
       "<p>987709 rows × 6 columns</p>\n",
       "</div>"
      ],
      "text/plain": [
       "         ARP    ODP FLO     FLT AOD DLYCNL\n",
       "0       ARP1   ARP3   A   A1901   D      0\n",
       "1       ARP1   ARP3   A   A1905   D      0\n",
       "2       ARP1   ARP3   L   L1751   D      0\n",
       "3       ARP1   ARP3   F   F1201   D      0\n",
       "4       ARP3   ARP1   A   A1900   D      0\n",
       "5       ARP1   ARP3   H   H1101   D      0\n",
       "6       ARP1   ARP3   I   I1301   D      0\n",
       "7       ARP1   ARP3   A   A1907   D      1\n",
       "8       ARP1   ARP3   I   I1303   D      0\n",
       "9       ARP1   ARP3   J   J1204   D      0\n",
       "10      ARP1   ARP3   A   A1903   D      0\n",
       "11      ARP7   ARP3   L   L1931   D      0\n",
       "12      ARP3   ARP1   J   J1203   D      0\n",
       "13      ARP1  ARP12   J   J1634   D      0\n",
       "14      ARP4  ARP15   J   J1415   D      0\n",
       "15      ARP1   ARP3   B   B1011   D      0\n",
       "16      ARP2   ARP3   B   B1101   D      0\n",
       "17      ARP3   ARP1   A   A1928   D      0\n",
       "18      ARP2  ARP15   A   A1532   D      0\n",
       "19      ARP3   ARP1   I   I1302   D      0\n",
       "20      ARP1   ARP3   L   L1701   D      0\n",
       "21      ARP2  ARP15   J   J1405   D      0\n",
       "22      ARP2   ARP4   B  B1808F   D      0\n",
       "23      ARP1   ARP3   F   F1203   D      0\n",
       "24      ARP2   ARP3   I   I1561   D      1\n",
       "25      ARP2   ARP3   J   J1004   D      0\n",
       "26      ARP3   ARP1   J   J1253   D      0\n",
       "27      ARP3   ARP1   A   A1901   A      0\n",
       "28      ARP1   ARP3   B   B1013   D      0\n",
       "29      ARP1   ARP3   A   A1981   D      0\n",
       "...      ...    ...  ..     ...  ..    ...\n",
       "987679  ARP7   ARP3   A   A1168   A      0\n",
       "987680  ARP1   ARP3   L   L1734   A      0\n",
       "987681  ARP6   ARP3   A   A1236   A      0\n",
       "987682  ARP3   ARP1   H   H1147   A      0\n",
       "987683  ARP1   ARP2   B   B1828   A      0\n",
       "987684  ARP1   ARP3   J   J1265   A      0\n",
       "987685  ARP1   ARP3   A   A1994   A      1\n",
       "987686  ARP3  ARP12   A   A1181   A      1\n",
       "987687  ARP1   ARP3   H   H1128   A      0\n",
       "987688  ARP1   ARP3   I   I1340   A      0\n",
       "987689  ARP2   ARP3   J   J1021   A      0\n",
       "987690  ARP1   ARP3   A   A1996   A      0\n",
       "987691  ARP3   ARP1   J   J1268   A      0\n",
       "987692  ARP4   ARP3   L   L1810   A      0\n",
       "987693  ARP1   ARP3   J   J1267   A      0\n",
       "987694  ARP1   ARP3   H   H1130   A      0\n",
       "987695  ARP1   ARP3   I   I1336   A      0\n",
       "987696  ARP1   ARP3   L   L1736   A      0\n",
       "987697  ARP1   ARP3   A   A1998   A      0\n",
       "987698  ARP1   ARP3   H   H1158   A      0\n",
       "987699  ARP1   ARP3   I   I1338   A      0\n",
       "987700  ARP1   ARP2   B   B1830   A      0\n",
       "987701  ARP6   ARP3   F   F1706   A      0\n",
       "987702  ARP1   ARP3   F   F1232   A      0\n",
       "987703  ARP1   ARP3   B   B1014   A      0\n",
       "987704  ARP3   ARP1   A   A1995   A      0\n",
       "987705  ARP1   ARP3   H   H1134   A      0\n",
       "987706  ARP2   ARP1   B   B1831   A      0\n",
       "987707  ARP1   ARP3   F   F1282   A      0\n",
       "987708  ARP6   ARP3   I   I1560   A      0\n",
       "\n",
       "[987709 rows x 6 columns]"
      ]
     },
     "execution_count": 153,
     "metadata": {},
     "output_type": "execute_result"
    }
   ],
   "source": [
    "Test"
   ]
  },
  {
   "cell_type": "markdown",
   "metadata": {},
   "source": [
    "## Sklearn 을 이용한 분석  효율 알아보기."
   ]
  },
  {
   "cell_type": "code",
   "execution_count": 154,
   "metadata": {},
   "outputs": [],
   "source": [
    "le = LabelEncoder()"
   ]
  },
  {
   "cell_type": "code",
   "execution_count": 155,
   "metadata": {},
   "outputs": [],
   "source": [
    "LabelTest = Test.copy()"
   ]
  },
  {
   "cell_type": "code",
   "execution_count": 209,
   "metadata": {},
   "outputs": [],
   "source": [
    "X = LabelTest.iloc[:, :-1].values"
   ]
  },
  {
   "cell_type": "code",
   "execution_count": 252,
   "metadata": {
    "scrolled": true
   },
   "outputs": [
    {
     "data": {
      "text/html": [
       "<div>\n",
       "<style scoped>\n",
       "    .dataframe tbody tr th:only-of-type {\n",
       "        vertical-align: middle;\n",
       "    }\n",
       "\n",
       "    .dataframe tbody tr th {\n",
       "        vertical-align: top;\n",
       "    }\n",
       "\n",
       "    .dataframe thead th {\n",
       "        text-align: right;\n",
       "    }\n",
       "</style>\n",
       "<table border=\"1\" class=\"dataframe\">\n",
       "  <thead>\n",
       "    <tr style=\"text-align: right;\">\n",
       "      <th></th>\n",
       "      <th>ARP</th>\n",
       "      <th>ODP</th>\n",
       "      <th>FLO</th>\n",
       "      <th>FLT</th>\n",
       "      <th>AOD</th>\n",
       "      <th>DLYCNL</th>\n",
       "    </tr>\n",
       "  </thead>\n",
       "  <tbody>\n",
       "    <tr>\n",
       "      <th>0</th>\n",
       "      <td>0</td>\n",
       "      <td>8</td>\n",
       "      <td>0</td>\n",
       "      <td>234</td>\n",
       "      <td>1</td>\n",
       "      <td>0</td>\n",
       "    </tr>\n",
       "    <tr>\n",
       "      <th>1</th>\n",
       "      <td>0</td>\n",
       "      <td>8</td>\n",
       "      <td>0</td>\n",
       "      <td>238</td>\n",
       "      <td>1</td>\n",
       "      <td>0</td>\n",
       "    </tr>\n",
       "    <tr>\n",
       "      <th>2</th>\n",
       "      <td>0</td>\n",
       "      <td>8</td>\n",
       "      <td>11</td>\n",
       "      <td>1494</td>\n",
       "      <td>1</td>\n",
       "      <td>0</td>\n",
       "    </tr>\n",
       "    <tr>\n",
       "      <th>3</th>\n",
       "      <td>0</td>\n",
       "      <td>8</td>\n",
       "      <td>5</td>\n",
       "      <td>544</td>\n",
       "      <td>1</td>\n",
       "      <td>0</td>\n",
       "    </tr>\n",
       "    <tr>\n",
       "      <th>4</th>\n",
       "      <td>8</td>\n",
       "      <td>0</td>\n",
       "      <td>0</td>\n",
       "      <td>233</td>\n",
       "      <td>1</td>\n",
       "      <td>0</td>\n",
       "    </tr>\n",
       "    <tr>\n",
       "      <th>5</th>\n",
       "      <td>0</td>\n",
       "      <td>8</td>\n",
       "      <td>7</td>\n",
       "      <td>697</td>\n",
       "      <td>1</td>\n",
       "      <td>0</td>\n",
       "    </tr>\n",
       "    <tr>\n",
       "      <th>6</th>\n",
       "      <td>0</td>\n",
       "      <td>8</td>\n",
       "      <td>8</td>\n",
       "      <td>924</td>\n",
       "      <td>1</td>\n",
       "      <td>0</td>\n",
       "    </tr>\n",
       "    <tr>\n",
       "      <th>7</th>\n",
       "      <td>0</td>\n",
       "      <td>8</td>\n",
       "      <td>0</td>\n",
       "      <td>240</td>\n",
       "      <td>1</td>\n",
       "      <td>1</td>\n",
       "    </tr>\n",
       "    <tr>\n",
       "      <th>8</th>\n",
       "      <td>0</td>\n",
       "      <td>8</td>\n",
       "      <td>8</td>\n",
       "      <td>926</td>\n",
       "      <td>1</td>\n",
       "      <td>0</td>\n",
       "    </tr>\n",
       "    <tr>\n",
       "      <th>9</th>\n",
       "      <td>0</td>\n",
       "      <td>8</td>\n",
       "      <td>9</td>\n",
       "      <td>1171</td>\n",
       "      <td>1</td>\n",
       "      <td>0</td>\n",
       "    </tr>\n",
       "    <tr>\n",
       "      <th>10</th>\n",
       "      <td>0</td>\n",
       "      <td>8</td>\n",
       "      <td>0</td>\n",
       "      <td>236</td>\n",
       "      <td>1</td>\n",
       "      <td>0</td>\n",
       "    </tr>\n",
       "    <tr>\n",
       "      <th>11</th>\n",
       "      <td>12</td>\n",
       "      <td>8</td>\n",
       "      <td>11</td>\n",
       "      <td>1539</td>\n",
       "      <td>1</td>\n",
       "      <td>0</td>\n",
       "    </tr>\n",
       "    <tr>\n",
       "      <th>12</th>\n",
       "      <td>8</td>\n",
       "      <td>0</td>\n",
       "      <td>9</td>\n",
       "      <td>1170</td>\n",
       "      <td>1</td>\n",
       "      <td>0</td>\n",
       "    </tr>\n",
       "    <tr>\n",
       "      <th>13</th>\n",
       "      <td>0</td>\n",
       "      <td>3</td>\n",
       "      <td>9</td>\n",
       "      <td>1332</td>\n",
       "      <td>1</td>\n",
       "      <td>0</td>\n",
       "    </tr>\n",
       "    <tr>\n",
       "      <th>14</th>\n",
       "      <td>9</td>\n",
       "      <td>6</td>\n",
       "      <td>9</td>\n",
       "      <td>1270</td>\n",
       "      <td>1</td>\n",
       "      <td>0</td>\n",
       "    </tr>\n",
       "    <tr>\n",
       "      <th>15</th>\n",
       "      <td>0</td>\n",
       "      <td>8</td>\n",
       "      <td>1</td>\n",
       "      <td>331</td>\n",
       "      <td>1</td>\n",
       "      <td>0</td>\n",
       "    </tr>\n",
       "    <tr>\n",
       "      <th>16</th>\n",
       "      <td>7</td>\n",
       "      <td>8</td>\n",
       "      <td>1</td>\n",
       "      <td>367</td>\n",
       "      <td>1</td>\n",
       "      <td>0</td>\n",
       "    </tr>\n",
       "    <tr>\n",
       "      <th>17</th>\n",
       "      <td>8</td>\n",
       "      <td>0</td>\n",
       "      <td>0</td>\n",
       "      <td>261</td>\n",
       "      <td>1</td>\n",
       "      <td>0</td>\n",
       "    </tr>\n",
       "    <tr>\n",
       "      <th>18</th>\n",
       "      <td>7</td>\n",
       "      <td>6</td>\n",
       "      <td>0</td>\n",
       "      <td>137</td>\n",
       "      <td>1</td>\n",
       "      <td>0</td>\n",
       "    </tr>\n",
       "    <tr>\n",
       "      <th>19</th>\n",
       "      <td>8</td>\n",
       "      <td>0</td>\n",
       "      <td>8</td>\n",
       "      <td>925</td>\n",
       "      <td>1</td>\n",
       "      <td>0</td>\n",
       "    </tr>\n",
       "    <tr>\n",
       "      <th>20</th>\n",
       "      <td>0</td>\n",
       "      <td>8</td>\n",
       "      <td>11</td>\n",
       "      <td>1448</td>\n",
       "      <td>1</td>\n",
       "      <td>0</td>\n",
       "    </tr>\n",
       "    <tr>\n",
       "      <th>21</th>\n",
       "      <td>7</td>\n",
       "      <td>6</td>\n",
       "      <td>9</td>\n",
       "      <td>1261</td>\n",
       "      <td>1</td>\n",
       "      <td>0</td>\n",
       "    </tr>\n",
       "    <tr>\n",
       "      <th>22</th>\n",
       "      <td>7</td>\n",
       "      <td>9</td>\n",
       "      <td>1</td>\n",
       "      <td>474</td>\n",
       "      <td>1</td>\n",
       "      <td>0</td>\n",
       "    </tr>\n",
       "    <tr>\n",
       "      <th>23</th>\n",
       "      <td>0</td>\n",
       "      <td>8</td>\n",
       "      <td>5</td>\n",
       "      <td>546</td>\n",
       "      <td>1</td>\n",
       "      <td>0</td>\n",
       "    </tr>\n",
       "    <tr>\n",
       "      <th>24</th>\n",
       "      <td>7</td>\n",
       "      <td>8</td>\n",
       "      <td>8</td>\n",
       "      <td>989</td>\n",
       "      <td>1</td>\n",
       "      <td>1</td>\n",
       "    </tr>\n",
       "    <tr>\n",
       "      <th>25</th>\n",
       "      <td>7</td>\n",
       "      <td>8</td>\n",
       "      <td>9</td>\n",
       "      <td>1050</td>\n",
       "      <td>1</td>\n",
       "      <td>0</td>\n",
       "    </tr>\n",
       "    <tr>\n",
       "      <th>26</th>\n",
       "      <td>8</td>\n",
       "      <td>0</td>\n",
       "      <td>9</td>\n",
       "      <td>1220</td>\n",
       "      <td>1</td>\n",
       "      <td>0</td>\n",
       "    </tr>\n",
       "    <tr>\n",
       "      <th>27</th>\n",
       "      <td>8</td>\n",
       "      <td>0</td>\n",
       "      <td>0</td>\n",
       "      <td>234</td>\n",
       "      <td>0</td>\n",
       "      <td>0</td>\n",
       "    </tr>\n",
       "    <tr>\n",
       "      <th>28</th>\n",
       "      <td>0</td>\n",
       "      <td>8</td>\n",
       "      <td>1</td>\n",
       "      <td>333</td>\n",
       "      <td>1</td>\n",
       "      <td>0</td>\n",
       "    </tr>\n",
       "    <tr>\n",
       "      <th>29</th>\n",
       "      <td>0</td>\n",
       "      <td>8</td>\n",
       "      <td>0</td>\n",
       "      <td>313</td>\n",
       "      <td>1</td>\n",
       "      <td>0</td>\n",
       "    </tr>\n",
       "    <tr>\n",
       "      <th>...</th>\n",
       "      <td>...</td>\n",
       "      <td>...</td>\n",
       "      <td>...</td>\n",
       "      <td>...</td>\n",
       "      <td>...</td>\n",
       "      <td>...</td>\n",
       "    </tr>\n",
       "    <tr>\n",
       "      <th>987679</th>\n",
       "      <td>12</td>\n",
       "      <td>8</td>\n",
       "      <td>0</td>\n",
       "      <td>35</td>\n",
       "      <td>0</td>\n",
       "      <td>0</td>\n",
       "    </tr>\n",
       "    <tr>\n",
       "      <th>987680</th>\n",
       "      <td>0</td>\n",
       "      <td>8</td>\n",
       "      <td>11</td>\n",
       "      <td>1481</td>\n",
       "      <td>0</td>\n",
       "      <td>0</td>\n",
       "    </tr>\n",
       "    <tr>\n",
       "      <th>987681</th>\n",
       "      <td>11</td>\n",
       "      <td>8</td>\n",
       "      <td>0</td>\n",
       "      <td>60</td>\n",
       "      <td>0</td>\n",
       "      <td>0</td>\n",
       "    </tr>\n",
       "    <tr>\n",
       "      <th>987682</th>\n",
       "      <td>8</td>\n",
       "      <td>0</td>\n",
       "      <td>7</td>\n",
       "      <td>734</td>\n",
       "      <td>0</td>\n",
       "      <td>0</td>\n",
       "    </tr>\n",
       "    <tr>\n",
       "      <th>987683</th>\n",
       "      <td>0</td>\n",
       "      <td>7</td>\n",
       "      <td>1</td>\n",
       "      <td>497</td>\n",
       "      <td>0</td>\n",
       "      <td>0</td>\n",
       "    </tr>\n",
       "    <tr>\n",
       "      <th>987684</th>\n",
       "      <td>0</td>\n",
       "      <td>8</td>\n",
       "      <td>9</td>\n",
       "      <td>1232</td>\n",
       "      <td>0</td>\n",
       "      <td>0</td>\n",
       "    </tr>\n",
       "    <tr>\n",
       "      <th>987685</th>\n",
       "      <td>0</td>\n",
       "      <td>8</td>\n",
       "      <td>0</td>\n",
       "      <td>325</td>\n",
       "      <td>0</td>\n",
       "      <td>1</td>\n",
       "    </tr>\n",
       "    <tr>\n",
       "      <th>987686</th>\n",
       "      <td>8</td>\n",
       "      <td>3</td>\n",
       "      <td>0</td>\n",
       "      <td>47</td>\n",
       "      <td>0</td>\n",
       "      <td>1</td>\n",
       "    </tr>\n",
       "    <tr>\n",
       "      <th>987687</th>\n",
       "      <td>0</td>\n",
       "      <td>8</td>\n",
       "      <td>7</td>\n",
       "      <td>722</td>\n",
       "      <td>0</td>\n",
       "      <td>0</td>\n",
       "    </tr>\n",
       "    <tr>\n",
       "      <th>987688</th>\n",
       "      <td>0</td>\n",
       "      <td>8</td>\n",
       "      <td>8</td>\n",
       "      <td>962</td>\n",
       "      <td>0</td>\n",
       "      <td>0</td>\n",
       "    </tr>\n",
       "    <tr>\n",
       "      <th>987689</th>\n",
       "      <td>7</td>\n",
       "      <td>8</td>\n",
       "      <td>9</td>\n",
       "      <td>1067</td>\n",
       "      <td>0</td>\n",
       "      <td>0</td>\n",
       "    </tr>\n",
       "    <tr>\n",
       "      <th>987690</th>\n",
       "      <td>0</td>\n",
       "      <td>8</td>\n",
       "      <td>0</td>\n",
       "      <td>327</td>\n",
       "      <td>0</td>\n",
       "      <td>0</td>\n",
       "    </tr>\n",
       "    <tr>\n",
       "      <th>987691</th>\n",
       "      <td>8</td>\n",
       "      <td>0</td>\n",
       "      <td>9</td>\n",
       "      <td>1235</td>\n",
       "      <td>0</td>\n",
       "      <td>0</td>\n",
       "    </tr>\n",
       "    <tr>\n",
       "      <th>987692</th>\n",
       "      <td>9</td>\n",
       "      <td>8</td>\n",
       "      <td>11</td>\n",
       "      <td>1518</td>\n",
       "      <td>0</td>\n",
       "      <td>0</td>\n",
       "    </tr>\n",
       "    <tr>\n",
       "      <th>987693</th>\n",
       "      <td>0</td>\n",
       "      <td>8</td>\n",
       "      <td>9</td>\n",
       "      <td>1234</td>\n",
       "      <td>0</td>\n",
       "      <td>0</td>\n",
       "    </tr>\n",
       "    <tr>\n",
       "      <th>987694</th>\n",
       "      <td>0</td>\n",
       "      <td>8</td>\n",
       "      <td>7</td>\n",
       "      <td>724</td>\n",
       "      <td>0</td>\n",
       "      <td>0</td>\n",
       "    </tr>\n",
       "    <tr>\n",
       "      <th>987695</th>\n",
       "      <td>0</td>\n",
       "      <td>8</td>\n",
       "      <td>8</td>\n",
       "      <td>959</td>\n",
       "      <td>0</td>\n",
       "      <td>0</td>\n",
       "    </tr>\n",
       "    <tr>\n",
       "      <th>987696</th>\n",
       "      <td>0</td>\n",
       "      <td>8</td>\n",
       "      <td>11</td>\n",
       "      <td>1483</td>\n",
       "      <td>0</td>\n",
       "      <td>0</td>\n",
       "    </tr>\n",
       "    <tr>\n",
       "      <th>987697</th>\n",
       "      <td>0</td>\n",
       "      <td>8</td>\n",
       "      <td>0</td>\n",
       "      <td>329</td>\n",
       "      <td>0</td>\n",
       "      <td>0</td>\n",
       "    </tr>\n",
       "    <tr>\n",
       "      <th>987698</th>\n",
       "      <td>0</td>\n",
       "      <td>8</td>\n",
       "      <td>7</td>\n",
       "      <td>741</td>\n",
       "      <td>0</td>\n",
       "      <td>0</td>\n",
       "    </tr>\n",
       "    <tr>\n",
       "      <th>987699</th>\n",
       "      <td>0</td>\n",
       "      <td>8</td>\n",
       "      <td>8</td>\n",
       "      <td>960</td>\n",
       "      <td>0</td>\n",
       "      <td>0</td>\n",
       "    </tr>\n",
       "    <tr>\n",
       "      <th>987700</th>\n",
       "      <td>0</td>\n",
       "      <td>7</td>\n",
       "      <td>1</td>\n",
       "      <td>499</td>\n",
       "      <td>0</td>\n",
       "      <td>0</td>\n",
       "    </tr>\n",
       "    <tr>\n",
       "      <th>987701</th>\n",
       "      <td>11</td>\n",
       "      <td>8</td>\n",
       "      <td>5</td>\n",
       "      <td>663</td>\n",
       "      <td>0</td>\n",
       "      <td>0</td>\n",
       "    </tr>\n",
       "    <tr>\n",
       "      <th>987702</th>\n",
       "      <td>0</td>\n",
       "      <td>8</td>\n",
       "      <td>5</td>\n",
       "      <td>577</td>\n",
       "      <td>0</td>\n",
       "      <td>0</td>\n",
       "    </tr>\n",
       "    <tr>\n",
       "      <th>987703</th>\n",
       "      <td>0</td>\n",
       "      <td>8</td>\n",
       "      <td>1</td>\n",
       "      <td>334</td>\n",
       "      <td>0</td>\n",
       "      <td>0</td>\n",
       "    </tr>\n",
       "    <tr>\n",
       "      <th>987704</th>\n",
       "      <td>8</td>\n",
       "      <td>0</td>\n",
       "      <td>0</td>\n",
       "      <td>326</td>\n",
       "      <td>0</td>\n",
       "      <td>0</td>\n",
       "    </tr>\n",
       "    <tr>\n",
       "      <th>987705</th>\n",
       "      <td>0</td>\n",
       "      <td>8</td>\n",
       "      <td>7</td>\n",
       "      <td>726</td>\n",
       "      <td>0</td>\n",
       "      <td>0</td>\n",
       "    </tr>\n",
       "    <tr>\n",
       "      <th>987706</th>\n",
       "      <td>7</td>\n",
       "      <td>0</td>\n",
       "      <td>1</td>\n",
       "      <td>500</td>\n",
       "      <td>0</td>\n",
       "      <td>0</td>\n",
       "    </tr>\n",
       "    <tr>\n",
       "      <th>987707</th>\n",
       "      <td>0</td>\n",
       "      <td>8</td>\n",
       "      <td>5</td>\n",
       "      <td>619</td>\n",
       "      <td>0</td>\n",
       "      <td>0</td>\n",
       "    </tr>\n",
       "    <tr>\n",
       "      <th>987708</th>\n",
       "      <td>11</td>\n",
       "      <td>8</td>\n",
       "      <td>8</td>\n",
       "      <td>987</td>\n",
       "      <td>0</td>\n",
       "      <td>0</td>\n",
       "    </tr>\n",
       "  </tbody>\n",
       "</table>\n",
       "<p>987709 rows × 6 columns</p>\n",
       "</div>"
      ],
      "text/plain": [
       "       ARP ODP FLO   FLT AOD DLYCNL\n",
       "0        0   8   0   234   1      0\n",
       "1        0   8   0   238   1      0\n",
       "2        0   8  11  1494   1      0\n",
       "3        0   8   5   544   1      0\n",
       "4        8   0   0   233   1      0\n",
       "5        0   8   7   697   1      0\n",
       "6        0   8   8   924   1      0\n",
       "7        0   8   0   240   1      1\n",
       "8        0   8   8   926   1      0\n",
       "9        0   8   9  1171   1      0\n",
       "10       0   8   0   236   1      0\n",
       "11      12   8  11  1539   1      0\n",
       "12       8   0   9  1170   1      0\n",
       "13       0   3   9  1332   1      0\n",
       "14       9   6   9  1270   1      0\n",
       "15       0   8   1   331   1      0\n",
       "16       7   8   1   367   1      0\n",
       "17       8   0   0   261   1      0\n",
       "18       7   6   0   137   1      0\n",
       "19       8   0   8   925   1      0\n",
       "20       0   8  11  1448   1      0\n",
       "21       7   6   9  1261   1      0\n",
       "22       7   9   1   474   1      0\n",
       "23       0   8   5   546   1      0\n",
       "24       7   8   8   989   1      1\n",
       "25       7   8   9  1050   1      0\n",
       "26       8   0   9  1220   1      0\n",
       "27       8   0   0   234   0      0\n",
       "28       0   8   1   333   1      0\n",
       "29       0   8   0   313   1      0\n",
       "...     ..  ..  ..   ...  ..    ...\n",
       "987679  12   8   0    35   0      0\n",
       "987680   0   8  11  1481   0      0\n",
       "987681  11   8   0    60   0      0\n",
       "987682   8   0   7   734   0      0\n",
       "987683   0   7   1   497   0      0\n",
       "987684   0   8   9  1232   0      0\n",
       "987685   0   8   0   325   0      1\n",
       "987686   8   3   0    47   0      1\n",
       "987687   0   8   7   722   0      0\n",
       "987688   0   8   8   962   0      0\n",
       "987689   7   8   9  1067   0      0\n",
       "987690   0   8   0   327   0      0\n",
       "987691   8   0   9  1235   0      0\n",
       "987692   9   8  11  1518   0      0\n",
       "987693   0   8   9  1234   0      0\n",
       "987694   0   8   7   724   0      0\n",
       "987695   0   8   8   959   0      0\n",
       "987696   0   8  11  1483   0      0\n",
       "987697   0   8   0   329   0      0\n",
       "987698   0   8   7   741   0      0\n",
       "987699   0   8   8   960   0      0\n",
       "987700   0   7   1   499   0      0\n",
       "987701  11   8   5   663   0      0\n",
       "987702   0   8   5   577   0      0\n",
       "987703   0   8   1   334   0      0\n",
       "987704   8   0   0   326   0      0\n",
       "987705   0   8   7   726   0      0\n",
       "987706   7   0   1   500   0      0\n",
       "987707   0   8   5   619   0      0\n",
       "987708  11   8   8   987   0      0\n",
       "\n",
       "[987709 rows x 6 columns]"
      ]
     },
     "execution_count": 252,
     "metadata": {},
     "output_type": "execute_result"
    }
   ],
   "source": [
    "LabelTest"
   ]
  },
  {
   "cell_type": "code",
   "execution_count": 253,
   "metadata": {},
   "outputs": [],
   "source": [
    "knn = KNeighborsClassifier()"
   ]
  },
  {
   "cell_type": "code",
   "execution_count": 265,
   "metadata": {},
   "outputs": [],
   "source": [
    "KnnTest = LabelTest.astype(int)"
   ]
  },
  {
   "cell_type": "code",
   "execution_count": 266,
   "metadata": {},
   "outputs": [],
   "source": [
    "x_train, x_test, y_train, y_test = train_test_split(KnnTest.iloc[:,:-1], KnnTest.iloc[:,-1])"
   ]
  },
  {
   "cell_type": "code",
   "execution_count": 267,
   "metadata": {},
   "outputs": [
    {
     "data": {
      "text/plain": [
       "KNeighborsClassifier(algorithm='auto', leaf_size=30, metric='minkowski',\n",
       "           metric_params=None, n_jobs=None, n_neighbors=5, p=2,\n",
       "           weights='uniform')"
      ]
     },
     "execution_count": 267,
     "metadata": {},
     "output_type": "execute_result"
    }
   ],
   "source": [
    "knn.fit(x_train, y_train)"
   ]
  },
  {
   "cell_type": "code",
   "execution_count": 268,
   "metadata": {},
   "outputs": [
    {
     "data": {
      "text/plain": [
       "0.8572215382621655"
      ]
     },
     "execution_count": 268,
     "metadata": {},
     "output_type": "execute_result"
    }
   ],
   "source": [
    "np.mean(knn.predict(x_test) == y_test.values)"
   ]
  },
  {
   "cell_type": "code",
   "execution_count": 269,
   "metadata": {},
   "outputs": [
    {
     "data": {
      "text/plain": [
       "0.8572215382621655"
      ]
     },
     "execution_count": 269,
     "metadata": {},
     "output_type": "execute_result"
    }
   ],
   "source": [
    "knn.score(x_test, y_test)"
   ]
  },
  {
   "cell_type": "code",
   "execution_count": 272,
   "metadata": {},
   "outputs": [
    {
     "data": {
      "text/plain": [
       "array([0, 0, 0, ..., 0, 1, 0])"
      ]
     },
     "execution_count": 272,
     "metadata": {},
     "output_type": "execute_result"
    }
   ],
   "source": [
    "knn.predict(x_test)"
   ]
  },
  {
   "cell_type": "code",
   "execution_count": 275,
   "metadata": {},
   "outputs": [
    {
     "name": "stdout",
     "output_type": "stream",
     "text": [
      "0.8017357286334478\n",
      "0.8604087021317955\n",
      "0.8474818570595477\n",
      "0.8646893021447547\n",
      "0.8572215382621655\n",
      "0.8658313354500097\n",
      "0.8628385602280827\n",
      "0.8670989114235729\n",
      "0.8642276291064602\n",
      "0.8682976414177412\n"
     ]
    }
   ],
   "source": [
    "for x in range(1,11):\n",
    "    knn = KNeighborsClassifier(n_neighbors=x)\n",
    "    knn.fit(x_train, y_train)\n",
    "    print(knn.score(x_test, y_test))"
   ]
  },
  {
   "cell_type": "code",
   "execution_count": 285,
   "metadata": {},
   "outputs": [
    {
     "name": "stdout",
     "output_type": "stream",
     "text": [
      "0.8651833732909998\n",
      "0.8696016652627486\n",
      "0.8668397265599689\n",
      "0.8683745869241236\n",
      "0.8675889328063241\n",
      "0.8699985420851423\n",
      "0.8694072766150457\n",
      "0.8702455776582647\n",
      "0.8698487008358712\n"
     ]
    }
   ],
   "source": [
    "for x in range(11,20):\n",
    "    knn = KNeighborsClassifier(n_neighbors=x)\n",
    "    knn.fit(x_train, y_train)\n",
    "    print(knn.score(x_test, y_test))"
   ]
  },
  {
   "cell_type": "code",
   "execution_count": 289,
   "metadata": {},
   "outputs": [],
   "source": [
    "lr = LinearRegression().fit(x_train, y_train)"
   ]
  },
  {
   "cell_type": "code",
   "execution_count": 291,
   "metadata": {},
   "outputs": [
    {
     "data": {
      "text/plain": [
       "0.026423626066398254"
      ]
     },
     "execution_count": 291,
     "metadata": {},
     "output_type": "execute_result"
    }
   ],
   "source": [
    "lr.score(x_train, y_train)"
   ]
  },
  {
   "cell_type": "code",
   "execution_count": 292,
   "metadata": {},
   "outputs": [
    {
     "data": {
      "text/plain": [
       "0.02726731550216599"
      ]
     },
     "execution_count": 292,
     "metadata": {},
     "output_type": "execute_result"
    }
   ],
   "source": [
    "lr.score(x_test, y_test)"
   ]
  },
  {
   "cell_type": "code",
   "execution_count": 294,
   "metadata": {},
   "outputs": [],
   "source": [
    "ridge = Ridge().fit(x_train, y_train)"
   ]
  },
  {
   "cell_type": "code",
   "execution_count": 296,
   "metadata": {},
   "outputs": [
    {
     "data": {
      "text/plain": [
       "0.026423626065655622"
      ]
     },
     "execution_count": 296,
     "metadata": {},
     "output_type": "execute_result"
    }
   ],
   "source": [
    "ridge.score(x_train, y_train)"
   ]
  },
  {
   "cell_type": "code",
   "execution_count": 295,
   "metadata": {},
   "outputs": [
    {
     "data": {
      "text/plain": [
       "0.027267311519786785"
      ]
     },
     "execution_count": 295,
     "metadata": {},
     "output_type": "execute_result"
    }
   ],
   "source": [
    "ridge.score(x_test, y_test)"
   ]
  },
  {
   "cell_type": "code",
   "execution_count": 304,
   "metadata": {},
   "outputs": [
    {
     "name": "stdout",
     "output_type": "stream",
     "text": [
      "0.0\n"
     ]
    },
    {
     "data": {
      "text/plain": [
       "-3.1250824150674816e-10"
      ]
     },
     "execution_count": 304,
     "metadata": {},
     "output_type": "execute_result"
    }
   ],
   "source": [
    "lasso = Lasso().fit(x_train, y_train)\n",
    "\n",
    "print(lasso.score(x_train, y_train))\n",
    "\n",
    "lasso.score(x_test, y_test)"
   ]
  },
  {
   "cell_type": "code",
   "execution_count": 337,
   "metadata": {},
   "outputs": [
    {
     "name": "stderr",
     "output_type": "stream",
     "text": [
      "C:\\ProgramData\\Anaconda3\\lib\\site-packages\\sklearn\\linear_model\\logistic.py:433: FutureWarning: Default solver will be changed to 'lbfgs' in 0.22. Specify a solver to silence this warning.\n",
      "  FutureWarning)\n"
     ]
    },
    {
     "name": "stdout",
     "output_type": "stream",
     "text": [
      "0.8712196992093479\n"
     ]
    },
    {
     "data": {
      "text/plain": [
       "0.8712256204237673"
      ]
     },
     "execution_count": 337,
     "metadata": {},
     "output_type": "execute_result"
    }
   ],
   "source": [
    "logistic = LogisticRegression(C=100).fit(x_train, y_train)\n",
    "\n",
    "print(logistic.score(x_train, y_train))\n",
    "\n",
    "logistic.score(x_test, y_test)"
   ]
  },
  {
   "cell_type": "code",
   "execution_count": 347,
   "metadata": {},
   "outputs": [
    {
     "name": "stdout",
     "output_type": "stream",
     "text": [
      "2 0.8712196992093479\n",
      "0.8712256204237673\n",
      "3 0.8712196992093479\n",
      "0.8712256204237673\n",
      "4 0.8712196992093479\n",
      "0.8712256204237673\n",
      "5 0.8713641413589172\n",
      "0.8713552128555693\n",
      "6 0.8713708909920745\n",
      "0.871359262619063\n",
      "7 0.8714194883508082\n",
      "0.8714524071794207\n",
      "8 0.8714545864432268\n",
      "0.8713997602540011\n",
      "9 0.8715018338753289\n",
      "0.871403810017495\n"
     ]
    }
   ],
   "source": [
    "for x in range(2 ,10):\n",
    "    tree = DecisionTreeClassifier(max_depth= x,random_state=0)\n",
    "    tree.fit(x_train, y_train)\n",
    "    print(x, tree.score(x_train, y_train))\n",
    "    print(tree.score(x_test, y_test))"
   ]
  },
  {
   "cell_type": "code",
   "execution_count": 348,
   "metadata": {},
   "outputs": [
    {
     "data": {
      "text/plain": [
       "array([0.147094  , 0.02992122, 0.00055049, 0.39297041, 0.42946387])"
      ]
     },
     "execution_count": 348,
     "metadata": {},
     "output_type": "execute_result"
    }
   ],
   "source": [
    "tree.feature_importances_"
   ]
  },
  {
   "cell_type": "code",
   "execution_count": 351,
   "metadata": {},
   "outputs": [
    {
     "name": "stderr",
     "output_type": "stream",
     "text": [
      "C:\\ProgramData\\Anaconda3\\lib\\site-packages\\sklearn\\ensemble\\forest.py:246: FutureWarning: The default value of n_estimators will change from 10 in version 0.20 to 100 in 0.22.\n",
      "  \"10 in version 0.20 to 100 in 0.22.\", FutureWarning)\n"
     ]
    },
    {
     "name": "stdout",
     "output_type": "stream",
     "text": [
      "0.8725007795826297\n",
      "0.8716953929890494\n"
     ]
    }
   ],
   "source": [
    "rf = RandomForestClassifier()\n",
    "rf.fit(x_train, y_train)\n",
    "print(rf.score(x_train, y_train))\n",
    "print(rf.score(x_test, y_test))"
   ]
  },
  {
   "cell_type": "code",
   "execution_count": 352,
   "metadata": {},
   "outputs": [
    {
     "data": {
      "text/plain": [
       "array([0.08661135, 0.04704907, 0.03136761, 0.55282844, 0.28214352])"
      ]
     },
     "execution_count": 352,
     "metadata": {},
     "output_type": "execute_result"
    }
   ],
   "source": [
    "rf.feature_importances_"
   ]
  },
  {
   "cell_type": "code",
   "execution_count": 354,
   "metadata": {},
   "outputs": [
    {
     "name": "stdout",
     "output_type": "stream",
     "text": [
      "0.8712210491359794\n",
      "0.871229670187261\n"
     ]
    }
   ],
   "source": [
    "rf = MLPClassifier()\n",
    "rf.fit(x_train, y_train)\n",
    "print(rf.score(x_train, y_train))\n",
    "print(rf.score(x_test, y_test))"
   ]
  },
  {
   "cell_type": "code",
   "execution_count": 357,
   "metadata": {},
   "outputs": [
    {
     "name": "stderr",
     "output_type": "stream",
     "text": [
      "C:\\ProgramData\\Anaconda3\\lib\\site-packages\\sklearn\\linear_model\\stochastic_gradient.py:166: FutureWarning: max_iter and tol parameters have been added in Perceptron in 0.19. If both are left unset, they default to max_iter=5 and tol=None. If tol is not None, max_iter defaults to max_iter=1000. From 0.21, default max_iter will be 1000, and default tol will be 1e-3.\n",
      "  FutureWarning)\n"
     ]
    },
    {
     "name": "stdout",
     "output_type": "stream",
     "text": [
      "0.8697131810886078\n",
      "0.8700511890105618\n"
     ]
    }
   ],
   "source": [
    "rfP = Perceptron()\n",
    "rfP.fit(x_train, y_train)\n",
    "print(rfP.score(x_train, y_train))\n",
    "print(rfP.score(x_test, y_test))"
   ]
  },
  {
   "cell_type": "code",
   "execution_count": 359,
   "metadata": {},
   "outputs": [
    {
     "name": "stdout",
     "output_type": "stream",
     "text": [
      "0.8712196992093479\n",
      "0.871229670187261\n"
     ]
    }
   ],
   "source": [
    "gbrt = GradientBoostingClassifier()\n",
    "gbrt.fit(x_train, y_train)\n",
    "print(gbrt.score(x_train, y_train))\n",
    "print(gbrt.score(x_test, y_test))"
   ]
  },
  {
   "cell_type": "code",
   "execution_count": null,
   "metadata": {
    "scrolled": true
   },
   "outputs": [
    {
     "name": "stderr",
     "output_type": "stream",
     "text": [
      "C:\\ProgramData\\Anaconda3\\lib\\site-packages\\sklearn\\svm\\base.py:196: FutureWarning: The default value of gamma will change from 'auto' to 'scale' in version 0.22 to account better for unscaled features. Set gamma explicitly to 'auto' or 'scale' to avoid this warning.\n",
      "  \"avoid this warning.\", FutureWarning)\n"
     ]
    }
   ],
   "source": [
    "sc = SVC()\n",
    "sc.fit(x_train, y_train)\n",
    "print(sc.score(x_train, y_train))\n",
    "print(sc.score(x_test, y_test))"
   ]
  },
  {
   "cell_type": "code",
   "execution_count": null,
   "metadata": {},
   "outputs": [],
   "source": [
    "lsc = LinearSVC()\n",
    "lsc.fit(x_train, y_train)\n",
    "print(lsc.score(x_train, y_train))\n",
    "print(lsc.score(x_test, y_test))"
   ]
  },
  {
   "cell_type": "code",
   "execution_count": null,
   "metadata": {},
   "outputs": [],
   "source": [
    "gbrt.predict_proba(X_test)"
   ]
  },
  {
   "cell_type": "code",
   "execution_count": null,
   "metadata": {},
   "outputs": [],
   "source": [
    "Test3"
   ]
  },
  {
   "cell_type": "code",
   "execution_count": null,
   "metadata": {},
   "outputs": [],
   "source": []
  },
  {
   "cell_type": "markdown",
   "metadata": {},
   "source": [
    "## Model Select"
   ]
  },
  {
   "cell_type": "code",
   "execution_count": 87,
   "metadata": {
    "scrolled": true
   },
   "outputs": [],
   "source": [
    "b =((Test[\"CNR\"] != 'A05') & (Test[\"CNR\"] != 'A01') & (Test[\"CNR\"] != 'A02') &(Test[\"CNR\"] != 'A07') & (Test[\"CNR\"] != 'A03') & (Test[\"CNR\"] != 'A10') & (Test[\"CNR\"] != 'A99')& (Test[\"CNR\"] != 'A09') & (Test[\"CNR\"] != 'A04'))\n",
    "\n",
    "a = ((Test[\"DRR\"] != 'A05') & (Test[\"DRR\"] != 'A01') & (Test[\"DRR\"] != 'A02') & (Test[\"DRR\"] != 'A07') & (Test[\"DRR\"] != 'A03') & (Test[\"DRR\"] != 'A10') & (Test[\"DRR\"] != 'A99') & (Test[\"DRR\"] != 'A09') & (Test[\"DRR\"] != 'A04') & (Test[\"DRR\"] != 'A06'))\n",
    "\n",
    "Test[\"DLYCNL\"] = 0\n",
    "\n",
    "Test.loc[((Test[\"DLY\"] == \"Y\") & (a)) | ((Test[\"CNL\"] == \"Y\") & (b)) , [\"DLYCNL\"] ] = 1"
   ]
  },
  {
   "cell_type": "code",
   "execution_count": 9,
   "metadata": {},
   "outputs": [],
   "source": [
    "Test.drop([\"DRR\", \"DLY\", \"CNL\", \"CNR\"], axis=1, inplace=True)"
   ]
  },
  {
   "cell_type": "code",
   "execution_count": 42,
   "metadata": {
    "collapsed": true
   },
   "outputs": [
    {
     "data": {
      "text/plain": [
       "A05    839\n",
       "C02    642\n",
       "A01    467\n",
       "A02    306\n",
       "A07    257\n",
       "C01    198\n",
       "B08    107\n",
       "B03     66\n",
       "Z99     32\n",
       "A03     30\n",
       "A10     24\n",
       "A99     15\n",
       "A09      8\n",
       "C10      6\n",
       "B06      6\n",
       "C06      5\n",
       "A04      4\n",
       "Z01      3\n",
       "C14      2\n",
       "C03      1\n",
       "Name: CNR, dtype: int64"
      ]
     },
     "execution_count": 42,
     "metadata": {},
     "output_type": "execute_result"
    }
   ],
   "source": [
    "Test[\"CNR\"].value_counts()"
   ]
  },
  {
   "cell_type": "code",
   "execution_count": 41,
   "metadata": {
    "scrolled": true
   },
   "outputs": [
    {
     "data": {
      "text/plain": [
       "C02    108578\n",
       "C01      2042\n",
       "A01      1543\n",
       "C10      1237\n",
       "D01       957\n",
       "C03       913\n",
       "C14       879\n",
       "Z99       669\n",
       "A05       608\n",
       "B01       418\n",
       "A02       393\n",
       "C04       318\n",
       "C11       190\n",
       "A10       164\n",
       "A99       141\n",
       "B03       137\n",
       "C05       122\n",
       "C09       106\n",
       "A07        77\n",
       "A09        72\n",
       "C06        67\n",
       "A04        49\n",
       "C13        43\n",
       "C16        36\n",
       "Z01        35\n",
       "A03        33\n",
       "D03        32\n",
       "A06        27\n",
       "C07         5\n",
       "C15         5\n",
       "B08         5\n",
       "C12         4\n",
       "B07         3\n",
       "B06         3\n",
       "B04         3\n",
       "B02         2\n",
       "C17         1\n",
       "Name: DRR, dtype: int64"
      ]
     },
     "execution_count": 41,
     "metadata": {},
     "output_type": "execute_result"
    }
   ],
   "source": [
    "Test[\"DRR\"].value_counts()"
   ]
  },
  {
   "cell_type": "code",
   "execution_count": 10,
   "metadata": {},
   "outputs": [],
   "source": [
    "le = LabelEncoder()"
   ]
  },
  {
   "cell_type": "code",
   "execution_count": 13,
   "metadata": {},
   "outputs": [],
   "source": [
    "X = Test.iloc[:, :].values"
   ]
  },
  {
   "cell_type": "code",
   "execution_count": 23,
   "metadata": {},
   "outputs": [],
   "source": [
    "Test[\"FLT\"] = X[:, 4]"
   ]
  },
  {
   "cell_type": "code",
   "execution_count": 22,
   "metadata": {},
   "outputs": [
    {
     "data": {
      "text/plain": [
       "array([234, 238, 1494, ..., 500, 619, 987], dtype=object)"
      ]
     },
     "execution_count": 22,
     "metadata": {},
     "output_type": "execute_result"
    }
   ],
   "source": [
    "X[:, 4]"
   ]
  },
  {
   "cell_type": "code",
   "execution_count": 19,
   "metadata": {},
   "outputs": [],
   "source": [
    "X[:, 4] = le.fit_transform(X[:, 4])"
   ]
  },
  {
   "cell_type": "code",
   "execution_count": 31,
   "metadata": {},
   "outputs": [],
   "source": [
    "Test1 = Test.drop(\"FLT\", axis =1)"
   ]
  },
  {
   "cell_type": "code",
   "execution_count": 32,
   "metadata": {
    "scrolled": true
   },
   "outputs": [],
   "source": [
    "Test_dummie = pd.get_dummies(Test1.iloc[:, :-1])"
   ]
  },
  {
   "cell_type": "code",
   "execution_count": 38,
   "metadata": {
    "scrolled": true
   },
   "outputs": [],
   "source": [
    "Test_dummie = pd.concat([Test_dummie, Test[\"FLT\"]], axis = 1)"
   ]
  },
  {
   "cell_type": "code",
   "execution_count": 41,
   "metadata": {},
   "outputs": [],
   "source": [
    "x_train, x_test, y_train, y_test = train_test_split(Test_dummie, Test[\"DLYCNL\"], random_state=0)"
   ]
  },
  {
   "cell_type": "code",
   "execution_count": 50,
   "metadata": {},
   "outputs": [
    {
     "name": "stdout",
     "output_type": "stream",
     "text": [
      "KNN\n",
      "0.8636871086056472\n",
      "0.8612227045940517\n"
     ]
    }
   ],
   "source": [
    "knn = KNeighborsClassifier()\n",
    "knn.fit(x_train, y_train)\n",
    "print(\"KNN\")\n",
    "print(knn.score(x_train, y_train))\n",
    "print(knn.score(x_test, y_test))\n",
    "\n",
    "tree = DecisionTreeClassifier(random_state=0)\n",
    "tree.fit(x_train, y_train)\n",
    "print(\"Tree\")\n",
    "print(tree.score(x_train, y_train))\n",
    "print(tree.score(x_test, y_test))\n",
    "print(tree.feature_importances_)\n",
    "\n",
    "print(\"GBRT\")\n",
    "gbrt = GradientBoostingClassifier()\n",
    "gbrt.fit(x_train, y_train)\n",
    "print(gbrt.score(x_train, y_train))\n",
    "print(gbrt.score(x_test, y_test))\n",
    "print(gbrt.predict_proba(x_test))\n",
    "\n",
    "print(\"Perceptron\")\n",
    "rfP = Perceptron()\n",
    "rfP.fit(x_train, y_train)\n",
    "print(rfP.score(x_train, y_train))\n",
    "print(rfP.score(x_test, y_test))\n",
    "\n",
    "print(\"Random\")\n",
    "rf = RandomForestClassifier()\n",
    "rf.fit(x_train, y_train)\n",
    "print(rf.score(x_train, y_train))\n",
    "print(rf.score(x_test, y_test))\n",
    "print(rf.feature_importances_)"
   ]
  },
  {
   "cell_type": "markdown",
   "metadata": {},
   "source": [
    "## 전처리"
   ]
  },
  {
   "cell_type": "code",
   "execution_count": 83,
   "metadata": {},
   "outputs": [],
   "source": [
    "Test = AFSNT.copy()"
   ]
  },
  {
   "cell_type": "code",
   "execution_count": 85,
   "metadata": {},
   "outputs": [],
   "source": [
    "Test.drop([\"SDT_YY\", \"SDT_DD\", \"SDT_MM\", \"REG\", \"IRR\", \"STT\", \"ATT\"], axis = 1, inplace = True)"
   ]
  },
  {
   "cell_type": "code",
   "execution_count": 88,
   "metadata": {},
   "outputs": [],
   "source": [
    "b =((Test[\"CNR\"] != 'A05') & (Test[\"CNR\"] != 'A01') & (Test[\"CNR\"] != 'A02') &(Test[\"CNR\"] != 'A07') & (Test[\"CNR\"] != 'A03') & (Test[\"CNR\"] != 'A10') & (Test[\"CNR\"] != 'A99')& (Test[\"CNR\"] != 'A09') & (Test[\"CNR\"] != 'A04')).sum()\n",
    "\n",
    "a = ((Test[\"DRR\"] != 'A05') & (Test[\"DRR\"] != 'A01') & (Test[\"DRR\"] != 'A02') & (Test[\"DRR\"] != 'A07') & (Test[\"DRR\"] != 'A03') & (Test[\"DRR\"] != 'A10') & (Test[\"DRR\"] != 'A99') & (Test[\"DRR\"] != 'A09') & (Test[\"DRR\"] != 'A04') & (Test[\"DRR\"] != 'A06'))\n",
    "\n",
    "Test[\"DLYCNL\"] = 0\n",
    "\n",
    "Test.loc[((Test[\"DLY\"] == \"Y\") & (a)) | ((Test[\"CNL\"] == \"Y\") & (b)) , [\"DLYCNL\"] ] = 1"
   ]
  },
  {
   "cell_type": "code",
   "execution_count": 90,
   "metadata": {},
   "outputs": [],
   "source": [
    "Test.drop([\"DRR\", \"DLY\", \"CNL\", \"CNR\"], axis=1, inplace=True)"
   ]
  },
  {
   "cell_type": "code",
   "execution_count": 91,
   "metadata": {},
   "outputs": [
    {
     "data": {
      "text/html": [
       "<div>\n",
       "<style scoped>\n",
       "    .dataframe tbody tr th:only-of-type {\n",
       "        vertical-align: middle;\n",
       "    }\n",
       "\n",
       "    .dataframe tbody tr th {\n",
       "        vertical-align: top;\n",
       "    }\n",
       "\n",
       "    .dataframe thead th {\n",
       "        text-align: right;\n",
       "    }\n",
       "</style>\n",
       "<table border=\"1\" class=\"dataframe\">\n",
       "  <thead>\n",
       "    <tr style=\"text-align: right;\">\n",
       "      <th></th>\n",
       "      <th>SDT_DY</th>\n",
       "      <th>ARP</th>\n",
       "      <th>ODP</th>\n",
       "      <th>FLO</th>\n",
       "      <th>FLT</th>\n",
       "      <th>AOD</th>\n",
       "      <th>DLYCNL</th>\n",
       "    </tr>\n",
       "  </thead>\n",
       "  <tbody>\n",
       "    <tr>\n",
       "      <th>0</th>\n",
       "      <td>일</td>\n",
       "      <td>ARP1</td>\n",
       "      <td>ARP3</td>\n",
       "      <td>A</td>\n",
       "      <td>A1901</td>\n",
       "      <td>D</td>\n",
       "      <td>0</td>\n",
       "    </tr>\n",
       "    <tr>\n",
       "      <th>1</th>\n",
       "      <td>일</td>\n",
       "      <td>ARP1</td>\n",
       "      <td>ARP3</td>\n",
       "      <td>A</td>\n",
       "      <td>A1905</td>\n",
       "      <td>D</td>\n",
       "      <td>0</td>\n",
       "    </tr>\n",
       "    <tr>\n",
       "      <th>2</th>\n",
       "      <td>일</td>\n",
       "      <td>ARP1</td>\n",
       "      <td>ARP3</td>\n",
       "      <td>L</td>\n",
       "      <td>L1751</td>\n",
       "      <td>D</td>\n",
       "      <td>0</td>\n",
       "    </tr>\n",
       "    <tr>\n",
       "      <th>3</th>\n",
       "      <td>일</td>\n",
       "      <td>ARP1</td>\n",
       "      <td>ARP3</td>\n",
       "      <td>F</td>\n",
       "      <td>F1201</td>\n",
       "      <td>D</td>\n",
       "      <td>0</td>\n",
       "    </tr>\n",
       "    <tr>\n",
       "      <th>4</th>\n",
       "      <td>일</td>\n",
       "      <td>ARP3</td>\n",
       "      <td>ARP1</td>\n",
       "      <td>A</td>\n",
       "      <td>A1900</td>\n",
       "      <td>D</td>\n",
       "      <td>0</td>\n",
       "    </tr>\n",
       "  </tbody>\n",
       "</table>\n",
       "</div>"
      ],
      "text/plain": [
       "  SDT_DY   ARP   ODP FLO    FLT AOD  DLYCNL\n",
       "0      일  ARP1  ARP3   A  A1901   D       0\n",
       "1      일  ARP1  ARP3   A  A1905   D       0\n",
       "2      일  ARP1  ARP3   L  L1751   D       0\n",
       "3      일  ARP1  ARP3   F  F1201   D       0\n",
       "4      일  ARP3  ARP1   A  A1900   D       0"
      ]
     },
     "execution_count": 91,
     "metadata": {},
     "output_type": "execute_result"
    }
   ],
   "source": [
    "Test.head()"
   ]
  },
  {
   "cell_type": "code",
   "execution_count": 99,
   "metadata": {},
   "outputs": [],
   "source": [
    "Test_DLY = AFSNT_DLY.copy()"
   ]
  },
  {
   "cell_type": "code",
   "execution_count": 100,
   "metadata": {},
   "outputs": [],
   "source": [
    "Test_DLY.drop([\"SDT_YY\", \"SDT_MM\", \"SDT_DD\", \"STT\", \"DLY\", \"DLY_RATE\"], axis=1, inplace = True)"
   ]
  },
  {
   "cell_type": "code",
   "execution_count": 103,
   "metadata": {},
   "outputs": [],
   "source": [
    "Test_DLY[\"DLYCNL\"] = 0"
   ]
  },
  {
   "cell_type": "code",
   "execution_count": 109,
   "metadata": {
    "scrolled": true
   },
   "outputs": [],
   "source": [
    "Test_concat = pd.concat([Test, Test_DLY], sort=False)"
   ]
  },
  {
   "cell_type": "code",
   "execution_count": 112,
   "metadata": {
    "scrolled": true
   },
   "outputs": [],
   "source": [
    "le = LabelEncoder()\n",
    "X = Test_concat.iloc[:, :].values\n",
    "X[:, 4] = le.fit_transform(X[:, 4])"
   ]
  },
  {
   "cell_type": "code",
   "execution_count": 115,
   "metadata": {},
   "outputs": [],
   "source": [
    "Test_concat[\"FLT\"] = X[:, 4]"
   ]
  },
  {
   "cell_type": "code",
   "execution_count": 125,
   "metadata": {},
   "outputs": [
    {
     "data": {
      "text/plain": [
       "987709"
      ]
     },
     "execution_count": 125,
     "metadata": {},
     "output_type": "execute_result"
    }
   ],
   "source": [
    "len(Test)"
   ]
  },
  {
   "cell_type": "code",
   "execution_count": 127,
   "metadata": {},
   "outputs": [],
   "source": [
    "Drop_FLT = Test_concat.drop([\"FLT\", \"DLYCNL\"], axis=1)"
   ]
  },
  {
   "cell_type": "code",
   "execution_count": 128,
   "metadata": {},
   "outputs": [],
   "source": [
    "Test_dummie = pd.get_dummies(Drop_FLT)"
   ]
  },
  {
   "cell_type": "code",
   "execution_count": 137,
   "metadata": {
    "scrolled": true
   },
   "outputs": [],
   "source": [
    "Test_Concat = pd.concat([Test_dummie,Test_concat[[\"FLT\",\"DLYCNL\"]]], axis = 1)"
   ]
  },
  {
   "cell_type": "code",
   "execution_count": 140,
   "metadata": {},
   "outputs": [
    {
     "name": "stdout",
     "output_type": "stream",
     "text": [
      "KNN\n",
      "0.8620018649217532\n"
     ]
    }
   ],
   "source": [
    "knn = KNeighborsClassifier()\n",
    "knn.fit(Test_Concat.iloc[:987709, :-1], Test_Concat.iloc[:987709, -1])\n",
    "print(\"KNN\")\n",
    "print(knn.score(Test_Concat.iloc[:987709, :-1], Test_Concat.iloc[:987709, -1]))"
   ]
  },
  {
   "cell_type": "code",
   "execution_count": 141,
   "metadata": {},
   "outputs": [
    {
     "name": "stdout",
     "output_type": "stream",
     "text": [
      "Tree\n",
      "0.8765699208977543\n",
      "GBRT\n",
      "0.8742990091211076\n",
      "[[0.92737689 0.07262311]\n",
      " [0.91455301 0.08544699]\n",
      " [0.88298469 0.11701531]\n",
      " ...\n",
      " [0.92920898 0.07079102]\n",
      " [0.91301219 0.08698781]\n",
      " [0.91573415 0.08426585]]\n",
      "Perceptron\n"
     ]
    },
    {
     "name": "stderr",
     "output_type": "stream",
     "text": [
      "C:\\ProgramData\\Anaconda3\\lib\\site-packages\\sklearn\\linear_model\\stochastic_gradient.py:166: FutureWarning: max_iter and tol parameters have been added in Perceptron in 0.19. If both are left unset, they default to max_iter=5 and tol=None. If tol is not None, max_iter defaults to max_iter=1000. From 0.21, default max_iter will be 1000, and default tol will be 1e-3.\n",
      "  FutureWarning)\n"
     ]
    },
    {
     "name": "stdout",
     "output_type": "stream",
     "text": [
      "0.8719460893846265\n",
      "Random\n"
     ]
    },
    {
     "name": "stderr",
     "output_type": "stream",
     "text": [
      "C:\\ProgramData\\Anaconda3\\lib\\site-packages\\sklearn\\ensemble\\forest.py:246: FutureWarning: The default value of n_estimators will change from 10 in version 0.20 to 100 in 0.22.\n",
      "  \"10 in version 0.20 to 100 in 0.22.\", FutureWarning)\n"
     ]
    },
    {
     "name": "stdout",
     "output_type": "stream",
     "text": [
      "0.8764585520634114\n"
     ]
    }
   ],
   "source": [
    "tree = DecisionTreeClassifier(random_state=0)\n",
    "tree.fit(Test_Concat.iloc[:987709, :-1], Test_Concat.iloc[:987709, -1])\n",
    "print(\"Tree\")\n",
    "print(tree.score(Test_Concat.iloc[:987709, :-1], Test_Concat.iloc[:987709, -1]))\n",
    "\n",
    "print(\"GBRT\")\n",
    "gbrt = GradientBoostingClassifier()\n",
    "gbrt.fit(Test_Concat.iloc[:987709, :-1], Test_Concat.iloc[:987709, -1])\n",
    "print(gbrt.score(Test_Concat.iloc[:987709, :-1], Test_Concat.iloc[:987709, -1]))\n",
    "print(gbrt.predict_proba(Test_Concat.iloc[:987709, :-1]))\n",
    "\n",
    "print(\"Perceptron\")\n",
    "rfP = Perceptron()\n",
    "rfP.fit(Test_Concat.iloc[:987709, :-1], Test_Concat.iloc[:987709, -1])\n",
    "print(rfP.score(Test_Concat.iloc[:987709, :-1], Test_Concat.iloc[:987709, -1]))\n",
    "\n",
    "print(\"Random\")\n",
    "rf = RandomForestClassifier()\n",
    "rf.fit(Test_Concat.iloc[:987709, :-1], Test_Concat.iloc[:987709, -1])\n",
    "print(rf.score(Test_Concat.iloc[:987709, :-1], Test_Concat.iloc[:987709, -1]))"
   ]
  },
  {
   "cell_type": "code",
   "execution_count": 143,
   "metadata": {},
   "outputs": [
    {
     "name": "stderr",
     "output_type": "stream",
     "text": [
      "C:\\ProgramData\\Anaconda3\\lib\\site-packages\\sklearn\\model_selection\\_split.py:2053: FutureWarning: You should specify a value for 'cv' instead of relying on the default value. The default value will change from 3 to 5 in version 0.22.\n",
      "  warnings.warn(CV_WARNING, FutureWarning)\n",
      "C:\\ProgramData\\Anaconda3\\lib\\site-packages\\sklearn\\model_selection\\_split.py:2053: FutureWarning: You should specify a value for 'cv' instead of relying on the default value. The default value will change from 3 to 5 in version 0.22.\n",
      "  warnings.warn(CV_WARNING, FutureWarning)\n",
      "C:\\ProgramData\\Anaconda3\\lib\\site-packages\\sklearn\\model_selection\\_split.py:2053: FutureWarning: You should specify a value for 'cv' instead of relying on the default value. The default value will change from 3 to 5 in version 0.22.\n",
      "  warnings.warn(CV_WARNING, FutureWarning)\n",
      "C:\\ProgramData\\Anaconda3\\lib\\site-packages\\sklearn\\model_selection\\_split.py:2053: FutureWarning: You should specify a value for 'cv' instead of relying on the default value. The default value will change from 3 to 5 in version 0.22.\n",
      "  warnings.warn(CV_WARNING, FutureWarning)\n",
      "C:\\ProgramData\\Anaconda3\\lib\\site-packages\\sklearn\\linear_model\\stochastic_gradient.py:166: FutureWarning: max_iter and tol parameters have been added in Perceptron in 0.19. If both are left unset, they default to max_iter=5 and tol=None. If tol is not None, max_iter defaults to max_iter=1000. From 0.21, default max_iter will be 1000, and default tol will be 1e-3.\n",
      "  FutureWarning)\n",
      "C:\\ProgramData\\Anaconda3\\lib\\site-packages\\sklearn\\linear_model\\stochastic_gradient.py:166: FutureWarning: max_iter and tol parameters have been added in Perceptron in 0.19. If both are left unset, they default to max_iter=5 and tol=None. If tol is not None, max_iter defaults to max_iter=1000. From 0.21, default max_iter will be 1000, and default tol will be 1e-3.\n",
      "  FutureWarning)\n",
      "C:\\ProgramData\\Anaconda3\\lib\\site-packages\\sklearn\\linear_model\\stochastic_gradient.py:166: FutureWarning: max_iter and tol parameters have been added in Perceptron in 0.19. If both are left unset, they default to max_iter=5 and tol=None. If tol is not None, max_iter defaults to max_iter=1000. From 0.21, default max_iter will be 1000, and default tol will be 1e-3.\n",
      "  FutureWarning)\n",
      "C:\\ProgramData\\Anaconda3\\lib\\site-packages\\sklearn\\model_selection\\_split.py:2053: FutureWarning: You should specify a value for 'cv' instead of relying on the default value. The default value will change from 3 to 5 in version 0.22.\n",
      "  warnings.warn(CV_WARNING, FutureWarning)\n"
     ]
    }
   ],
   "source": [
    "score_knn = cross_val_score(knn, Test_Concat.iloc[:987709, :-1], Test_Concat.iloc[:987709, -1])\n",
    "score_tree = cross_val_score(tree, Test_Concat.iloc[:987709, :-1], Test_Concat.iloc[:987709, -1])\n",
    "score_gbrt = cross_val_score(gbrt, Test_Concat.iloc[:987709, :-1], Test_Concat.iloc[:987709, -1])\n",
    "score_rfP = cross_val_score(rfP, Test_Concat.iloc[:987709, :-1], Test_Concat.iloc[:987709, -1])\n",
    "score_rf = cross_val_score(rf, Test_Concat.iloc[:987709, :-1], Test_Concat.iloc[:987709, -1])"
   ]
  },
  {
   "cell_type": "code",
   "execution_count": 145,
   "metadata": {},
   "outputs": [
    {
     "name": "stdout",
     "output_type": "stream",
     "text": [
      "0.8558664541379937 0.870546892149822 0.8742787601711505 0.7630852868724406 0.8703788267270198\n"
     ]
    }
   ],
   "source": [
    "print(score_knn.mean(), score_tree.mean(), score_gbrt.mean(), score_rfP.mean(), score_rf.mean())"
   ]
  },
  {
   "cell_type": "code",
   "execution_count": 146,
   "metadata": {},
   "outputs": [],
   "source": [
    "Knn_predict = knn.predict(Test_Concat.iloc[987709:, :-1])\n",
    "Tree_predict = tree.predict(Test_Concat.iloc[987709:, :-1])\n",
    "Gbrt_predict = gbrt.predict(Test_Concat.iloc[987709:, :-1])\n",
    "RfP_predict = rfP.predict(Test_Concat.iloc[987709:, :-1])\n",
    "Rf_predict = rf.predict(Test_Concat.iloc[987709:, :-1])"
   ]
  },
  {
   "cell_type": "code",
   "execution_count": 159,
   "metadata": {},
   "outputs": [],
   "source": [
    "aa = knn.predict(Test_Concat.iloc[:987709, :-1])\n",
    "bb = rfP.predict(Test_Concat.iloc[:987709, :-1])\n",
    "cc = gbrt.predict(Test_Concat.iloc[:987709, :-1])\n",
    "dd = tree.predict(Test_Concat.iloc[:987709, :-1])\n",
    "ee = rf.predict(Test_Concat.iloc[:987709, :-1])"
   ]
  },
  {
   "cell_type": "code",
   "execution_count": 154,
   "metadata": {},
   "outputs": [
    {
     "data": {
      "text/plain": [
       "0"
      ]
     },
     "execution_count": 154,
     "metadata": {},
     "output_type": "execute_result"
    }
   ],
   "source": [
    "Test_Concat.iloc[:987709, -1][0]"
   ]
  },
  {
   "cell_type": "code",
   "execution_count": 156,
   "metadata": {},
   "outputs": [
    {
     "data": {
      "text/plain": [
       "124156"
      ]
     },
     "execution_count": 156,
     "metadata": {},
     "output_type": "execute_result"
    }
   ],
   "source": [
    "Test_Concat.iloc[:987709, -1].sum()"
   ]
  },
  {
   "cell_type": "code",
   "execution_count": 160,
   "metadata": {
    "scrolled": false
   },
   "outputs": [
    {
     "name": "stdout",
     "output_type": "stream",
     "text": [
      "42416 3888 0 9311 9595\n"
     ]
    }
   ],
   "source": [
    "print(aa.sum(), bb.sum(), cc.sum(),  dd.sum(), ee.sum())"
   ]
  },
  {
   "cell_type": "code",
   "execution_count": 171,
   "metadata": {},
   "outputs": [
    {
     "name": "stdout",
     "output_type": "stream",
     "text": [
      "730 159 0 62 149\n"
     ]
    }
   ],
   "source": [
    "print(Knn_predict.sum(),\n",
    "\n",
    "Tree_predict.sum(),\n",
    "\n",
    "Gbrt_predict.sum(),\n",
    "\n",
    "RfP_predict.sum(),\n",
    "\n",
    "Rf_predict.sum())"
   ]
  },
  {
   "cell_type": "code",
   "execution_count": 174,
   "metadata": {},
   "outputs": [],
   "source": [
    "Gbrt_proba = gbrt.predict_proba(Test_Concat.iloc[:987709, :-1])"
   ]
  },
  {
   "cell_type": "code",
   "execution_count": 308,
   "metadata": {},
   "outputs": [],
   "source": [
    "ff = aa + bb + cc + dd + ee"
   ]
  },
  {
   "cell_type": "code",
   "execution_count": 309,
   "metadata": {},
   "outputs": [],
   "source": [
    "ff = pd.DataFrame(ff)"
   ]
  },
  {
   "cell_type": "code",
   "execution_count": 310,
   "metadata": {},
   "outputs": [],
   "source": [
    "ff[0] = ff[0].map({0 : 0, 1 : 0, 2 : 0, 3: 0, 4 :1 })"
   ]
  },
  {
   "cell_type": "code",
   "execution_count": 291,
   "metadata": {},
   "outputs": [],
   "source": [
    "ff.fillna(0, inplace = True)"
   ]
  },
  {
   "cell_type": "code",
   "execution_count": 311,
   "metadata": {},
   "outputs": [
    {
     "data": {
      "text/plain": [
       "0    221\n",
       "dtype: int64"
      ]
     },
     "execution_count": 311,
     "metadata": {},
     "output_type": "execute_result"
    }
   ],
   "source": [
    "ff.sum()"
   ]
  },
  {
   "cell_type": "code",
   "execution_count": 312,
   "metadata": {},
   "outputs": [],
   "source": [
    "ff.to_csv(\"fff.csv\")"
   ]
  },
  {
   "cell_type": "code",
   "execution_count": 213,
   "metadata": {},
   "outputs": [
    {
     "name": "stderr",
     "output_type": "stream",
     "text": [
      "C:\\ProgramData\\Anaconda3\\lib\\site-packages\\ipykernel_launcher.py:1: FutureWarning: The signature of `Series.to_csv` was aligned to that of `DataFrame.to_csv`, and argument 'header' will change its default value from False to True: please pass an explicit value to suppress this warning.\n",
      "  \"\"\"Entry point for launching an IPython kernel.\n"
     ]
    }
   ],
   "source": [
    "Test_Concat.iloc[:987709, -1].to_csv(\"gg.csv\")"
   ]
  },
  {
   "cell_type": "code",
   "execution_count": 275,
   "metadata": {
    "scrolled": true
   },
   "outputs": [
    {
     "ename": "MemoryError",
     "evalue": "",
     "output_type": "error",
     "traceback": [
      "\u001b[1;31m---------------------------------------------------------------------------\u001b[0m",
      "\u001b[1;31mMemoryError\u001b[0m                               Traceback (most recent call last)",
      "\u001b[1;32m<ipython-input-275-e2e564420931>\u001b[0m in \u001b[0;36m<module>\u001b[1;34m\u001b[0m\n\u001b[1;32m----> 1\u001b[1;33m \u001b[0mnp\u001b[0m\u001b[1;33m.\u001b[0m\u001b[0mmean\u001b[0m\u001b[1;33m(\u001b[0m\u001b[0mff\u001b[0m \u001b[1;33m==\u001b[0m \u001b[0mggg\u001b[0m\u001b[1;33m[\u001b[0m\u001b[1;34m'0.1'\u001b[0m\u001b[1;33m]\u001b[0m\u001b[1;33m)\u001b[0m\u001b[1;33m\u001b[0m\u001b[1;33m\u001b[0m\u001b[0m\n\u001b[0m",
      "\u001b[1;32mC:\\ProgramData\\Anaconda3\\lib\\site-packages\\pandas\\core\\ops.py\u001b[0m in \u001b[0;36mf\u001b[1;34m(self, other)\u001b[0m\n\u001b[0;32m   2101\u001b[0m             return _combine_series_frame(self, other, func,\n\u001b[0;32m   2102\u001b[0m                                          \u001b[0mfill_value\u001b[0m\u001b[1;33m=\u001b[0m\u001b[1;32mNone\u001b[0m\u001b[1;33m,\u001b[0m \u001b[0maxis\u001b[0m\u001b[1;33m=\u001b[0m\u001b[1;32mNone\u001b[0m\u001b[1;33m,\u001b[0m\u001b[1;33m\u001b[0m\u001b[1;33m\u001b[0m\u001b[0m\n\u001b[1;32m-> 2103\u001b[1;33m                                          level=None)\n\u001b[0m\u001b[0;32m   2104\u001b[0m         \u001b[1;32melse\u001b[0m\u001b[1;33m:\u001b[0m\u001b[1;33m\u001b[0m\u001b[1;33m\u001b[0m\u001b[0m\n\u001b[0;32m   2105\u001b[0m \u001b[1;33m\u001b[0m\u001b[0m\n",
      "\u001b[1;32mC:\\ProgramData\\Anaconda3\\lib\\site-packages\\pandas\\core\\ops.py\u001b[0m in \u001b[0;36m_combine_series_frame\u001b[1;34m(self, other, func, fill_value, axis, level)\u001b[0m\n\u001b[0;32m   1928\u001b[0m \u001b[1;33m\u001b[0m\u001b[0m\n\u001b[0;32m   1929\u001b[0m         \u001b[1;31m# default axis is columns\u001b[0m\u001b[1;33m\u001b[0m\u001b[1;33m\u001b[0m\u001b[1;33m\u001b[0m\u001b[0m\n\u001b[1;32m-> 1930\u001b[1;33m         \u001b[1;32mreturn\u001b[0m \u001b[0mself\u001b[0m\u001b[1;33m.\u001b[0m\u001b[0m_combine_match_columns\u001b[0m\u001b[1;33m(\u001b[0m\u001b[0mother\u001b[0m\u001b[1;33m,\u001b[0m \u001b[0mfunc\u001b[0m\u001b[1;33m,\u001b[0m \u001b[0mlevel\u001b[0m\u001b[1;33m=\u001b[0m\u001b[0mlevel\u001b[0m\u001b[1;33m)\u001b[0m\u001b[1;33m\u001b[0m\u001b[1;33m\u001b[0m\u001b[0m\n\u001b[0m\u001b[0;32m   1931\u001b[0m \u001b[1;33m\u001b[0m\u001b[0m\n\u001b[0;32m   1932\u001b[0m \u001b[1;33m\u001b[0m\u001b[0m\n",
      "\u001b[1;32mC:\\ProgramData\\Anaconda3\\lib\\site-packages\\pandas\\core\\frame.py\u001b[0m in \u001b[0;36m_combine_match_columns\u001b[1;34m(self, other, func, level)\u001b[0m\n\u001b[0;32m   5112\u001b[0m         \u001b[1;32massert\u001b[0m \u001b[0misinstance\u001b[0m\u001b[1;33m(\u001b[0m\u001b[0mother\u001b[0m\u001b[1;33m,\u001b[0m \u001b[0mSeries\u001b[0m\u001b[1;33m)\u001b[0m\u001b[1;33m\u001b[0m\u001b[1;33m\u001b[0m\u001b[0m\n\u001b[0;32m   5113\u001b[0m         left, right = self.align(other, join='outer', axis=1, level=level,\n\u001b[1;32m-> 5114\u001b[1;33m                                  copy=False)\n\u001b[0m\u001b[0;32m   5115\u001b[0m         \u001b[1;32massert\u001b[0m \u001b[0mleft\u001b[0m\u001b[1;33m.\u001b[0m\u001b[0mcolumns\u001b[0m\u001b[1;33m.\u001b[0m\u001b[0mequals\u001b[0m\u001b[1;33m(\u001b[0m\u001b[0mright\u001b[0m\u001b[1;33m.\u001b[0m\u001b[0mindex\u001b[0m\u001b[1;33m)\u001b[0m\u001b[1;33m\u001b[0m\u001b[1;33m\u001b[0m\u001b[0m\n\u001b[0;32m   5116\u001b[0m         \u001b[1;32mreturn\u001b[0m \u001b[0mops\u001b[0m\u001b[1;33m.\u001b[0m\u001b[0mdispatch_to_series\u001b[0m\u001b[1;33m(\u001b[0m\u001b[0mleft\u001b[0m\u001b[1;33m,\u001b[0m \u001b[0mright\u001b[0m\u001b[1;33m,\u001b[0m \u001b[0mfunc\u001b[0m\u001b[1;33m,\u001b[0m \u001b[0maxis\u001b[0m\u001b[1;33m=\u001b[0m\u001b[1;34m\"columns\"\u001b[0m\u001b[1;33m)\u001b[0m\u001b[1;33m\u001b[0m\u001b[1;33m\u001b[0m\u001b[0m\n",
      "\u001b[1;32mC:\\ProgramData\\Anaconda3\\lib\\site-packages\\pandas\\core\\frame.py\u001b[0m in \u001b[0;36malign\u001b[1;34m(self, other, join, axis, level, copy, fill_value, method, limit, fill_axis, broadcast_axis)\u001b[0m\n\u001b[0;32m   3790\u001b[0m                                             \u001b[0mmethod\u001b[0m\u001b[1;33m=\u001b[0m\u001b[0mmethod\u001b[0m\u001b[1;33m,\u001b[0m \u001b[0mlimit\u001b[0m\u001b[1;33m=\u001b[0m\u001b[0mlimit\u001b[0m\u001b[1;33m,\u001b[0m\u001b[1;33m\u001b[0m\u001b[1;33m\u001b[0m\u001b[0m\n\u001b[0;32m   3791\u001b[0m                                             \u001b[0mfill_axis\u001b[0m\u001b[1;33m=\u001b[0m\u001b[0mfill_axis\u001b[0m\u001b[1;33m,\u001b[0m\u001b[1;33m\u001b[0m\u001b[1;33m\u001b[0m\u001b[0m\n\u001b[1;32m-> 3792\u001b[1;33m                                             broadcast_axis=broadcast_axis)\n\u001b[0m\u001b[0;32m   3793\u001b[0m \u001b[1;33m\u001b[0m\u001b[0m\n\u001b[0;32m   3794\u001b[0m     \u001b[1;33m@\u001b[0m\u001b[0mSubstitution\u001b[0m\u001b[1;33m(\u001b[0m\u001b[1;33m**\u001b[0m\u001b[0m_shared_doc_kwargs\u001b[0m\u001b[1;33m)\u001b[0m\u001b[1;33m\u001b[0m\u001b[1;33m\u001b[0m\u001b[0m\n",
      "\u001b[1;32mC:\\ProgramData\\Anaconda3\\lib\\site-packages\\pandas\\core\\generic.py\u001b[0m in \u001b[0;36malign\u001b[1;34m(self, other, join, axis, level, copy, fill_value, method, limit, fill_axis, broadcast_axis)\u001b[0m\n\u001b[0;32m   8426\u001b[0m                                       \u001b[0mcopy\u001b[0m\u001b[1;33m=\u001b[0m\u001b[0mcopy\u001b[0m\u001b[1;33m,\u001b[0m \u001b[0mfill_value\u001b[0m\u001b[1;33m=\u001b[0m\u001b[0mfill_value\u001b[0m\u001b[1;33m,\u001b[0m\u001b[1;33m\u001b[0m\u001b[1;33m\u001b[0m\u001b[0m\n\u001b[0;32m   8427\u001b[0m                                       \u001b[0mmethod\u001b[0m\u001b[1;33m=\u001b[0m\u001b[0mmethod\u001b[0m\u001b[1;33m,\u001b[0m \u001b[0mlimit\u001b[0m\u001b[1;33m=\u001b[0m\u001b[0mlimit\u001b[0m\u001b[1;33m,\u001b[0m\u001b[1;33m\u001b[0m\u001b[1;33m\u001b[0m\u001b[0m\n\u001b[1;32m-> 8428\u001b[1;33m                                       fill_axis=fill_axis)\n\u001b[0m\u001b[0;32m   8429\u001b[0m         \u001b[1;32melse\u001b[0m\u001b[1;33m:\u001b[0m  \u001b[1;31m# pragma: no cover\u001b[0m\u001b[1;33m\u001b[0m\u001b[1;33m\u001b[0m\u001b[0m\n\u001b[0;32m   8430\u001b[0m             \u001b[1;32mraise\u001b[0m \u001b[0mTypeError\u001b[0m\u001b[1;33m(\u001b[0m\u001b[1;34m'unsupported type: %s'\u001b[0m \u001b[1;33m%\u001b[0m \u001b[0mtype\u001b[0m\u001b[1;33m(\u001b[0m\u001b[0mother\u001b[0m\u001b[1;33m)\u001b[0m\u001b[1;33m)\u001b[0m\u001b[1;33m\u001b[0m\u001b[1;33m\u001b[0m\u001b[0m\n",
      "\u001b[1;32mC:\\ProgramData\\Anaconda3\\lib\\site-packages\\pandas\\core\\generic.py\u001b[0m in \u001b[0;36m_align_series\u001b[1;34m(self, other, join, axis, level, copy, fill_value, method, limit, fill_axis)\u001b[0m\n\u001b[0;32m   8523\u001b[0m \u001b[1;33m\u001b[0m\u001b[0m\n\u001b[0;32m   8524\u001b[0m                 \u001b[1;32mif\u001b[0m \u001b[0mlidx\u001b[0m \u001b[1;32mis\u001b[0m \u001b[1;32mnot\u001b[0m \u001b[1;32mNone\u001b[0m\u001b[1;33m:\u001b[0m\u001b[1;33m\u001b[0m\u001b[1;33m\u001b[0m\u001b[0m\n\u001b[1;32m-> 8525\u001b[1;33m                     \u001b[0mfdata\u001b[0m \u001b[1;33m=\u001b[0m \u001b[0mfdata\u001b[0m\u001b[1;33m.\u001b[0m\u001b[0mreindex_indexer\u001b[0m\u001b[1;33m(\u001b[0m\u001b[0mjoin_index\u001b[0m\u001b[1;33m,\u001b[0m \u001b[0mlidx\u001b[0m\u001b[1;33m,\u001b[0m \u001b[0maxis\u001b[0m\u001b[1;33m=\u001b[0m\u001b[1;36m0\u001b[0m\u001b[1;33m)\u001b[0m\u001b[1;33m\u001b[0m\u001b[1;33m\u001b[0m\u001b[0m\n\u001b[0m\u001b[0;32m   8526\u001b[0m             \u001b[1;32melse\u001b[0m\u001b[1;33m:\u001b[0m\u001b[1;33m\u001b[0m\u001b[1;33m\u001b[0m\u001b[0m\n\u001b[0;32m   8527\u001b[0m                 \u001b[1;32mraise\u001b[0m \u001b[0mValueError\u001b[0m\u001b[1;33m(\u001b[0m\u001b[1;34m'Must specify axis=0 or 1'\u001b[0m\u001b[1;33m)\u001b[0m\u001b[1;33m\u001b[0m\u001b[1;33m\u001b[0m\u001b[0m\n",
      "\u001b[1;32mC:\\ProgramData\\Anaconda3\\lib\\site-packages\\pandas\\core\\internals\\managers.py\u001b[0m in \u001b[0;36mreindex_indexer\u001b[1;34m(self, new_axis, indexer, axis, fill_value, allow_dups, copy)\u001b[0m\n\u001b[0;32m   1229\u001b[0m         \u001b[1;32mif\u001b[0m \u001b[0maxis\u001b[0m \u001b[1;33m==\u001b[0m \u001b[1;36m0\u001b[0m\u001b[1;33m:\u001b[0m\u001b[1;33m\u001b[0m\u001b[1;33m\u001b[0m\u001b[0m\n\u001b[0;32m   1230\u001b[0m             new_blocks = self._slice_take_blocks_ax0(indexer,\n\u001b[1;32m-> 1231\u001b[1;33m                                                      fill_tuple=(fill_value,))\n\u001b[0m\u001b[0;32m   1232\u001b[0m         \u001b[1;32melse\u001b[0m\u001b[1;33m:\u001b[0m\u001b[1;33m\u001b[0m\u001b[1;33m\u001b[0m\u001b[0m\n\u001b[0;32m   1233\u001b[0m             new_blocks = [blk.take_nd(indexer, axis=axis, fill_tuple=(\n",
      "\u001b[1;32mC:\\ProgramData\\Anaconda3\\lib\\site-packages\\pandas\\core\\internals\\managers.py\u001b[0m in \u001b[0;36m_slice_take_blocks_ax0\u001b[1;34m(self, slice_or_indexer, fill_tuple)\u001b[0m\n\u001b[0;32m   1293\u001b[0m \u001b[1;33m\u001b[0m\u001b[0m\n\u001b[0;32m   1294\u001b[0m                 blocks.append(self._make_na_block(placement=mgr_locs,\n\u001b[1;32m-> 1295\u001b[1;33m                                                   fill_value=fill_value))\n\u001b[0m\u001b[0;32m   1296\u001b[0m             \u001b[1;32melse\u001b[0m\u001b[1;33m:\u001b[0m\u001b[1;33m\u001b[0m\u001b[1;33m\u001b[0m\u001b[0m\n\u001b[0;32m   1297\u001b[0m                 \u001b[0mblk\u001b[0m \u001b[1;33m=\u001b[0m \u001b[0mself\u001b[0m\u001b[1;33m.\u001b[0m\u001b[0mblocks\u001b[0m\u001b[1;33m[\u001b[0m\u001b[0mblkno\u001b[0m\u001b[1;33m]\u001b[0m\u001b[1;33m\u001b[0m\u001b[1;33m\u001b[0m\u001b[0m\n",
      "\u001b[1;32mC:\\ProgramData\\Anaconda3\\lib\\site-packages\\pandas\\core\\internals\\managers.py\u001b[0m in \u001b[0;36m_make_na_block\u001b[1;34m(self, placement, fill_value)\u001b[0m\n\u001b[0;32m   1323\u001b[0m \u001b[1;33m\u001b[0m\u001b[0m\n\u001b[0;32m   1324\u001b[0m         \u001b[0mdtype\u001b[0m\u001b[1;33m,\u001b[0m \u001b[0mfill_value\u001b[0m \u001b[1;33m=\u001b[0m \u001b[0minfer_dtype_from_scalar\u001b[0m\u001b[1;33m(\u001b[0m\u001b[0mfill_value\u001b[0m\u001b[1;33m)\u001b[0m\u001b[1;33m\u001b[0m\u001b[1;33m\u001b[0m\u001b[0m\n\u001b[1;32m-> 1325\u001b[1;33m         \u001b[0mblock_values\u001b[0m \u001b[1;33m=\u001b[0m \u001b[0mnp\u001b[0m\u001b[1;33m.\u001b[0m\u001b[0mempty\u001b[0m\u001b[1;33m(\u001b[0m\u001b[0mblock_shape\u001b[0m\u001b[1;33m,\u001b[0m \u001b[0mdtype\u001b[0m\u001b[1;33m=\u001b[0m\u001b[0mdtype\u001b[0m\u001b[1;33m)\u001b[0m\u001b[1;33m\u001b[0m\u001b[1;33m\u001b[0m\u001b[0m\n\u001b[0m\u001b[0;32m   1326\u001b[0m         \u001b[0mblock_values\u001b[0m\u001b[1;33m.\u001b[0m\u001b[0mfill\u001b[0m\u001b[1;33m(\u001b[0m\u001b[0mfill_value\u001b[0m\u001b[1;33m)\u001b[0m\u001b[1;33m\u001b[0m\u001b[1;33m\u001b[0m\u001b[0m\n\u001b[0;32m   1327\u001b[0m         \u001b[1;32mreturn\u001b[0m \u001b[0mmake_block\u001b[0m\u001b[1;33m(\u001b[0m\u001b[0mblock_values\u001b[0m\u001b[1;33m,\u001b[0m \u001b[0mplacement\u001b[0m\u001b[1;33m=\u001b[0m\u001b[0mplacement\u001b[0m\u001b[1;33m)\u001b[0m\u001b[1;33m\u001b[0m\u001b[1;33m\u001b[0m\u001b[0m\n",
      "\u001b[1;31mMemoryError\u001b[0m: "
     ]
    }
   ],
   "source": [
    "np.mean(ff == ggg['0.1'])"
   ]
  },
  {
   "cell_type": "code",
   "execution_count": 177,
   "metadata": {},
   "outputs": [
    {
     "data": {
      "text/html": [
       "<div>\n",
       "<style scoped>\n",
       "    .dataframe tbody tr th:only-of-type {\n",
       "        vertical-align: middle;\n",
       "    }\n",
       "\n",
       "    .dataframe tbody tr th {\n",
       "        vertical-align: top;\n",
       "    }\n",
       "\n",
       "    .dataframe thead th {\n",
       "        text-align: right;\n",
       "    }\n",
       "</style>\n",
       "<table border=\"1\" class=\"dataframe\">\n",
       "  <thead>\n",
       "    <tr style=\"text-align: right;\">\n",
       "      <th></th>\n",
       "      <th>0</th>\n",
       "      <th>1</th>\n",
       "    </tr>\n",
       "  </thead>\n",
       "  <tbody>\n",
       "    <tr>\n",
       "      <th>count</th>\n",
       "      <td>987709.000000</td>\n",
       "      <td>987709.000000</td>\n",
       "    </tr>\n",
       "    <tr>\n",
       "      <th>mean</th>\n",
       "      <td>0.874277</td>\n",
       "      <td>0.125723</td>\n",
       "    </tr>\n",
       "    <tr>\n",
       "      <th>std</th>\n",
       "      <td>0.067586</td>\n",
       "      <td>0.067586</td>\n",
       "    </tr>\n",
       "    <tr>\n",
       "      <th>min</th>\n",
       "      <td>0.512250</td>\n",
       "      <td>0.029504</td>\n",
       "    </tr>\n",
       "    <tr>\n",
       "      <th>25%</th>\n",
       "      <td>0.830893</td>\n",
       "      <td>0.070921</td>\n",
       "    </tr>\n",
       "    <tr>\n",
       "      <th>50%</th>\n",
       "      <td>0.894563</td>\n",
       "      <td>0.105437</td>\n",
       "    </tr>\n",
       "    <tr>\n",
       "      <th>75%</th>\n",
       "      <td>0.929079</td>\n",
       "      <td>0.169107</td>\n",
       "    </tr>\n",
       "    <tr>\n",
       "      <th>max</th>\n",
       "      <td>0.970496</td>\n",
       "      <td>0.487750</td>\n",
       "    </tr>\n",
       "  </tbody>\n",
       "</table>\n",
       "</div>"
      ],
      "text/plain": [
       "                   0              1\n",
       "count  987709.000000  987709.000000\n",
       "mean        0.874277       0.125723\n",
       "std         0.067586       0.067586\n",
       "min         0.512250       0.029504\n",
       "25%         0.830893       0.070921\n",
       "50%         0.894563       0.105437\n",
       "75%         0.929079       0.169107\n",
       "max         0.970496       0.487750"
      ]
     },
     "execution_count": 177,
     "metadata": {},
     "output_type": "execute_result"
    }
   ],
   "source": [
    "pd.DataFrame(Gbrt_proba).describe()"
   ]
  },
  {
   "cell_type": "code",
   "execution_count": 214,
   "metadata": {},
   "outputs": [],
   "source": [
    "fff = pd.read_csv(\"ff.csv\", engine='python') \n",
    "ggg = pd.read_csv(\"gg.csv\", engine='python')  "
   ]
  },
  {
   "cell_type": "code",
   "execution_count": 313,
   "metadata": {},
   "outputs": [],
   "source": [
    "ffff = pd.read_csv(\"fff.csv\", engine='python') "
   ]
  },
  {
   "cell_type": "code",
   "execution_count": 318,
   "metadata": {},
   "outputs": [
    {
     "data": {
      "text/plain": [
       "0.8741906776186104"
      ]
     },
     "execution_count": 318,
     "metadata": {},
     "output_type": "execute_result"
    }
   ],
   "source": [
    "np.mean(ffff['0'] == ggg['0.1'])"
   ]
  },
  {
   "cell_type": "code",
   "execution_count": 326,
   "metadata": {},
   "outputs": [
    {
     "data": {
      "text/plain": [
       "0.868427846663339"
      ]
     },
     "execution_count": 326,
     "metadata": {},
     "output_type": "execute_result"
    }
   ],
   "source": [
    "np.mean(fff['0'] == ggg['0.1'])"
   ]
  },
  {
   "cell_type": "code",
   "execution_count": 327,
   "metadata": {},
   "outputs": [
    {
     "data": {
      "text/plain": [
       "0.8742990091211076"
      ]
     },
     "execution_count": 327,
     "metadata": {},
     "output_type": "execute_result"
    }
   ],
   "source": [
    "np.mean(0 == ggg['0.1'])"
   ]
  },
  {
   "cell_type": "code",
   "execution_count": 377,
   "metadata": {},
   "outputs": [
    {
     "data": {
      "text/plain": [
       "0.7608506149078321"
      ]
     },
     "execution_count": 377,
     "metadata": {},
     "output_type": "execute_result"
    }
   ],
   "source": [
    "np.mean(Gbrt_proba02 == ggg['0.1'])"
   ]
  },
  {
   "cell_type": "code",
   "execution_count": 387,
   "metadata": {},
   "outputs": [
    {
     "data": {
      "text/plain": [
       "0.8709275707723632"
      ]
     },
     "execution_count": 387,
     "metadata": {},
     "output_type": "execute_result"
    }
   ],
   "source": [
    "np.mean(Gbrt_proba03 == ggg['0.1'])"
   ]
  },
  {
   "cell_type": "code",
   "execution_count": 396,
   "metadata": {},
   "outputs": [
    {
     "data": {
      "text/plain": [
       "0.8721627523896208"
      ]
     },
     "execution_count": 396,
     "metadata": {},
     "output_type": "execute_result"
    }
   ],
   "source": [
    "np.mean(Gbrt_proba035 == ggg['0.1'])"
   ]
  },
  {
   "cell_type": "code",
   "execution_count": 395,
   "metadata": {},
   "outputs": [
    {
     "data": {
      "text/plain": [
       "0.8730769892751813"
      ]
     },
     "execution_count": 395,
     "metadata": {},
     "output_type": "execute_result"
    }
   ],
   "source": [
    "np.mean(Gbrt_proba037 == ggg['0.1'])"
   ]
  },
  {
   "cell_type": "code",
   "execution_count": 400,
   "metadata": {},
   "outputs": [
    {
     "data": {
      "text/plain": [
       "0.8737371027296501"
      ]
     },
     "execution_count": 400,
     "metadata": {},
     "output_type": "execute_result"
    }
   ],
   "source": [
    "np.mean(Gbrt_proba039 == ggg['0.1'])"
   ]
  },
  {
   "cell_type": "code",
   "execution_count": 404,
   "metadata": {},
   "outputs": [
    {
     "data": {
      "text/plain": [
       "0.8739223799722388"
      ]
     },
     "execution_count": 404,
     "metadata": {},
     "output_type": "execute_result"
    }
   ],
   "source": [
    "np.mean(Gbrt_proba04 == ggg['0.1'])"
   ]
  },
  {
   "cell_type": "code",
   "execution_count": 414,
   "metadata": {},
   "outputs": [
    {
     "data": {
      "text/plain": [
       "0.874051972797656"
      ]
     },
     "execution_count": 414,
     "metadata": {},
     "output_type": "execute_result"
    }
   ],
   "source": [
    "np.mean(Gbrt_proba042 == ggg['0.1'])"
   ]
  },
  {
   "cell_type": "code",
   "execution_count": 417,
   "metadata": {},
   "outputs": [
    {
     "data": {
      "text/plain": [
       "0.8742149762733761"
      ]
     },
     "execution_count": 417,
     "metadata": {},
     "output_type": "execute_result"
    }
   ],
   "source": [
    "np.mean(Gbrt_proba045 == ggg['0.1'])"
   ]
  },
  {
   "cell_type": "code",
   "execution_count": 433,
   "metadata": {
    "scrolled": false
   },
   "outputs": [
    {
     "data": {
      "text/plain": [
       "0.8743000215650562"
      ]
     },
     "execution_count": 433,
     "metadata": {},
     "output_type": "execute_result"
    }
   ],
   "source": [
    "np.mean(Gbrt_proba046 == ggg['0.1'])"
   ]
  },
  {
   "cell_type": "code",
   "execution_count": 432,
   "metadata": {
    "scrolled": false
   },
   "outputs": [
    {
     "data": {
      "text/plain": [
       "0.8449907816978482"
      ]
     },
     "execution_count": 432,
     "metadata": {},
     "output_type": "execute_result"
    }
   ],
   "source": [
    "np.mean(aa == ggg['0.1'])"
   ]
  },
  {
   "cell_type": "code",
   "execution_count": 325,
   "metadata": {},
   "outputs": [
    {
     "data": {
      "text/plain": [
       "0    978018\n",
       "1      9691\n",
       "Name: 0, dtype: int64"
      ]
     },
     "execution_count": 325,
     "metadata": {},
     "output_type": "execute_result"
    }
   ],
   "source": [
    "fff['0'].value_counts()"
   ]
  },
  {
   "cell_type": "code",
   "execution_count": 333,
   "metadata": {},
   "outputs": [],
   "source": [
    "Gbrt_proba = pd.DataFrame(Gbrt_proba)"
   ]
  },
  {
   "cell_type": "code",
   "execution_count": 345,
   "metadata": {},
   "outputs": [
    {
     "data": {
      "text/plain": [
       "<matplotlib.axes._subplots.AxesSubplot at 0x11ff2bc6160>"
      ]
     },
     "execution_count": 345,
     "metadata": {},
     "output_type": "execute_result"
    },
    {
     "data": {
      "image/png": "[encoded data removed]",
      "text/plain": [
       "<Figure size 432x288 with 1 Axes>"
      ]
     },
     "metadata": {
      "needs_background": "light"
     },
     "output_type": "display_data"
    }
   ],
   "source": [
    "Gbrt_proba.boxplot()"
   ]
  },
  {
   "cell_type": "code",
   "execution_count": 383,
   "metadata": {},
   "outputs": [
    {
     "data": {
      "text/plain": [
       "0    5536\n",
       "1    5536\n",
       "dtype: int64"
      ]
     },
     "execution_count": 383,
     "metadata": {},
     "output_type": "execute_result"
    }
   ],
   "source": [
    "Gbrt_proba[Gbrt_proba[1] > 0.33].count()"
   ]
  },
  {
   "cell_type": "code",
   "execution_count": 483,
   "metadata": {},
   "outputs": [
    {
     "data": {
      "text/plain": [
       "3"
      ]
     },
     "execution_count": 483,
     "metadata": {},
     "output_type": "execute_result"
    }
   ],
   "source": [
    "Gbrt_proba046 = Gbrt_proba[1].map(lambda x = 1 : x >0.46)\n",
    "\n",
    "Gbrt_proba046 = Gbrt_proba046.map({False: 0, True : 1})\n",
    "\n",
    "Gbrt_proba046.sum()"
   ]
  },
  {
   "cell_type": "code",
   "execution_count": null,
   "metadata": {},
   "outputs": [],
   "source": [
    "Knn_proba = knn.predict_proba(Test_Concat.iloc[:987709, :-1])\n",
    "Rf_proba = rf.predict_proba(Test_Concat.iloc[:987709, :-1])\n",
    "Tree_proba = tree.predict_proba(Test_Concat.iloc[:987709, :-1])"
   ]
  },
  {
   "cell_type": "code",
   "execution_count": 446,
   "metadata": {
    "collapsed": true
   },
   "outputs": [
    {
     "name": "stdout",
     "output_type": "stream",
     "text": [
      "                   0              1\n",
      "count  987709.000000  987709.000000\n",
      "mean        0.874667       0.125333\n",
      "std         0.174529       0.174529\n",
      "min         0.000000       0.000000\n",
      "25%         0.800000       0.000000\n",
      "50%         1.000000       0.000000\n",
      "75%         1.000000       0.200000\n",
      "max         1.000000       1.000000\n"
     ]
    },
    {
     "data": {
      "text/plain": [
       "<matplotlib.axes._subplots.AxesSubplot at 0x11f91441c18>"
      ]
     },
     "execution_count": 446,
     "metadata": {},
     "output_type": "execute_result"
    },
    {
     "data": {
      "image/png": "[encoded data removed]",
      "text/plain": [
       "<Figure size 432x288 with 1 Axes>"
      ]
     },
     "metadata": {
      "needs_background": "light"
     },
     "output_type": "display_data"
    }
   ],
   "source": [
    "Knn_proba = pd.DataFrame(Knn_proba)\n",
    "\n",
    "print(Knn_proba.describe())\n",
    "\n",
    "Knn_proba.boxplot()"
   ]
  },
  {
   "cell_type": "code",
   "execution_count": 448,
   "metadata": {
    "collapsed": true
   },
   "outputs": [
    {
     "name": "stdout",
     "output_type": "stream",
     "text": [
      "                   0              1\n",
      "count  987709.000000  987709.000000\n",
      "mean        0.874402       0.125598\n",
      "std         0.110855       0.110855\n",
      "min         0.000000       0.000000\n",
      "25%         0.831595       0.047575\n",
      "50%         0.906248       0.093752\n",
      "75%         0.952425       0.168405\n",
      "max         1.000000       1.000000\n"
     ]
    },
    {
     "data": {
      "text/plain": [
       "<matplotlib.axes._subplots.AxesSubplot at 0x11f915194e0>"
      ]
     },
     "execution_count": 448,
     "metadata": {},
     "output_type": "execute_result"
    },
    {
     "data": {
      "image/png": "[encoded data removed]",
      "text/plain": [
       "<Figure size 432x288 with 1 Axes>"
      ]
     },
     "metadata": {
      "needs_background": "light"
     },
     "output_type": "display_data"
    }
   ],
   "source": [
    "Rf_proba = pd.DataFrame(Rf_proba)\n",
    "\n",
    "print(Rf_proba.describe())\n",
    "\n",
    "Rf_proba.boxplot()"
   ]
  },
  {
   "cell_type": "code",
   "execution_count": 449,
   "metadata": {
    "collapsed": true
   },
   "outputs": [
    {
     "name": "stdout",
     "output_type": "stream",
     "text": [
      "                   0              1\n",
      "count  987709.000000  987709.000000\n",
      "mean        0.874299       0.125701\n",
      "std         0.111555       0.111555\n",
      "min         0.000000       0.000000\n",
      "25%         0.831579       0.047244\n",
      "50%         0.907407       0.092593\n",
      "75%         0.952756       0.168421\n",
      "max         1.000000       1.000000\n"
     ]
    },
    {
     "data": {
      "text/plain": [
       "<matplotlib.axes._subplots.AxesSubplot at 0x11f9158da20>"
      ]
     },
     "execution_count": 449,
     "metadata": {},
     "output_type": "execute_result"
    },
    {
     "data": {
      "image/png": "[encoded data removed]",
      "text/plain": [
       "<Figure size 432x288 with 1 Axes>"
      ]
     },
     "metadata": {
      "needs_background": "light"
     },
     "output_type": "display_data"
    }
   ],
   "source": [
    "Tree_proba = pd.DataFrame(Tree_proba)\n",
    "\n",
    "print(Tree_proba.describe())\n",
    "\n",
    "Tree_proba.boxplot("
   ]
  },
  {
   "cell_type": "code",
   "execution_count": 514,
   "metadata": {},
   "outputs": [
    {
     "data": {
      "text/plain": [
       "1103"
      ]
     },
     "execution_count": 514,
     "metadata": {},
     "output_type": "execute_result"
    }
   ],
   "source": [
    "Knn_proba04 = Knn_proba[1].map(lambda x = 1 : x == 1)\n",
    "\n",
    "Knn_proba04 = Knn_proba04.map({False: 0, True : 1})\n",
    "\n",
    "Knn_proba04.sum()"
   ]
  },
  {
   "cell_type": "code",
   "execution_count": 515,
   "metadata": {},
   "outputs": [
    {
     "data": {
      "text/plain": [
       "0.8735629623704958"
      ]
     },
     "execution_count": 515,
     "metadata": {},
     "output_type": "execute_result"
    }
   ],
   "source": [
    "np.mean(Knn_proba04 == ggg['0.1'])"
   ]
  },
  {
   "cell_type": "code",
   "execution_count": 513,
   "metadata": {},
   "outputs": [
    {
     "data": {
      "text/plain": [
       "190"
      ]
     },
     "execution_count": 513,
     "metadata": {},
     "output_type": "execute_result"
    }
   ],
   "source": [
    "Rf_proba05 = Rf_proba[1].map(lambda x = 1 : x > 0.99)\n",
    "\n",
    "Rf_proba05 = Rf_proba05.map({False: 0, True : 1})\n",
    "\n",
    "Rf_proba05.sum()"
   ]
  },
  {
   "cell_type": "code",
   "execution_count": 497,
   "metadata": {},
   "outputs": [
    {
     "data": {
      "text/plain": [
       "0.8742990091211076"
      ]
     },
     "execution_count": 497,
     "metadata": {},
     "output_type": "execute_result"
    }
   ],
   "source": [
    "np.mean(Rf_proba05 == ggg['0.1'])"
   ]
  },
  {
   "cell_type": "code",
   "execution_count": 510,
   "metadata": {},
   "outputs": [
    {
     "data": {
      "text/plain": [
       "868"
      ]
     },
     "execution_count": 510,
     "metadata": {},
     "output_type": "execute_result"
    }
   ],
   "source": [
    "Tree_proba9 = Tree_proba[1].map(lambda x = 1 : x ==1 )\n",
    "\n",
    "Tree_proba9 = Tree_proba9.map({False: 0, True : 1})\n",
    "\n",
    "Tree_proba9.sum()"
   ]
  },
  {
   "cell_type": "code",
   "execution_count": 511,
   "metadata": {},
   "outputs": [
    {
     "data": {
      "text/plain": [
       "0.874094495443496"
      ]
     },
     "execution_count": 511,
     "metadata": {},
     "output_type": "execute_result"
    }
   ],
   "source": [
    "np.mean(Tree_proba9 == ggg['0.1'])"
   ]
  },
  {
   "cell_type": "code",
   "execution_count": 526,
   "metadata": {},
   "outputs": [],
   "source": [
    "Total_proba = Tree_proba9 + Rf_proba05 + Knn_proba04 + Gbrt_proba046"
   ]
  },
  {
   "cell_type": "code",
   "execution_count": 534,
   "metadata": {},
   "outputs": [
    {
     "data": {
      "text/plain": [
       "0.8743010340090047"
      ]
     },
     "execution_count": 534,
     "metadata": {},
     "output_type": "execute_result"
    }
   ],
   "source": [
    "np.mean(Total_proba.map({0 : 0, 1 : 0, 2 : 1, 3 : 1}) == ggg['0.1'])"
   ]
  },
  {
   "cell_type": "code",
   "execution_count": null,
   "metadata": {},
   "outputs": [],
   "source": [
    "Knn_predict = knn.predict(Test_Concat.iloc[987709:, :-1])\n",
    "Tree_predict = tree.predict(Test_Concat.iloc[987709:, :-1])\n",
    "Gbrt_predict = gbrt.predict(Test_Concat.iloc[987709:, :-1])\n",
    "RfP_predict = rfP.predict(Test_Concat.iloc[987709:, :-1])\n",
    "Rf_predict = rf.predict(Test_Concat.iloc[987709:, :-1])"
   ]
  },
  {
   "cell_type": "code",
   "execution_count": null,
   "metadata": {},
   "outputs": [],
   "source": [
    "Knn_probaR = knn.predict_proba(Test_Concat.iloc[987709:, :-1])\n",
    "Rf_probaR = rf.predict_proba(Test_Concat.iloc[987709:, :-1])\n",
    "Tree_probaR = tree.predict_proba(Test_Concat.iloc[987709:, :-1])\n",
    "Gbrt_probaR = gbrt.predict_proba(Test_Concat.iloc[987709:, :-1])"
   ]
  },
  {
   "cell_type": "code",
   "execution_count": null,
   "metadata": {},
   "outputs": [],
   "source": [
    "Tree_probaR = pd.DataFrame(Tree_probaR)\n",
    "Rf_probaR = pd.DataFrame(Rf_probaR)\n",
    "Knn_probaR = pd.DataFrame(Knn_probaR)\n",
    "\n",
    "Gbrt_probaR = pd.DataFrame(Gbrt_probaR)"
   ]
  },
  {
   "cell_type": "code",
   "execution_count": null,
   "metadata": {},
   "outputs": [],
   "source": [
    "Tree_probaRT = Tree_probaR[1].map(lambda x = 1 : x ==1 )\n",
    "\n",
    "Tree_probaRT = Tree_probaRT.map({False: 0, True : 1})\n",
    "\n",
    "Rf_probaRT = Rf_probaR[1].map(lambda x = 1 : x > 0.99)\n",
    "\n",
    "Rf_probaRT = Rf_probaRT.map({False: 0, True : 1})\n",
    "\n",
    "Knn_probaRT = Knn_probaR[1].map(lambda x = 1 : x == 1)\n",
    "\n",
    "Knn_probaRT = Knn_probaRT.map({False: 0, True : 1})\n",
    "\n",
    "Gbrt_probaRT = Gbrt_probaR[1].map(lambda x = 1 : x >0.46)\n",
    "\n",
    "Gbrt_probaRT = Gbrt_probaRT.map({False: 0, True : 1})\n",
    "\n",
    "Total_probaR = Tree_probaRT + Rf_probaRT + Knn_probaRT + Gbrt_probaRT"
   ]
  },
  {
   "cell_type": "code",
   "execution_count": 615,
   "metadata": {
    "scrolled": true
   },
   "outputs": [],
   "source": [
    "Total_probaRT = Total_probaR.map({0 : 0, 1 : 1.5, 2 : 1, 3 : 1, 4 : 1})"
   ]
  },
  {
   "cell_type": "code",
   "execution_count": 621,
   "metadata": {},
   "outputs": [],
   "source": [
    "ToTal_probaRT = pd.DataFrame(Total_probaR)"
   ]
  },
  {
   "cell_type": "code",
   "execution_count": 628,
   "metadata": {
    "scrolled": true
   },
   "outputs": [],
   "source": [
    "Total_RT = ToTal_probaRT[1] + Total_predict[0]"
   ]
  },
  {
   "cell_type": "code",
   "execution_count": 632,
   "metadata": {},
   "outputs": [],
   "source": [
    "Total_RT = pd.DataFrame(Total_RT)"
   ]
  },
  {
   "cell_type": "code",
   "execution_count": 639,
   "metadata": {},
   "outputs": [
    {
     "data": {
      "text/plain": [
       "0.0    15298\n",
       "1.0      678\n",
       "3.0       74\n",
       "2.0       59\n",
       "2.5       27\n",
       "4.5       13\n",
       "4.0        3\n",
       "3.5        2\n",
       "Name: 0, dtype: int64"
      ]
     },
     "execution_count": 639,
     "metadata": {},
     "output_type": "execute_result"
    }
   ],
   "source": [
    "Total_RT[0].value_counts()"
   ]
  },
  {
   "cell_type": "code",
   "execution_count": 642,
   "metadata": {
    "collapsed": true
   },
   "outputs": [
    {
     "ename": "TypeError",
     "evalue": "ufunc 'add' did not contain a loop with signature matching types dtype('<U32') dtype('<U32') dtype('<U32')",
     "output_type": "error",
     "traceback": [
      "\u001b[1;31m---------------------------------------------------------------------------\u001b[0m",
      "\u001b[1;31mTypeError\u001b[0m                                 Traceback (most recent call last)",
      "\u001b[1;32mC:\\ProgramData\\Anaconda3\\lib\\site-packages\\pandas\\core\\ops.py\u001b[0m in \u001b[0;36mna_op\u001b[1;34m(x, y)\u001b[0m\n\u001b[0;32m   1504\u001b[0m         \u001b[1;32mtry\u001b[0m\u001b[1;33m:\u001b[0m\u001b[1;33m\u001b[0m\u001b[1;33m\u001b[0m\u001b[0m\n\u001b[1;32m-> 1505\u001b[1;33m             \u001b[0mresult\u001b[0m \u001b[1;33m=\u001b[0m \u001b[0mexpressions\u001b[0m\u001b[1;33m.\u001b[0m\u001b[0mevaluate\u001b[0m\u001b[1;33m(\u001b[0m\u001b[0mop\u001b[0m\u001b[1;33m,\u001b[0m \u001b[0mstr_rep\u001b[0m\u001b[1;33m,\u001b[0m \u001b[0mx\u001b[0m\u001b[1;33m,\u001b[0m \u001b[0my\u001b[0m\u001b[1;33m,\u001b[0m \u001b[1;33m**\u001b[0m\u001b[0meval_kwargs\u001b[0m\u001b[1;33m)\u001b[0m\u001b[1;33m\u001b[0m\u001b[1;33m\u001b[0m\u001b[0m\n\u001b[0m\u001b[0;32m   1506\u001b[0m         \u001b[1;32mexcept\u001b[0m \u001b[0mTypeError\u001b[0m\u001b[1;33m:\u001b[0m\u001b[1;33m\u001b[0m\u001b[1;33m\u001b[0m\u001b[0m\n",
      "\u001b[1;32mC:\\ProgramData\\Anaconda3\\lib\\site-packages\\pandas\\core\\computation\\expressions.py\u001b[0m in \u001b[0;36mevaluate\u001b[1;34m(op, op_str, a, b, use_numexpr, **eval_kwargs)\u001b[0m\n\u001b[0;32m    207\u001b[0m     \u001b[1;32mif\u001b[0m \u001b[0muse_numexpr\u001b[0m\u001b[1;33m:\u001b[0m\u001b[1;33m\u001b[0m\u001b[1;33m\u001b[0m\u001b[0m\n\u001b[1;32m--> 208\u001b[1;33m         \u001b[1;32mreturn\u001b[0m \u001b[0m_evaluate\u001b[0m\u001b[1;33m(\u001b[0m\u001b[0mop\u001b[0m\u001b[1;33m,\u001b[0m \u001b[0mop_str\u001b[0m\u001b[1;33m,\u001b[0m \u001b[0ma\u001b[0m\u001b[1;33m,\u001b[0m \u001b[0mb\u001b[0m\u001b[1;33m,\u001b[0m \u001b[1;33m**\u001b[0m\u001b[0meval_kwargs\u001b[0m\u001b[1;33m)\u001b[0m\u001b[1;33m\u001b[0m\u001b[1;33m\u001b[0m\u001b[0m\n\u001b[0m\u001b[0;32m    209\u001b[0m     \u001b[1;32mreturn\u001b[0m \u001b[0m_evaluate_standard\u001b[0m\u001b[1;33m(\u001b[0m\u001b[0mop\u001b[0m\u001b[1;33m,\u001b[0m \u001b[0mop_str\u001b[0m\u001b[1;33m,\u001b[0m \u001b[0ma\u001b[0m\u001b[1;33m,\u001b[0m \u001b[0mb\u001b[0m\u001b[1;33m)\u001b[0m\u001b[1;33m\u001b[0m\u001b[1;33m\u001b[0m\u001b[0m\n",
      "\u001b[1;32mC:\\ProgramData\\Anaconda3\\lib\\site-packages\\pandas\\core\\computation\\expressions.py\u001b[0m in \u001b[0;36m_evaluate_numexpr\u001b[1;34m(op, op_str, a, b, truediv, reversed, **eval_kwargs)\u001b[0m\n\u001b[0;32m    122\u001b[0m     \u001b[1;32mif\u001b[0m \u001b[0mresult\u001b[0m \u001b[1;32mis\u001b[0m \u001b[1;32mNone\u001b[0m\u001b[1;33m:\u001b[0m\u001b[1;33m\u001b[0m\u001b[1;33m\u001b[0m\u001b[0m\n\u001b[1;32m--> 123\u001b[1;33m         \u001b[0mresult\u001b[0m \u001b[1;33m=\u001b[0m \u001b[0m_evaluate_standard\u001b[0m\u001b[1;33m(\u001b[0m\u001b[0mop\u001b[0m\u001b[1;33m,\u001b[0m \u001b[0mop_str\u001b[0m\u001b[1;33m,\u001b[0m \u001b[0ma\u001b[0m\u001b[1;33m,\u001b[0m \u001b[0mb\u001b[0m\u001b[1;33m)\u001b[0m\u001b[1;33m\u001b[0m\u001b[1;33m\u001b[0m\u001b[0m\n\u001b[0m\u001b[0;32m    124\u001b[0m \u001b[1;33m\u001b[0m\u001b[0m\n",
      "\u001b[1;32mC:\\ProgramData\\Anaconda3\\lib\\site-packages\\pandas\\core\\computation\\expressions.py\u001b[0m in \u001b[0;36m_evaluate_standard\u001b[1;34m(op, op_str, a, b, **eval_kwargs)\u001b[0m\n\u001b[0;32m     67\u001b[0m     \u001b[1;32mwith\u001b[0m \u001b[0mnp\u001b[0m\u001b[1;33m.\u001b[0m\u001b[0merrstate\u001b[0m\u001b[1;33m(\u001b[0m\u001b[0mall\u001b[0m\u001b[1;33m=\u001b[0m\u001b[1;34m'ignore'\u001b[0m\u001b[1;33m)\u001b[0m\u001b[1;33m:\u001b[0m\u001b[1;33m\u001b[0m\u001b[1;33m\u001b[0m\u001b[0m\n\u001b[1;32m---> 68\u001b[1;33m         \u001b[1;32mreturn\u001b[0m \u001b[0mop\u001b[0m\u001b[1;33m(\u001b[0m\u001b[0ma\u001b[0m\u001b[1;33m,\u001b[0m \u001b[0mb\u001b[0m\u001b[1;33m)\u001b[0m\u001b[1;33m\u001b[0m\u001b[1;33m\u001b[0m\u001b[0m\n\u001b[0m\u001b[0;32m     69\u001b[0m \u001b[1;33m\u001b[0m\u001b[0m\n",
      "\u001b[1;31mTypeError\u001b[0m: ufunc 'add' did not contain a loop with signature matching types dtype('<U32') dtype('<U32') dtype('<U32')",
      "\nDuring handling of the above exception, another exception occurred:\n",
      "\u001b[1;31mTypeError\u001b[0m                                 Traceback (most recent call last)",
      "\u001b[1;32m<ipython-input-642-7c502c8d0950>\u001b[0m in \u001b[0;36m<module>\u001b[1;34m\u001b[0m\n\u001b[1;32m----> 1\u001b[1;33m \u001b[0mTotal_RT\u001b[0m\u001b[1;33m[\u001b[0m\u001b[1;36m1\u001b[0m\u001b[1;33m]\u001b[0m \u001b[1;33m=\u001b[0m \u001b[0mTotal_RT\u001b[0m\u001b[1;33m.\u001b[0m\u001b[0miloc\u001b[0m\u001b[1;33m[\u001b[0m\u001b[1;33m:\u001b[0m\u001b[1;33m,\u001b[0m \u001b[1;36m1\u001b[0m\u001b[1;33m]\u001b[0m \u001b[1;33m+\u001b[0m \u001b[1;34m'%'\u001b[0m\u001b[1;33m\u001b[0m\u001b[1;33m\u001b[0m\u001b[0m\n\u001b[0m",
      "\u001b[1;32mC:\\ProgramData\\Anaconda3\\lib\\site-packages\\pandas\\core\\ops.py\u001b[0m in \u001b[0;36mwrapper\u001b[1;34m(left, right)\u001b[0m\n\u001b[0;32m   1581\u001b[0m             \u001b[0mrvalues\u001b[0m \u001b[1;33m=\u001b[0m \u001b[0mrvalues\u001b[0m\u001b[1;33m.\u001b[0m\u001b[0mvalues\u001b[0m\u001b[1;33m\u001b[0m\u001b[1;33m\u001b[0m\u001b[0m\n\u001b[0;32m   1582\u001b[0m \u001b[1;33m\u001b[0m\u001b[0m\n\u001b[1;32m-> 1583\u001b[1;33m         \u001b[0mresult\u001b[0m \u001b[1;33m=\u001b[0m \u001b[0msafe_na_op\u001b[0m\u001b[1;33m(\u001b[0m\u001b[0mlvalues\u001b[0m\u001b[1;33m,\u001b[0m \u001b[0mrvalues\u001b[0m\u001b[1;33m)\u001b[0m\u001b[1;33m\u001b[0m\u001b[1;33m\u001b[0m\u001b[0m\n\u001b[0m\u001b[0;32m   1584\u001b[0m         return construct_result(left, result,\n\u001b[0;32m   1585\u001b[0m                                 index=left.index, name=res_name, dtype=None)\n",
      "\u001b[1;32mC:\\ProgramData\\Anaconda3\\lib\\site-packages\\pandas\\core\\ops.py\u001b[0m in \u001b[0;36msafe_na_op\u001b[1;34m(lvalues, rvalues)\u001b[0m\n\u001b[0;32m   1527\u001b[0m         \u001b[1;32mtry\u001b[0m\u001b[1;33m:\u001b[0m\u001b[1;33m\u001b[0m\u001b[1;33m\u001b[0m\u001b[0m\n\u001b[0;32m   1528\u001b[0m             \u001b[1;32mwith\u001b[0m \u001b[0mnp\u001b[0m\u001b[1;33m.\u001b[0m\u001b[0merrstate\u001b[0m\u001b[1;33m(\u001b[0m\u001b[0mall\u001b[0m\u001b[1;33m=\u001b[0m\u001b[1;34m'ignore'\u001b[0m\u001b[1;33m)\u001b[0m\u001b[1;33m:\u001b[0m\u001b[1;33m\u001b[0m\u001b[1;33m\u001b[0m\u001b[0m\n\u001b[1;32m-> 1529\u001b[1;33m                 \u001b[1;32mreturn\u001b[0m \u001b[0mna_op\u001b[0m\u001b[1;33m(\u001b[0m\u001b[0mlvalues\u001b[0m\u001b[1;33m,\u001b[0m \u001b[0mrvalues\u001b[0m\u001b[1;33m)\u001b[0m\u001b[1;33m\u001b[0m\u001b[1;33m\u001b[0m\u001b[0m\n\u001b[0m\u001b[0;32m   1530\u001b[0m         \u001b[1;32mexcept\u001b[0m \u001b[0mException\u001b[0m\u001b[1;33m:\u001b[0m\u001b[1;33m\u001b[0m\u001b[1;33m\u001b[0m\u001b[0m\n\u001b[0;32m   1531\u001b[0m             \u001b[1;32mif\u001b[0m \u001b[0mis_object_dtype\u001b[0m\u001b[1;33m(\u001b[0m\u001b[0mlvalues\u001b[0m\u001b[1;33m)\u001b[0m\u001b[1;33m:\u001b[0m\u001b[1;33m\u001b[0m\u001b[1;33m\u001b[0m\u001b[0m\n",
      "\u001b[1;32mC:\\ProgramData\\Anaconda3\\lib\\site-packages\\pandas\\core\\ops.py\u001b[0m in \u001b[0;36mna_op\u001b[1;34m(x, y)\u001b[0m\n\u001b[0;32m   1505\u001b[0m             \u001b[0mresult\u001b[0m \u001b[1;33m=\u001b[0m \u001b[0mexpressions\u001b[0m\u001b[1;33m.\u001b[0m\u001b[0mevaluate\u001b[0m\u001b[1;33m(\u001b[0m\u001b[0mop\u001b[0m\u001b[1;33m,\u001b[0m \u001b[0mstr_rep\u001b[0m\u001b[1;33m,\u001b[0m \u001b[0mx\u001b[0m\u001b[1;33m,\u001b[0m \u001b[0my\u001b[0m\u001b[1;33m,\u001b[0m \u001b[1;33m**\u001b[0m\u001b[0meval_kwargs\u001b[0m\u001b[1;33m)\u001b[0m\u001b[1;33m\u001b[0m\u001b[1;33m\u001b[0m\u001b[0m\n\u001b[0;32m   1506\u001b[0m         \u001b[1;32mexcept\u001b[0m \u001b[0mTypeError\u001b[0m\u001b[1;33m:\u001b[0m\u001b[1;33m\u001b[0m\u001b[1;33m\u001b[0m\u001b[0m\n\u001b[1;32m-> 1507\u001b[1;33m             \u001b[0mresult\u001b[0m \u001b[1;33m=\u001b[0m \u001b[0mmasked_arith_op\u001b[0m\u001b[1;33m(\u001b[0m\u001b[0mx\u001b[0m\u001b[1;33m,\u001b[0m \u001b[0my\u001b[0m\u001b[1;33m,\u001b[0m \u001b[0mop\u001b[0m\u001b[1;33m)\u001b[0m\u001b[1;33m\u001b[0m\u001b[1;33m\u001b[0m\u001b[0m\n\u001b[0m\u001b[0;32m   1508\u001b[0m \u001b[1;33m\u001b[0m\u001b[0m\n\u001b[0;32m   1509\u001b[0m         \u001b[0mresult\u001b[0m \u001b[1;33m=\u001b[0m \u001b[0mmissing\u001b[0m\u001b[1;33m.\u001b[0m\u001b[0mfill_zeros\u001b[0m\u001b[1;33m(\u001b[0m\u001b[0mresult\u001b[0m\u001b[1;33m,\u001b[0m \u001b[0mx\u001b[0m\u001b[1;33m,\u001b[0m \u001b[0my\u001b[0m\u001b[1;33m,\u001b[0m \u001b[0mop_name\u001b[0m\u001b[1;33m,\u001b[0m \u001b[0mfill_zeros\u001b[0m\u001b[1;33m)\u001b[0m\u001b[1;33m\u001b[0m\u001b[1;33m\u001b[0m\u001b[0m\n",
      "\u001b[1;32mC:\\ProgramData\\Anaconda3\\lib\\site-packages\\pandas\\core\\ops.py\u001b[0m in \u001b[0;36mmasked_arith_op\u001b[1;34m(x, y, op)\u001b[0m\n\u001b[0;32m   1024\u001b[0m         \u001b[1;32mif\u001b[0m \u001b[0mmask\u001b[0m\u001b[1;33m.\u001b[0m\u001b[0many\u001b[0m\u001b[1;33m(\u001b[0m\u001b[1;33m)\u001b[0m\u001b[1;33m:\u001b[0m\u001b[1;33m\u001b[0m\u001b[1;33m\u001b[0m\u001b[0m\n\u001b[0;32m   1025\u001b[0m             \u001b[1;32mwith\u001b[0m \u001b[0mnp\u001b[0m\u001b[1;33m.\u001b[0m\u001b[0merrstate\u001b[0m\u001b[1;33m(\u001b[0m\u001b[0mall\u001b[0m\u001b[1;33m=\u001b[0m\u001b[1;34m'ignore'\u001b[0m\u001b[1;33m)\u001b[0m\u001b[1;33m:\u001b[0m\u001b[1;33m\u001b[0m\u001b[1;33m\u001b[0m\u001b[0m\n\u001b[1;32m-> 1026\u001b[1;33m                 \u001b[0mresult\u001b[0m\u001b[1;33m[\u001b[0m\u001b[0mmask\u001b[0m\u001b[1;33m]\u001b[0m \u001b[1;33m=\u001b[0m \u001b[0mop\u001b[0m\u001b[1;33m(\u001b[0m\u001b[0mxrav\u001b[0m\u001b[1;33m[\u001b[0m\u001b[0mmask\u001b[0m\u001b[1;33m]\u001b[0m\u001b[1;33m,\u001b[0m \u001b[0my\u001b[0m\u001b[1;33m)\u001b[0m\u001b[1;33m\u001b[0m\u001b[1;33m\u001b[0m\u001b[0m\n\u001b[0m\u001b[0;32m   1027\u001b[0m \u001b[1;33m\u001b[0m\u001b[0m\n\u001b[0;32m   1028\u001b[0m     \u001b[0mresult\u001b[0m\u001b[1;33m,\u001b[0m \u001b[0mchanged\u001b[0m \u001b[1;33m=\u001b[0m \u001b[0mmaybe_upcast_putmask\u001b[0m\u001b[1;33m(\u001b[0m\u001b[0mresult\u001b[0m\u001b[1;33m,\u001b[0m \u001b[1;33m~\u001b[0m\u001b[0mmask\u001b[0m\u001b[1;33m,\u001b[0m \u001b[0mnp\u001b[0m\u001b[1;33m.\u001b[0m\u001b[0mnan\u001b[0m\u001b[1;33m)\u001b[0m\u001b[1;33m\u001b[0m\u001b[1;33m\u001b[0m\u001b[0m\n",
      "\u001b[1;31mTypeError\u001b[0m: ufunc 'add' did not contain a loop with signature matching types dtype('<U32') dtype('<U32') dtype('<U32')"
     ]
    }
   ],
   "source": [
    "Total_RT[1] = Total_RT.iloc[:, 1]"
   ]
  },
  {
   "cell_type": "code",
   "execution_count": 645,
   "metadata": {},
   "outputs": [
    {
     "data": {
      "text/plain": [
       "0.0     15298\n",
       "20.0      678\n",
       "60.0       74\n",
       "40.0       59\n",
       "50.0       27\n",
       "90.0       13\n",
       "80.0        3\n",
       "70.0        2\n",
       "Name: 1, dtype: int64"
      ]
     },
     "execution_count": 645,
     "metadata": {},
     "output_type": "execute_result"
    }
   ],
   "source": [
    "Total_RT[1].value_counts()"
   ]
  },
  {
   "cell_type": "code",
   "execution_count": 578,
   "metadata": {},
   "outputs": [],
   "source": [
    "Total_predict = Knn_predict + Tree_predict + Gbrt_predict + RfP_predict + Rf_predict"
   ]
  },
  {
   "cell_type": "code",
   "execution_count": 589,
   "metadata": {},
   "outputs": [],
   "source": [
    "Total_predict = pd.DataFrame(Total_predict)"
   ]
  },
  {
   "cell_type": "code",
   "execution_count": 608,
   "metadata": {
    "scrolled": true
   },
   "outputs": [
    {
     "data": {
      "text/html": [
       "<div>\n",
       "<style scoped>\n",
       "    .dataframe tbody tr th:only-of-type {\n",
       "        vertical-align: middle;\n",
       "    }\n",
       "\n",
       "    .dataframe tbody tr th {\n",
       "        vertical-align: top;\n",
       "    }\n",
       "\n",
       "    .dataframe thead th {\n",
       "        text-align: right;\n",
       "    }\n",
       "</style>\n",
       "<table border=\"1\" class=\"dataframe\">\n",
       "  <thead>\n",
       "    <tr style=\"text-align: right;\">\n",
       "      <th></th>\n",
       "      <th>0</th>\n",
       "    </tr>\n",
       "  </thead>\n",
       "  <tbody>\n",
       "    <tr>\n",
       "      <th>468</th>\n",
       "      <td>3</td>\n",
       "    </tr>\n",
       "    <tr>\n",
       "      <th>478</th>\n",
       "      <td>3</td>\n",
       "    </tr>\n",
       "    <tr>\n",
       "      <th>481</th>\n",
       "      <td>3</td>\n",
       "    </tr>\n",
       "    <tr>\n",
       "      <th>482</th>\n",
       "      <td>3</td>\n",
       "    </tr>\n",
       "    <tr>\n",
       "      <th>483</th>\n",
       "      <td>3</td>\n",
       "    </tr>\n",
       "    <tr>\n",
       "      <th>484</th>\n",
       "      <td>3</td>\n",
       "    </tr>\n",
       "    <tr>\n",
       "      <th>504</th>\n",
       "      <td>3</td>\n",
       "    </tr>\n",
       "    <tr>\n",
       "      <th>539</th>\n",
       "      <td>3</td>\n",
       "    </tr>\n",
       "    <tr>\n",
       "      <th>629</th>\n",
       "      <td>3</td>\n",
       "    </tr>\n",
       "    <tr>\n",
       "      <th>909</th>\n",
       "      <td>3</td>\n",
       "    </tr>\n",
       "    <tr>\n",
       "      <th>927</th>\n",
       "      <td>3</td>\n",
       "    </tr>\n",
       "    <tr>\n",
       "      <th>1589</th>\n",
       "      <td>3</td>\n",
       "    </tr>\n",
       "    <tr>\n",
       "      <th>2179</th>\n",
       "      <td>3</td>\n",
       "    </tr>\n",
       "    <tr>\n",
       "      <th>2801</th>\n",
       "      <td>3</td>\n",
       "    </tr>\n",
       "    <tr>\n",
       "      <th>3269</th>\n",
       "      <td>3</td>\n",
       "    </tr>\n",
       "    <tr>\n",
       "      <th>3299</th>\n",
       "      <td>3</td>\n",
       "    </tr>\n",
       "    <tr>\n",
       "      <th>3305</th>\n",
       "      <td>3</td>\n",
       "    </tr>\n",
       "    <tr>\n",
       "      <th>3761</th>\n",
       "      <td>3</td>\n",
       "    </tr>\n",
       "    <tr>\n",
       "      <th>3763</th>\n",
       "      <td>3</td>\n",
       "    </tr>\n",
       "    <tr>\n",
       "      <th>3839</th>\n",
       "      <td>3</td>\n",
       "    </tr>\n",
       "    <tr>\n",
       "      <th>3859</th>\n",
       "      <td>3</td>\n",
       "    </tr>\n",
       "    <tr>\n",
       "      <th>3865</th>\n",
       "      <td>3</td>\n",
       "    </tr>\n",
       "    <tr>\n",
       "      <th>3902</th>\n",
       "      <td>3</td>\n",
       "    </tr>\n",
       "    <tr>\n",
       "      <th>4624</th>\n",
       "      <td>3</td>\n",
       "    </tr>\n",
       "    <tr>\n",
       "      <th>4713</th>\n",
       "      <td>3</td>\n",
       "    </tr>\n",
       "    <tr>\n",
       "      <th>4768</th>\n",
       "      <td>3</td>\n",
       "    </tr>\n",
       "    <tr>\n",
       "      <th>4774</th>\n",
       "      <td>3</td>\n",
       "    </tr>\n",
       "    <tr>\n",
       "      <th>4788</th>\n",
       "      <td>3</td>\n",
       "    </tr>\n",
       "    <tr>\n",
       "      <th>4802</th>\n",
       "      <td>3</td>\n",
       "    </tr>\n",
       "    <tr>\n",
       "      <th>4920</th>\n",
       "      <td>3</td>\n",
       "    </tr>\n",
       "    <tr>\n",
       "      <th>...</th>\n",
       "      <td>...</td>\n",
       "    </tr>\n",
       "    <tr>\n",
       "      <th>11393</th>\n",
       "      <td>3</td>\n",
       "    </tr>\n",
       "    <tr>\n",
       "      <th>11413</th>\n",
       "      <td>3</td>\n",
       "    </tr>\n",
       "    <tr>\n",
       "      <th>11437</th>\n",
       "      <td>3</td>\n",
       "    </tr>\n",
       "    <tr>\n",
       "      <th>11445</th>\n",
       "      <td>3</td>\n",
       "    </tr>\n",
       "    <tr>\n",
       "      <th>12154</th>\n",
       "      <td>3</td>\n",
       "    </tr>\n",
       "    <tr>\n",
       "      <th>12190</th>\n",
       "      <td>3</td>\n",
       "    </tr>\n",
       "    <tr>\n",
       "      <th>12204</th>\n",
       "      <td>3</td>\n",
       "    </tr>\n",
       "    <tr>\n",
       "      <th>12247</th>\n",
       "      <td>3</td>\n",
       "    </tr>\n",
       "    <tr>\n",
       "      <th>12316</th>\n",
       "      <td>3</td>\n",
       "    </tr>\n",
       "    <tr>\n",
       "      <th>12327</th>\n",
       "      <td>3</td>\n",
       "    </tr>\n",
       "    <tr>\n",
       "      <th>12344</th>\n",
       "      <td>3</td>\n",
       "    </tr>\n",
       "    <tr>\n",
       "      <th>12376</th>\n",
       "      <td>3</td>\n",
       "    </tr>\n",
       "    <tr>\n",
       "      <th>12497</th>\n",
       "      <td>3</td>\n",
       "    </tr>\n",
       "    <tr>\n",
       "      <th>12764</th>\n",
       "      <td>3</td>\n",
       "    </tr>\n",
       "    <tr>\n",
       "      <th>12862</th>\n",
       "      <td>3</td>\n",
       "    </tr>\n",
       "    <tr>\n",
       "      <th>12907</th>\n",
       "      <td>3</td>\n",
       "    </tr>\n",
       "    <tr>\n",
       "      <th>14277</th>\n",
       "      <td>3</td>\n",
       "    </tr>\n",
       "    <tr>\n",
       "      <th>14490</th>\n",
       "      <td>3</td>\n",
       "    </tr>\n",
       "    <tr>\n",
       "      <th>14669</th>\n",
       "      <td>3</td>\n",
       "    </tr>\n",
       "    <tr>\n",
       "      <th>15399</th>\n",
       "      <td>3</td>\n",
       "    </tr>\n",
       "    <tr>\n",
       "      <th>15554</th>\n",
       "      <td>3</td>\n",
       "    </tr>\n",
       "    <tr>\n",
       "      <th>15557</th>\n",
       "      <td>3</td>\n",
       "    </tr>\n",
       "    <tr>\n",
       "      <th>15558</th>\n",
       "      <td>3</td>\n",
       "    </tr>\n",
       "    <tr>\n",
       "      <th>15559</th>\n",
       "      <td>3</td>\n",
       "    </tr>\n",
       "    <tr>\n",
       "      <th>15583</th>\n",
       "      <td>3</td>\n",
       "    </tr>\n",
       "    <tr>\n",
       "      <th>15592</th>\n",
       "      <td>3</td>\n",
       "    </tr>\n",
       "    <tr>\n",
       "      <th>15613</th>\n",
       "      <td>3</td>\n",
       "    </tr>\n",
       "    <tr>\n",
       "      <th>15649</th>\n",
       "      <td>3</td>\n",
       "    </tr>\n",
       "    <tr>\n",
       "      <th>15744</th>\n",
       "      <td>3</td>\n",
       "    </tr>\n",
       "    <tr>\n",
       "      <th>16035</th>\n",
       "      <td>3</td>\n",
       "    </tr>\n",
       "  </tbody>\n",
       "</table>\n",
       "<p>87 rows × 1 columns</p>\n",
       "</div>"
      ],
      "text/plain": [
       "       0\n",
       "468    3\n",
       "478    3\n",
       "481    3\n",
       "482    3\n",
       "483    3\n",
       "484    3\n",
       "504    3\n",
       "539    3\n",
       "629    3\n",
       "909    3\n",
       "927    3\n",
       "1589   3\n",
       "2179   3\n",
       "2801   3\n",
       "3269   3\n",
       "3299   3\n",
       "3305   3\n",
       "3761   3\n",
       "3763   3\n",
       "3839   3\n",
       "3859   3\n",
       "3865   3\n",
       "3902   3\n",
       "4624   3\n",
       "4713   3\n",
       "4768   3\n",
       "4774   3\n",
       "4788   3\n",
       "4802   3\n",
       "4920   3\n",
       "...   ..\n",
       "11393  3\n",
       "11413  3\n",
       "11437  3\n",
       "11445  3\n",
       "12154  3\n",
       "12190  3\n",
       "12204  3\n",
       "12247  3\n",
       "12316  3\n",
       "12327  3\n",
       "12344  3\n",
       "12376  3\n",
       "12497  3\n",
       "12764  3\n",
       "12862  3\n",
       "12907  3\n",
       "14277  3\n",
       "14490  3\n",
       "14669  3\n",
       "15399  3\n",
       "15554  3\n",
       "15557  3\n",
       "15558  3\n",
       "15559  3\n",
       "15583  3\n",
       "15592  3\n",
       "15613  3\n",
       "15649  3\n",
       "15744  3\n",
       "16035  3\n",
       "\n",
       "[87 rows x 1 columns]"
      ]
     },
     "execution_count": 608,
     "metadata": {},
     "output_type": "execute_result"
    }
   ],
   "source": [
    "Total_predict[Total_predict[0] == 3]"
   ]
  },
  {
   "cell_type": "code",
   "execution_count": null,
   "metadata": {},
   "outputs": [],
   "source": [
    "Total_predict.map({0 :0, 1:0 , 2 : 1, 3:1, 4: 1})"
   ]
  },
  {
   "cell_type": "code",
   "execution_count": 584,
   "metadata": {},
   "outputs": [
    {
     "data": {
      "text/plain": [
       "151"
      ]
     },
     "execution_count": 584,
     "metadata": {},
     "output_type": "execute_result"
    }
   ],
   "source": [
    "87 + 61 + 3"
   ]
  },
  {
   "cell_type": "code",
   "execution_count": 434,
   "metadata": {},
   "outputs": [
    {
     "data": {
      "text/plain": [
       "987709"
      ]
     },
     "execution_count": 434,
     "metadata": {},
     "output_type": "execute_result"
    }
   ],
   "source": [
    "len(Gbrt_proba)"
   ]
  },
  {
   "cell_type": "code",
   "execution_count": 233,
   "metadata": {},
   "outputs": [
    {
     "data": {
      "text/plain": [
       "Index(['Unnamed: 0', '0'], dtype='object')"
      ]
     },
     "execution_count": 233,
     "metadata": {},
     "output_type": "execute_result"
    }
   ],
   "source": [
    "fff.columns"
   ]
  },
  {
   "cell_type": "code",
   "execution_count": 236,
   "metadata": {},
   "outputs": [],
   "source": [
    "fff.drop('Unnamed: 0', axis=1, inplace = True)"
   ]
  },
  {
   "cell_type": "code",
   "execution_count": 237,
   "metadata": {},
   "outputs": [],
   "source": [
    "ggg.drop('0', axis= 1, inplace = True)"
   ]
  },
  {
   "cell_type": "code",
   "execution_count": 249,
   "metadata": {},
   "outputs": [
    {
     "data": {
      "text/plain": [
       "RangeIndex(start=0, stop=987709, step=1)"
      ]
     },
     "execution_count": 249,
     "metadata": {},
     "output_type": "execute_result"
    }
   ],
   "source": [
    "fff.index"
   ]
  },
  {
   "cell_type": "code",
   "execution_count": 266,
   "metadata": {},
   "outputs": [],
   "source": [
    "ggg.loc[987708, :] = 0"
   ]
  },
  {
   "cell_type": "code",
   "execution_count": 273,
   "metadata": {},
   "outputs": [
    {
     "data": {
      "text/plain": [
       "Int64Index([     0,      1,      2,      3,      4,      5,      6,      7,\n",
       "                 8,      9,\n",
       "            ...\n",
       "            987699, 987700, 987701, 987702, 987703, 987704, 987705, 987706,\n",
       "            987707, 987708],\n",
       "           dtype='int64', length=987709)"
      ]
     },
     "execution_count": 273,
     "metadata": {},
     "output_type": "execute_result"
    }
   ],
   "source": [
    "ggg.index"
   ]
  },
  {
   "cell_type": "code",
   "execution_count": 272,
   "metadata": {},
   "outputs": [
    {
     "data": {
      "text/plain": [
       "RangeIndex(start=0, stop=987709, step=1)"
      ]
     },
     "execution_count": 272,
     "metadata": {},
     "output_type": "execute_result"
    }
   ],
   "source": [
    "fff.index"
   ]
  },
  {
   "cell_type": "code",
   "execution_count": 244,
   "metadata": {},
   "outputs": [],
   "source": [
    "fff = fff.astype(int)"
   ]
  },
  {
   "cell_type": "code",
   "execution_count": 245,
   "metadata": {},
   "outputs": [
    {
     "name": "stdout",
     "output_type": "stream",
     "text": [
      "<class 'pandas.core.frame.DataFrame'>\n",
      "RangeIndex: 987709 entries, 0 to 987708\n",
      "Data columns (total 1 columns):\n",
      "0    987709 non-null int32\n",
      "dtypes: int32(1)\n",
      "memory usage: 3.8 MB\n"
     ]
    }
   ],
   "source": [
    "fff.info()"
   ]
  },
  {
   "cell_type": "code",
   "execution_count": 278,
   "metadata": {},
   "outputs": [],
   "source": [
    "fff.sort_index(inplace=True)"
   ]
  },
  {
   "cell_type": "code",
   "execution_count": 279,
   "metadata": {},
   "outputs": [],
   "source": [
    "ggg.sort_index(inplace=True)"
   ]
  },
  {
   "cell_type": "code",
   "execution_count": 55,
   "metadata": {
    "scrolled": true
   },
   "outputs": [
    {
     "data": {
      "text/html": [
       "<div>\n",
       "<style scoped>\n",
       "    .dataframe tbody tr th:only-of-type {\n",
       "        vertical-align: middle;\n",
       "    }\n",
       "\n",
       "    .dataframe tbody tr th {\n",
       "        vertical-align: top;\n",
       "    }\n",
       "\n",
       "    .dataframe thead th {\n",
       "        text-align: right;\n",
       "    }\n",
       "</style>\n",
       "<table border=\"1\" class=\"dataframe\">\n",
       "  <thead>\n",
       "    <tr style=\"text-align: right;\">\n",
       "      <th></th>\n",
       "      <th>SDT_YY</th>\n",
       "      <th>SDT_MM</th>\n",
       "      <th>SDT_DD</th>\n",
       "      <th>SDT_DY</th>\n",
       "      <th>ARP</th>\n",
       "      <th>ODP</th>\n",
       "      <th>FLO</th>\n",
       "      <th>FLT</th>\n",
       "      <th>AOD</th>\n",
       "      <th>STT</th>\n",
       "      <th>DLY</th>\n",
       "      <th>DLY_RATE</th>\n",
       "    </tr>\n",
       "  </thead>\n",
       "  <tbody>\n",
       "    <tr>\n",
       "      <th>0</th>\n",
       "      <td>2019</td>\n",
       "      <td>9</td>\n",
       "      <td>16</td>\n",
       "      <td>월</td>\n",
       "      <td>ARP1</td>\n",
       "      <td>ARP3</td>\n",
       "      <td>L</td>\n",
       "      <td>L1702</td>\n",
       "      <td>A</td>\n",
       "      <td>9:05</td>\n",
       "      <td>NaN</td>\n",
       "      <td>NaN</td>\n",
       "    </tr>\n",
       "    <tr>\n",
       "      <th>1</th>\n",
       "      <td>2019</td>\n",
       "      <td>9</td>\n",
       "      <td>16</td>\n",
       "      <td>월</td>\n",
       "      <td>ARP3</td>\n",
       "      <td>ARP1</td>\n",
       "      <td>L</td>\n",
       "      <td>L1702</td>\n",
       "      <td>D</td>\n",
       "      <td>7:55</td>\n",
       "      <td>NaN</td>\n",
       "      <td>NaN</td>\n",
       "    </tr>\n",
       "    <tr>\n",
       "      <th>2</th>\n",
       "      <td>2019</td>\n",
       "      <td>9</td>\n",
       "      <td>16</td>\n",
       "      <td>월</td>\n",
       "      <td>ARP1</td>\n",
       "      <td>ARP3</td>\n",
       "      <td>L</td>\n",
       "      <td>L1720</td>\n",
       "      <td>A</td>\n",
       "      <td>14:40</td>\n",
       "      <td>NaN</td>\n",
       "      <td>NaN</td>\n",
       "    </tr>\n",
       "    <tr>\n",
       "      <th>3</th>\n",
       "      <td>2019</td>\n",
       "      <td>9</td>\n",
       "      <td>16</td>\n",
       "      <td>월</td>\n",
       "      <td>ARP3</td>\n",
       "      <td>ARP1</td>\n",
       "      <td>L</td>\n",
       "      <td>L1720</td>\n",
       "      <td>D</td>\n",
       "      <td>13:30</td>\n",
       "      <td>NaN</td>\n",
       "      <td>NaN</td>\n",
       "    </tr>\n",
       "    <tr>\n",
       "      <th>4</th>\n",
       "      <td>2019</td>\n",
       "      <td>9</td>\n",
       "      <td>16</td>\n",
       "      <td>월</td>\n",
       "      <td>ARP4</td>\n",
       "      <td>ARP3</td>\n",
       "      <td>L</td>\n",
       "      <td>L1808</td>\n",
       "      <td>A</td>\n",
       "      <td>20:10</td>\n",
       "      <td>NaN</td>\n",
       "      <td>NaN</td>\n",
       "    </tr>\n",
       "    <tr>\n",
       "      <th>5</th>\n",
       "      <td>2019</td>\n",
       "      <td>9</td>\n",
       "      <td>16</td>\n",
       "      <td>월</td>\n",
       "      <td>ARP3</td>\n",
       "      <td>ARP4</td>\n",
       "      <td>L</td>\n",
       "      <td>L1808</td>\n",
       "      <td>D</td>\n",
       "      <td>19:10</td>\n",
       "      <td>NaN</td>\n",
       "      <td>NaN</td>\n",
       "    </tr>\n",
       "    <tr>\n",
       "      <th>6</th>\n",
       "      <td>2019</td>\n",
       "      <td>9</td>\n",
       "      <td>16</td>\n",
       "      <td>월</td>\n",
       "      <td>ARP3</td>\n",
       "      <td>ARP9</td>\n",
       "      <td>J</td>\n",
       "      <td>J1934</td>\n",
       "      <td>A</td>\n",
       "      <td>16:00</td>\n",
       "      <td>NaN</td>\n",
       "      <td>NaN</td>\n",
       "    </tr>\n",
       "    <tr>\n",
       "      <th>7</th>\n",
       "      <td>2019</td>\n",
       "      <td>9</td>\n",
       "      <td>16</td>\n",
       "      <td>월</td>\n",
       "      <td>ARP9</td>\n",
       "      <td>ARP3</td>\n",
       "      <td>J</td>\n",
       "      <td>J1934</td>\n",
       "      <td>D</td>\n",
       "      <td>15:00</td>\n",
       "      <td>NaN</td>\n",
       "      <td>NaN</td>\n",
       "    </tr>\n",
       "    <tr>\n",
       "      <th>8</th>\n",
       "      <td>2019</td>\n",
       "      <td>9</td>\n",
       "      <td>16</td>\n",
       "      <td>월</td>\n",
       "      <td>ARP3</td>\n",
       "      <td>ARP1</td>\n",
       "      <td>L</td>\n",
       "      <td>L1703</td>\n",
       "      <td>A</td>\n",
       "      <td>8:10</td>\n",
       "      <td>NaN</td>\n",
       "      <td>NaN</td>\n",
       "    </tr>\n",
       "    <tr>\n",
       "      <th>9</th>\n",
       "      <td>2019</td>\n",
       "      <td>9</td>\n",
       "      <td>16</td>\n",
       "      <td>월</td>\n",
       "      <td>ARP1</td>\n",
       "      <td>ARP3</td>\n",
       "      <td>L</td>\n",
       "      <td>L1703</td>\n",
       "      <td>D</td>\n",
       "      <td>7:00</td>\n",
       "      <td>NaN</td>\n",
       "      <td>NaN</td>\n",
       "    </tr>\n",
       "    <tr>\n",
       "      <th>10</th>\n",
       "      <td>2019</td>\n",
       "      <td>9</td>\n",
       "      <td>16</td>\n",
       "      <td>월</td>\n",
       "      <td>ARP3</td>\n",
       "      <td>ARP4</td>\n",
       "      <td>L</td>\n",
       "      <td>L1809</td>\n",
       "      <td>A</td>\n",
       "      <td>20:35</td>\n",
       "      <td>NaN</td>\n",
       "      <td>NaN</td>\n",
       "    </tr>\n",
       "    <tr>\n",
       "      <th>11</th>\n",
       "      <td>2019</td>\n",
       "      <td>9</td>\n",
       "      <td>16</td>\n",
       "      <td>월</td>\n",
       "      <td>ARP4</td>\n",
       "      <td>ARP3</td>\n",
       "      <td>L</td>\n",
       "      <td>L1809</td>\n",
       "      <td>D</td>\n",
       "      <td>19:35</td>\n",
       "      <td>NaN</td>\n",
       "      <td>NaN</td>\n",
       "    </tr>\n",
       "    <tr>\n",
       "      <th>12</th>\n",
       "      <td>2019</td>\n",
       "      <td>9</td>\n",
       "      <td>16</td>\n",
       "      <td>월</td>\n",
       "      <td>ARP3</td>\n",
       "      <td>ARP1</td>\n",
       "      <td>L</td>\n",
       "      <td>L1731</td>\n",
       "      <td>A</td>\n",
       "      <td>19:20</td>\n",
       "      <td>NaN</td>\n",
       "      <td>NaN</td>\n",
       "    </tr>\n",
       "    <tr>\n",
       "      <th>13</th>\n",
       "      <td>2019</td>\n",
       "      <td>9</td>\n",
       "      <td>16</td>\n",
       "      <td>월</td>\n",
       "      <td>ARP1</td>\n",
       "      <td>ARP3</td>\n",
       "      <td>L</td>\n",
       "      <td>L1731</td>\n",
       "      <td>D</td>\n",
       "      <td>18:10</td>\n",
       "      <td>NaN</td>\n",
       "      <td>NaN</td>\n",
       "    </tr>\n",
       "    <tr>\n",
       "      <th>14</th>\n",
       "      <td>2019</td>\n",
       "      <td>9</td>\n",
       "      <td>16</td>\n",
       "      <td>월</td>\n",
       "      <td>ARP9</td>\n",
       "      <td>ARP3</td>\n",
       "      <td>J</td>\n",
       "      <td>J1935</td>\n",
       "      <td>A</td>\n",
       "      <td>14:25</td>\n",
       "      <td>NaN</td>\n",
       "      <td>NaN</td>\n",
       "    </tr>\n",
       "    <tr>\n",
       "      <th>15</th>\n",
       "      <td>2019</td>\n",
       "      <td>9</td>\n",
       "      <td>16</td>\n",
       "      <td>월</td>\n",
       "      <td>ARP3</td>\n",
       "      <td>ARP1</td>\n",
       "      <td>L</td>\n",
       "      <td>L1705</td>\n",
       "      <td>A</td>\n",
       "      <td>9:25</td>\n",
       "      <td>NaN</td>\n",
       "      <td>NaN</td>\n",
       "    </tr>\n",
       "    <tr>\n",
       "      <th>16</th>\n",
       "      <td>2019</td>\n",
       "      <td>9</td>\n",
       "      <td>16</td>\n",
       "      <td>월</td>\n",
       "      <td>ARP1</td>\n",
       "      <td>ARP3</td>\n",
       "      <td>L</td>\n",
       "      <td>L1705</td>\n",
       "      <td>D</td>\n",
       "      <td>8:15</td>\n",
       "      <td>NaN</td>\n",
       "      <td>NaN</td>\n",
       "    </tr>\n",
       "    <tr>\n",
       "      <th>17</th>\n",
       "      <td>2019</td>\n",
       "      <td>9</td>\n",
       "      <td>16</td>\n",
       "      <td>월</td>\n",
       "      <td>ARP1</td>\n",
       "      <td>ARP3</td>\n",
       "      <td>L</td>\n",
       "      <td>L1732</td>\n",
       "      <td>A</td>\n",
       "      <td>21:05</td>\n",
       "      <td>NaN</td>\n",
       "      <td>NaN</td>\n",
       "    </tr>\n",
       "    <tr>\n",
       "      <th>18</th>\n",
       "      <td>2019</td>\n",
       "      <td>9</td>\n",
       "      <td>16</td>\n",
       "      <td>월</td>\n",
       "      <td>ARP3</td>\n",
       "      <td>ARP1</td>\n",
       "      <td>L</td>\n",
       "      <td>L1732</td>\n",
       "      <td>D</td>\n",
       "      <td>19:55</td>\n",
       "      <td>NaN</td>\n",
       "      <td>NaN</td>\n",
       "    </tr>\n",
       "    <tr>\n",
       "      <th>19</th>\n",
       "      <td>2019</td>\n",
       "      <td>9</td>\n",
       "      <td>16</td>\n",
       "      <td>월</td>\n",
       "      <td>ARP4</td>\n",
       "      <td>ARP3</td>\n",
       "      <td>L</td>\n",
       "      <td>L1810</td>\n",
       "      <td>A</td>\n",
       "      <td>22:10</td>\n",
       "      <td>NaN</td>\n",
       "      <td>NaN</td>\n",
       "    </tr>\n",
       "    <tr>\n",
       "      <th>20</th>\n",
       "      <td>2019</td>\n",
       "      <td>9</td>\n",
       "      <td>16</td>\n",
       "      <td>월</td>\n",
       "      <td>ARP3</td>\n",
       "      <td>ARP4</td>\n",
       "      <td>L</td>\n",
       "      <td>L1810</td>\n",
       "      <td>D</td>\n",
       "      <td>21:10</td>\n",
       "      <td>NaN</td>\n",
       "      <td>NaN</td>\n",
       "    </tr>\n",
       "    <tr>\n",
       "      <th>21</th>\n",
       "      <td>2019</td>\n",
       "      <td>9</td>\n",
       "      <td>16</td>\n",
       "      <td>월</td>\n",
       "      <td>ARP3</td>\n",
       "      <td>ARP9</td>\n",
       "      <td>J</td>\n",
       "      <td>J1935</td>\n",
       "      <td>D</td>\n",
       "      <td>13:25</td>\n",
       "      <td>NaN</td>\n",
       "      <td>NaN</td>\n",
       "    </tr>\n",
       "    <tr>\n",
       "      <th>22</th>\n",
       "      <td>2019</td>\n",
       "      <td>9</td>\n",
       "      <td>16</td>\n",
       "      <td>월</td>\n",
       "      <td>ARP3</td>\n",
       "      <td>ARP6</td>\n",
       "      <td>J</td>\n",
       "      <td>J1954</td>\n",
       "      <td>A</td>\n",
       "      <td>9:25</td>\n",
       "      <td>NaN</td>\n",
       "      <td>NaN</td>\n",
       "    </tr>\n",
       "    <tr>\n",
       "      <th>23</th>\n",
       "      <td>2019</td>\n",
       "      <td>9</td>\n",
       "      <td>16</td>\n",
       "      <td>월</td>\n",
       "      <td>ARP6</td>\n",
       "      <td>ARP3</td>\n",
       "      <td>J</td>\n",
       "      <td>J1954</td>\n",
       "      <td>D</td>\n",
       "      <td>8:20</td>\n",
       "      <td>NaN</td>\n",
       "      <td>NaN</td>\n",
       "    </tr>\n",
       "    <tr>\n",
       "      <th>24</th>\n",
       "      <td>2019</td>\n",
       "      <td>9</td>\n",
       "      <td>16</td>\n",
       "      <td>월</td>\n",
       "      <td>ARP1</td>\n",
       "      <td>ARP3</td>\n",
       "      <td>L</td>\n",
       "      <td>L1706</td>\n",
       "      <td>A</td>\n",
       "      <td>9:55</td>\n",
       "      <td>NaN</td>\n",
       "      <td>NaN</td>\n",
       "    </tr>\n",
       "    <tr>\n",
       "      <th>25</th>\n",
       "      <td>2019</td>\n",
       "      <td>9</td>\n",
       "      <td>16</td>\n",
       "      <td>월</td>\n",
       "      <td>ARP3</td>\n",
       "      <td>ARP1</td>\n",
       "      <td>L</td>\n",
       "      <td>L1706</td>\n",
       "      <td>D</td>\n",
       "      <td>8:45</td>\n",
       "      <td>NaN</td>\n",
       "      <td>NaN</td>\n",
       "    </tr>\n",
       "    <tr>\n",
       "      <th>26</th>\n",
       "      <td>2019</td>\n",
       "      <td>9</td>\n",
       "      <td>16</td>\n",
       "      <td>월</td>\n",
       "      <td>ARP3</td>\n",
       "      <td>ARP1</td>\n",
       "      <td>L</td>\n",
       "      <td>L1733</td>\n",
       "      <td>A</td>\n",
       "      <td>19:35</td>\n",
       "      <td>NaN</td>\n",
       "      <td>NaN</td>\n",
       "    </tr>\n",
       "    <tr>\n",
       "      <th>27</th>\n",
       "      <td>2019</td>\n",
       "      <td>9</td>\n",
       "      <td>16</td>\n",
       "      <td>월</td>\n",
       "      <td>ARP1</td>\n",
       "      <td>ARP3</td>\n",
       "      <td>L</td>\n",
       "      <td>L1733</td>\n",
       "      <td>D</td>\n",
       "      <td>18:25</td>\n",
       "      <td>NaN</td>\n",
       "      <td>NaN</td>\n",
       "    </tr>\n",
       "    <tr>\n",
       "      <th>28</th>\n",
       "      <td>2019</td>\n",
       "      <td>9</td>\n",
       "      <td>16</td>\n",
       "      <td>월</td>\n",
       "      <td>ARP3</td>\n",
       "      <td>ARP8</td>\n",
       "      <td>L</td>\n",
       "      <td>L1901</td>\n",
       "      <td>A</td>\n",
       "      <td>10:25</td>\n",
       "      <td>NaN</td>\n",
       "      <td>NaN</td>\n",
       "    </tr>\n",
       "    <tr>\n",
       "      <th>29</th>\n",
       "      <td>2019</td>\n",
       "      <td>9</td>\n",
       "      <td>16</td>\n",
       "      <td>월</td>\n",
       "      <td>ARP8</td>\n",
       "      <td>ARP3</td>\n",
       "      <td>L</td>\n",
       "      <td>L1901</td>\n",
       "      <td>D</td>\n",
       "      <td>9:30</td>\n",
       "      <td>NaN</td>\n",
       "      <td>NaN</td>\n",
       "    </tr>\n",
       "    <tr>\n",
       "      <th>...</th>\n",
       "      <td>...</td>\n",
       "      <td>...</td>\n",
       "      <td>...</td>\n",
       "      <td>...</td>\n",
       "      <td>...</td>\n",
       "      <td>...</td>\n",
       "      <td>...</td>\n",
       "      <td>...</td>\n",
       "      <td>...</td>\n",
       "      <td>...</td>\n",
       "      <td>...</td>\n",
       "      <td>...</td>\n",
       "    </tr>\n",
       "    <tr>\n",
       "      <th>16124</th>\n",
       "      <td>2019</td>\n",
       "      <td>9</td>\n",
       "      <td>30</td>\n",
       "      <td>월</td>\n",
       "      <td>ARP15</td>\n",
       "      <td>ARP4</td>\n",
       "      <td>J</td>\n",
       "      <td>J1413</td>\n",
       "      <td>A</td>\n",
       "      <td>8:05</td>\n",
       "      <td>NaN</td>\n",
       "      <td>NaN</td>\n",
       "    </tr>\n",
       "    <tr>\n",
       "      <th>16125</th>\n",
       "      <td>2019</td>\n",
       "      <td>9</td>\n",
       "      <td>30</td>\n",
       "      <td>월</td>\n",
       "      <td>ARP3</td>\n",
       "      <td>ARP14</td>\n",
       "      <td>J</td>\n",
       "      <td>J1856</td>\n",
       "      <td>A</td>\n",
       "      <td>10:00</td>\n",
       "      <td>NaN</td>\n",
       "      <td>NaN</td>\n",
       "    </tr>\n",
       "    <tr>\n",
       "      <th>16126</th>\n",
       "      <td>2019</td>\n",
       "      <td>9</td>\n",
       "      <td>30</td>\n",
       "      <td>월</td>\n",
       "      <td>ARP14</td>\n",
       "      <td>ARP3</td>\n",
       "      <td>J</td>\n",
       "      <td>J1856</td>\n",
       "      <td>D</td>\n",
       "      <td>8:50</td>\n",
       "      <td>NaN</td>\n",
       "      <td>NaN</td>\n",
       "    </tr>\n",
       "    <tr>\n",
       "      <th>16127</th>\n",
       "      <td>2019</td>\n",
       "      <td>9</td>\n",
       "      <td>30</td>\n",
       "      <td>월</td>\n",
       "      <td>ARP4</td>\n",
       "      <td>ARP15</td>\n",
       "      <td>J</td>\n",
       "      <td>J1413</td>\n",
       "      <td>D</td>\n",
       "      <td>6:55</td>\n",
       "      <td>NaN</td>\n",
       "      <td>NaN</td>\n",
       "    </tr>\n",
       "    <tr>\n",
       "      <th>16128</th>\n",
       "      <td>2019</td>\n",
       "      <td>9</td>\n",
       "      <td>30</td>\n",
       "      <td>월</td>\n",
       "      <td>ARP3</td>\n",
       "      <td>ARP13</td>\n",
       "      <td>J</td>\n",
       "      <td>J1920</td>\n",
       "      <td>A</td>\n",
       "      <td>16:25</td>\n",
       "      <td>NaN</td>\n",
       "      <td>NaN</td>\n",
       "    </tr>\n",
       "    <tr>\n",
       "      <th>16129</th>\n",
       "      <td>2019</td>\n",
       "      <td>9</td>\n",
       "      <td>30</td>\n",
       "      <td>월</td>\n",
       "      <td>ARP13</td>\n",
       "      <td>ARP3</td>\n",
       "      <td>J</td>\n",
       "      <td>J1920</td>\n",
       "      <td>D</td>\n",
       "      <td>15:25</td>\n",
       "      <td>NaN</td>\n",
       "      <td>NaN</td>\n",
       "    </tr>\n",
       "    <tr>\n",
       "      <th>16130</th>\n",
       "      <td>2019</td>\n",
       "      <td>9</td>\n",
       "      <td>30</td>\n",
       "      <td>월</td>\n",
       "      <td>ARP5</td>\n",
       "      <td>ARP3</td>\n",
       "      <td>J</td>\n",
       "      <td>J1825</td>\n",
       "      <td>A</td>\n",
       "      <td>12:55</td>\n",
       "      <td>NaN</td>\n",
       "      <td>NaN</td>\n",
       "    </tr>\n",
       "    <tr>\n",
       "      <th>16131</th>\n",
       "      <td>2019</td>\n",
       "      <td>9</td>\n",
       "      <td>30</td>\n",
       "      <td>월</td>\n",
       "      <td>ARP3</td>\n",
       "      <td>ARP5</td>\n",
       "      <td>J</td>\n",
       "      <td>J1825</td>\n",
       "      <td>D</td>\n",
       "      <td>11:50</td>\n",
       "      <td>NaN</td>\n",
       "      <td>NaN</td>\n",
       "    </tr>\n",
       "    <tr>\n",
       "      <th>16132</th>\n",
       "      <td>2019</td>\n",
       "      <td>9</td>\n",
       "      <td>30</td>\n",
       "      <td>월</td>\n",
       "      <td>ARP3</td>\n",
       "      <td>ARP12</td>\n",
       "      <td>J</td>\n",
       "      <td>J1834</td>\n",
       "      <td>A</td>\n",
       "      <td>15:40</td>\n",
       "      <td>NaN</td>\n",
       "      <td>NaN</td>\n",
       "    </tr>\n",
       "    <tr>\n",
       "      <th>16133</th>\n",
       "      <td>2019</td>\n",
       "      <td>9</td>\n",
       "      <td>30</td>\n",
       "      <td>월</td>\n",
       "      <td>ARP12</td>\n",
       "      <td>ARP3</td>\n",
       "      <td>J</td>\n",
       "      <td>J1834</td>\n",
       "      <td>D</td>\n",
       "      <td>14:40</td>\n",
       "      <td>NaN</td>\n",
       "      <td>NaN</td>\n",
       "    </tr>\n",
       "    <tr>\n",
       "      <th>16134</th>\n",
       "      <td>2019</td>\n",
       "      <td>9</td>\n",
       "      <td>30</td>\n",
       "      <td>월</td>\n",
       "      <td>ARP12</td>\n",
       "      <td>ARP3</td>\n",
       "      <td>J</td>\n",
       "      <td>J1835</td>\n",
       "      <td>A</td>\n",
       "      <td>14:00</td>\n",
       "      <td>NaN</td>\n",
       "      <td>NaN</td>\n",
       "    </tr>\n",
       "    <tr>\n",
       "      <th>16135</th>\n",
       "      <td>2019</td>\n",
       "      <td>9</td>\n",
       "      <td>30</td>\n",
       "      <td>월</td>\n",
       "      <td>ARP3</td>\n",
       "      <td>ARP12</td>\n",
       "      <td>J</td>\n",
       "      <td>J1835</td>\n",
       "      <td>D</td>\n",
       "      <td>13:00</td>\n",
       "      <td>NaN</td>\n",
       "      <td>NaN</td>\n",
       "    </tr>\n",
       "    <tr>\n",
       "      <th>16136</th>\n",
       "      <td>2019</td>\n",
       "      <td>9</td>\n",
       "      <td>30</td>\n",
       "      <td>월</td>\n",
       "      <td>ARP3</td>\n",
       "      <td>ARP14</td>\n",
       "      <td>J</td>\n",
       "      <td>J1854</td>\n",
       "      <td>A</td>\n",
       "      <td>14:30</td>\n",
       "      <td>NaN</td>\n",
       "      <td>NaN</td>\n",
       "    </tr>\n",
       "    <tr>\n",
       "      <th>16137</th>\n",
       "      <td>2019</td>\n",
       "      <td>9</td>\n",
       "      <td>30</td>\n",
       "      <td>월</td>\n",
       "      <td>ARP14</td>\n",
       "      <td>ARP3</td>\n",
       "      <td>J</td>\n",
       "      <td>J1854</td>\n",
       "      <td>D</td>\n",
       "      <td>13:20</td>\n",
       "      <td>NaN</td>\n",
       "      <td>NaN</td>\n",
       "    </tr>\n",
       "    <tr>\n",
       "      <th>16138</th>\n",
       "      <td>2019</td>\n",
       "      <td>9</td>\n",
       "      <td>30</td>\n",
       "      <td>월</td>\n",
       "      <td>ARP3</td>\n",
       "      <td>ARP8</td>\n",
       "      <td>J</td>\n",
       "      <td>J1904</td>\n",
       "      <td>A</td>\n",
       "      <td>11:00</td>\n",
       "      <td>NaN</td>\n",
       "      <td>NaN</td>\n",
       "    </tr>\n",
       "    <tr>\n",
       "      <th>16139</th>\n",
       "      <td>2019</td>\n",
       "      <td>9</td>\n",
       "      <td>30</td>\n",
       "      <td>월</td>\n",
       "      <td>ARP8</td>\n",
       "      <td>ARP3</td>\n",
       "      <td>J</td>\n",
       "      <td>J1904</td>\n",
       "      <td>D</td>\n",
       "      <td>10:10</td>\n",
       "      <td>NaN</td>\n",
       "      <td>NaN</td>\n",
       "    </tr>\n",
       "    <tr>\n",
       "      <th>16140</th>\n",
       "      <td>2019</td>\n",
       "      <td>9</td>\n",
       "      <td>30</td>\n",
       "      <td>월</td>\n",
       "      <td>ARP8</td>\n",
       "      <td>ARP3</td>\n",
       "      <td>J</td>\n",
       "      <td>J1905</td>\n",
       "      <td>A</td>\n",
       "      <td>9:35</td>\n",
       "      <td>NaN</td>\n",
       "      <td>NaN</td>\n",
       "    </tr>\n",
       "    <tr>\n",
       "      <th>16141</th>\n",
       "      <td>2019</td>\n",
       "      <td>9</td>\n",
       "      <td>30</td>\n",
       "      <td>월</td>\n",
       "      <td>ARP3</td>\n",
       "      <td>ARP8</td>\n",
       "      <td>J</td>\n",
       "      <td>J1905</td>\n",
       "      <td>D</td>\n",
       "      <td>8:40</td>\n",
       "      <td>NaN</td>\n",
       "      <td>NaN</td>\n",
       "    </tr>\n",
       "    <tr>\n",
       "      <th>16142</th>\n",
       "      <td>2019</td>\n",
       "      <td>9</td>\n",
       "      <td>30</td>\n",
       "      <td>월</td>\n",
       "      <td>ARP3</td>\n",
       "      <td>ARP8</td>\n",
       "      <td>J</td>\n",
       "      <td>J1906</td>\n",
       "      <td>A</td>\n",
       "      <td>14:25</td>\n",
       "      <td>NaN</td>\n",
       "      <td>NaN</td>\n",
       "    </tr>\n",
       "    <tr>\n",
       "      <th>16143</th>\n",
       "      <td>2019</td>\n",
       "      <td>9</td>\n",
       "      <td>30</td>\n",
       "      <td>월</td>\n",
       "      <td>ARP8</td>\n",
       "      <td>ARP3</td>\n",
       "      <td>J</td>\n",
       "      <td>J1906</td>\n",
       "      <td>D</td>\n",
       "      <td>13:25</td>\n",
       "      <td>NaN</td>\n",
       "      <td>NaN</td>\n",
       "    </tr>\n",
       "    <tr>\n",
       "      <th>16144</th>\n",
       "      <td>2019</td>\n",
       "      <td>9</td>\n",
       "      <td>30</td>\n",
       "      <td>월</td>\n",
       "      <td>ARP8</td>\n",
       "      <td>ARP3</td>\n",
       "      <td>J</td>\n",
       "      <td>J1907</td>\n",
       "      <td>A</td>\n",
       "      <td>12:50</td>\n",
       "      <td>NaN</td>\n",
       "      <td>NaN</td>\n",
       "    </tr>\n",
       "    <tr>\n",
       "      <th>16145</th>\n",
       "      <td>2019</td>\n",
       "      <td>9</td>\n",
       "      <td>30</td>\n",
       "      <td>월</td>\n",
       "      <td>ARP3</td>\n",
       "      <td>ARP8</td>\n",
       "      <td>J</td>\n",
       "      <td>J1907</td>\n",
       "      <td>D</td>\n",
       "      <td>11:50</td>\n",
       "      <td>NaN</td>\n",
       "      <td>NaN</td>\n",
       "    </tr>\n",
       "    <tr>\n",
       "      <th>16146</th>\n",
       "      <td>2019</td>\n",
       "      <td>9</td>\n",
       "      <td>30</td>\n",
       "      <td>월</td>\n",
       "      <td>ARP3</td>\n",
       "      <td>ARP8</td>\n",
       "      <td>J</td>\n",
       "      <td>J1908</td>\n",
       "      <td>A</td>\n",
       "      <td>17:45</td>\n",
       "      <td>NaN</td>\n",
       "      <td>NaN</td>\n",
       "    </tr>\n",
       "    <tr>\n",
       "      <th>16147</th>\n",
       "      <td>2019</td>\n",
       "      <td>9</td>\n",
       "      <td>30</td>\n",
       "      <td>월</td>\n",
       "      <td>ARP8</td>\n",
       "      <td>ARP3</td>\n",
       "      <td>J</td>\n",
       "      <td>J1908</td>\n",
       "      <td>D</td>\n",
       "      <td>16:45</td>\n",
       "      <td>NaN</td>\n",
       "      <td>NaN</td>\n",
       "    </tr>\n",
       "    <tr>\n",
       "      <th>16148</th>\n",
       "      <td>2019</td>\n",
       "      <td>9</td>\n",
       "      <td>30</td>\n",
       "      <td>월</td>\n",
       "      <td>ARP3</td>\n",
       "      <td>ARP8</td>\n",
       "      <td>J</td>\n",
       "      <td>J1910</td>\n",
       "      <td>A</td>\n",
       "      <td>20:25</td>\n",
       "      <td>NaN</td>\n",
       "      <td>NaN</td>\n",
       "    </tr>\n",
       "    <tr>\n",
       "      <th>16149</th>\n",
       "      <td>2019</td>\n",
       "      <td>9</td>\n",
       "      <td>30</td>\n",
       "      <td>월</td>\n",
       "      <td>ARP8</td>\n",
       "      <td>ARP3</td>\n",
       "      <td>J</td>\n",
       "      <td>J1910</td>\n",
       "      <td>D</td>\n",
       "      <td>19:25</td>\n",
       "      <td>NaN</td>\n",
       "      <td>NaN</td>\n",
       "    </tr>\n",
       "    <tr>\n",
       "      <th>16150</th>\n",
       "      <td>2019</td>\n",
       "      <td>9</td>\n",
       "      <td>30</td>\n",
       "      <td>월</td>\n",
       "      <td>ARP8</td>\n",
       "      <td>ARP3</td>\n",
       "      <td>J</td>\n",
       "      <td>J1909</td>\n",
       "      <td>A</td>\n",
       "      <td>16:10</td>\n",
       "      <td>NaN</td>\n",
       "      <td>NaN</td>\n",
       "    </tr>\n",
       "    <tr>\n",
       "      <th>16151</th>\n",
       "      <td>2019</td>\n",
       "      <td>9</td>\n",
       "      <td>30</td>\n",
       "      <td>월</td>\n",
       "      <td>ARP3</td>\n",
       "      <td>ARP8</td>\n",
       "      <td>J</td>\n",
       "      <td>J1909</td>\n",
       "      <td>D</td>\n",
       "      <td>15:10</td>\n",
       "      <td>NaN</td>\n",
       "      <td>NaN</td>\n",
       "    </tr>\n",
       "    <tr>\n",
       "      <th>16152</th>\n",
       "      <td>2019</td>\n",
       "      <td>9</td>\n",
       "      <td>30</td>\n",
       "      <td>월</td>\n",
       "      <td>ARP8</td>\n",
       "      <td>ARP3</td>\n",
       "      <td>J</td>\n",
       "      <td>J1911</td>\n",
       "      <td>A</td>\n",
       "      <td>18:50</td>\n",
       "      <td>NaN</td>\n",
       "      <td>NaN</td>\n",
       "    </tr>\n",
       "    <tr>\n",
       "      <th>16153</th>\n",
       "      <td>2019</td>\n",
       "      <td>9</td>\n",
       "      <td>30</td>\n",
       "      <td>월</td>\n",
       "      <td>ARP3</td>\n",
       "      <td>ARP8</td>\n",
       "      <td>J</td>\n",
       "      <td>J1911</td>\n",
       "      <td>D</td>\n",
       "      <td>17:50</td>\n",
       "      <td>NaN</td>\n",
       "      <td>NaN</td>\n",
       "    </tr>\n",
       "  </tbody>\n",
       "</table>\n",
       "<p>16154 rows × 12 columns</p>\n",
       "</div>"
      ],
      "text/plain": [
       "       SDT_YY  SDT_MM  SDT_DD SDT_DY    ARP    ODP FLO    FLT AOD    STT  DLY  \\\n",
       "0        2019       9      16      월   ARP1   ARP3   L  L1702   A   9:05  NaN   \n",
       "1        2019       9      16      월   ARP3   ARP1   L  L1702   D   7:55  NaN   \n",
       "2        2019       9      16      월   ARP1   ARP3   L  L1720   A  14:40  NaN   \n",
       "3        2019       9      16      월   ARP3   ARP1   L  L1720   D  13:30  NaN   \n",
       "4        2019       9      16      월   ARP4   ARP3   L  L1808   A  20:10  NaN   \n",
       "5        2019       9      16      월   ARP3   ARP4   L  L1808   D  19:10  NaN   \n",
       "6        2019       9      16      월   ARP3   ARP9   J  J1934   A  16:00  NaN   \n",
       "7        2019       9      16      월   ARP9   ARP3   J  J1934   D  15:00  NaN   \n",
       "8        2019       9      16      월   ARP3   ARP1   L  L1703   A   8:10  NaN   \n",
       "9        2019       9      16      월   ARP1   ARP3   L  L1703   D   7:00  NaN   \n",
       "10       2019       9      16      월   ARP3   ARP4   L  L1809   A  20:35  NaN   \n",
       "11       2019       9      16      월   ARP4   ARP3   L  L1809   D  19:35  NaN   \n",
       "12       2019       9      16      월   ARP3   ARP1   L  L1731   A  19:20  NaN   \n",
       "13       2019       9      16      월   ARP1   ARP3   L  L1731   D  18:10  NaN   \n",
       "14       2019       9      16      월   ARP9   ARP3   J  J1935   A  14:25  NaN   \n",
       "15       2019       9      16      월   ARP3   ARP1   L  L1705   A   9:25  NaN   \n",
       "16       2019       9      16      월   ARP1   ARP3   L  L1705   D   8:15  NaN   \n",
       "17       2019       9      16      월   ARP1   ARP3   L  L1732   A  21:05  NaN   \n",
       "18       2019       9      16      월   ARP3   ARP1   L  L1732   D  19:55  NaN   \n",
       "19       2019       9      16      월   ARP4   ARP3   L  L1810   A  22:10  NaN   \n",
       "20       2019       9      16      월   ARP3   ARP4   L  L1810   D  21:10  NaN   \n",
       "21       2019       9      16      월   ARP3   ARP9   J  J1935   D  13:25  NaN   \n",
       "22       2019       9      16      월   ARP3   ARP6   J  J1954   A   9:25  NaN   \n",
       "23       2019       9      16      월   ARP6   ARP3   J  J1954   D   8:20  NaN   \n",
       "24       2019       9      16      월   ARP1   ARP3   L  L1706   A   9:55  NaN   \n",
       "25       2019       9      16      월   ARP3   ARP1   L  L1706   D   8:45  NaN   \n",
       "26       2019       9      16      월   ARP3   ARP1   L  L1733   A  19:35  NaN   \n",
       "27       2019       9      16      월   ARP1   ARP3   L  L1733   D  18:25  NaN   \n",
       "28       2019       9      16      월   ARP3   ARP8   L  L1901   A  10:25  NaN   \n",
       "29       2019       9      16      월   ARP8   ARP3   L  L1901   D   9:30  NaN   \n",
       "...       ...     ...     ...    ...    ...    ...  ..    ...  ..    ...  ...   \n",
       "16124    2019       9      30      월  ARP15   ARP4   J  J1413   A   8:05  NaN   \n",
       "16125    2019       9      30      월   ARP3  ARP14   J  J1856   A  10:00  NaN   \n",
       "16126    2019       9      30      월  ARP14   ARP3   J  J1856   D   8:50  NaN   \n",
       "16127    2019       9      30      월   ARP4  ARP15   J  J1413   D   6:55  NaN   \n",
       "16128    2019       9      30      월   ARP3  ARP13   J  J1920   A  16:25  NaN   \n",
       "16129    2019       9      30      월  ARP13   ARP3   J  J1920   D  15:25  NaN   \n",
       "16130    2019       9      30      월   ARP5   ARP3   J  J1825   A  12:55  NaN   \n",
       "16131    2019       9      30      월   ARP3   ARP5   J  J1825   D  11:50  NaN   \n",
       "16132    2019       9      30      월   ARP3  ARP12   J  J1834   A  15:40  NaN   \n",
       "16133    2019       9      30      월  ARP12   ARP3   J  J1834   D  14:40  NaN   \n",
       "16134    2019       9      30      월  ARP12   ARP3   J  J1835   A  14:00  NaN   \n",
       "16135    2019       9      30      월   ARP3  ARP12   J  J1835   D  13:00  NaN   \n",
       "16136    2019       9      30      월   ARP3  ARP14   J  J1854   A  14:30  NaN   \n",
       "16137    2019       9      30      월  ARP14   ARP3   J  J1854   D  13:20  NaN   \n",
       "16138    2019       9      30      월   ARP3   ARP8   J  J1904   A  11:00  NaN   \n",
       "16139    2019       9      30      월   ARP8   ARP3   J  J1904   D  10:10  NaN   \n",
       "16140    2019       9      30      월   ARP8   ARP3   J  J1905   A   9:35  NaN   \n",
       "16141    2019       9      30      월   ARP3   ARP8   J  J1905   D   8:40  NaN   \n",
       "16142    2019       9      30      월   ARP3   ARP8   J  J1906   A  14:25  NaN   \n",
       "16143    2019       9      30      월   ARP8   ARP3   J  J1906   D  13:25  NaN   \n",
       "16144    2019       9      30      월   ARP8   ARP3   J  J1907   A  12:50  NaN   \n",
       "16145    2019       9      30      월   ARP3   ARP8   J  J1907   D  11:50  NaN   \n",
       "16146    2019       9      30      월   ARP3   ARP8   J  J1908   A  17:45  NaN   \n",
       "16147    2019       9      30      월   ARP8   ARP3   J  J1908   D  16:45  NaN   \n",
       "16148    2019       9      30      월   ARP3   ARP8   J  J1910   A  20:25  NaN   \n",
       "16149    2019       9      30      월   ARP8   ARP3   J  J1910   D  19:25  NaN   \n",
       "16150    2019       9      30      월   ARP8   ARP3   J  J1909   A  16:10  NaN   \n",
       "16151    2019       9      30      월   ARP3   ARP8   J  J1909   D  15:10  NaN   \n",
       "16152    2019       9      30      월   ARP8   ARP3   J  J1911   A  18:50  NaN   \n",
       "16153    2019       9      30      월   ARP3   ARP8   J  J1911   D  17:50  NaN   \n",
       "\n",
       "       DLY_RATE  \n",
       "0           NaN  \n",
       "1           NaN  \n",
       "2           NaN  \n",
       "3           NaN  \n",
       "4           NaN  \n",
       "5           NaN  \n",
       "6           NaN  \n",
       "7           NaN  \n",
       "8           NaN  \n",
       "9           NaN  \n",
       "10          NaN  \n",
       "11          NaN  \n",
       "12          NaN  \n",
       "13          NaN  \n",
       "14          NaN  \n",
       "15          NaN  \n",
       "16          NaN  \n",
       "17          NaN  \n",
       "18          NaN  \n",
       "19          NaN  \n",
       "20          NaN  \n",
       "21          NaN  \n",
       "22          NaN  \n",
       "23          NaN  \n",
       "24          NaN  \n",
       "25          NaN  \n",
       "26          NaN  \n",
       "27          NaN  \n",
       "28          NaN  \n",
       "29          NaN  \n",
       "...         ...  \n",
       "16124       NaN  \n",
       "16125       NaN  \n",
       "16126       NaN  \n",
       "16127       NaN  \n",
       "16128       NaN  \n",
       "16129       NaN  \n",
       "16130       NaN  \n",
       "16131       NaN  \n",
       "16132       NaN  \n",
       "16133       NaN  \n",
       "16134       NaN  \n",
       "16135       NaN  \n",
       "16136       NaN  \n",
       "16137       NaN  \n",
       "16138       NaN  \n",
       "16139       NaN  \n",
       "16140       NaN  \n",
       "16141       NaN  \n",
       "16142       NaN  \n",
       "16143       NaN  \n",
       "16144       NaN  \n",
       "16145       NaN  \n",
       "16146       NaN  \n",
       "16147       NaN  \n",
       "16148       NaN  \n",
       "16149       NaN  \n",
       "16150       NaN  \n",
       "16151       NaN  \n",
       "16152       NaN  \n",
       "16153       NaN  \n",
       "\n",
       "[16154 rows x 12 columns]"
      ]
     },
     "execution_count": 55,
     "metadata": {},
     "output_type": "execute_result"
    }
   ],
   "source": [
    "AFSNT_DLY"
   ]
  },
  {
   "cell_type": "code",
   "execution_count": 658,
   "metadata": {
    "scrolled": true
   },
   "outputs": [
    {
     "data": {
      "text/plain": [
       "0.0    15298\n",
       "1.0      678\n",
       "3.0       74\n",
       "2.0       59\n",
       "2.5       27\n",
       "4.5       13\n",
       "4.0        3\n",
       "3.5        2\n",
       "Name: 0, dtype: int64"
      ]
     },
     "execution_count": 658,
     "metadata": {},
     "output_type": "execute_result"
    }
   ],
   "source": [
    "Total_RT[0].value_counts()"
   ]
  },
  {
   "cell_type": "code",
   "execution_count": 665,
   "metadata": {
    "collapsed": true
   },
   "outputs": [
    {
     "data": {
      "text/plain": [
       "0         0.0\n",
       "1         0.0\n",
       "2         0.0\n",
       "3         0.0\n",
       "4         0.0\n",
       "5         0.0\n",
       "6         0.0\n",
       "7         0.0\n",
       "8         0.0\n",
       "9         0.0\n",
       "10        0.0\n",
       "11        0.0\n",
       "12        0.0\n",
       "13        0.0\n",
       "14        0.0\n",
       "15        0.0\n",
       "16        0.0\n",
       "17        0.0\n",
       "18        0.0\n",
       "19        0.0\n",
       "20        0.0\n",
       "21        0.0\n",
       "22        0.0\n",
       "23        0.0\n",
       "24        0.0\n",
       "25        0.0\n",
       "26        0.0\n",
       "27        0.0\n",
       "28        0.0\n",
       "29        0.0\n",
       "         ... \n",
       "16124     0.0\n",
       "16125     0.0\n",
       "16126     0.0\n",
       "16127     0.0\n",
       "16128     0.0\n",
       "16129     0.0\n",
       "16130     0.0\n",
       "16131     0.0\n",
       "16132     0.0\n",
       "16133     0.0\n",
       "16134     0.0\n",
       "16135     0.0\n",
       "16136     0.0\n",
       "16137     0.0\n",
       "16138     0.0\n",
       "16139     0.0\n",
       "16140     0.0\n",
       "16141     0.0\n",
       "16142     0.0\n",
       "16143     0.0\n",
       "16144     0.0\n",
       "16145     0.0\n",
       "16146     0.0\n",
       "16147    20.0\n",
       "16148     0.0\n",
       "16149     0.0\n",
       "16150     0.0\n",
       "16151     0.0\n",
       "16152     0.0\n",
       "16153     0.0\n",
       "Name: 1, Length: 16154, dtype: float64"
      ]
     },
     "execution_count": 665,
     "metadata": {},
     "output_type": "execute_result"
    }
   ],
   "source": [
    "Total_RT[1]"
   ]
  },
  {
   "cell_type": "code",
   "execution_count": 650,
   "metadata": {
    "scrolled": false
   },
   "outputs": [
    {
     "data": {
      "text/plain": [
       "119"
      ]
     },
     "execution_count": 650,
     "metadata": {},
     "output_type": "execute_result"
    }
   ],
   "source": [
    "Total_RT[0].map(lambda x = 1 : x > 0.5).sum()"
   ]
  },
  {
   "cell_type": "code",
   "execution_count": 651,
   "metadata": {},
   "outputs": [],
   "source": [
    "Final_DLY = AFSNT_DLY.copy()"
   ]
  },
  {
   "cell_type": "code",
   "execution_count": 673,
   "metadata": {},
   "outputs": [],
   "source": [
    "Final_DLY[\"DLY\"] = Total_RT[0].map(lambda x = 1 : x > 0.5)"
   ]
  },
  {
   "cell_type": "code",
   "execution_count": 675,
   "metadata": {
    "scrolled": true
   },
   "outputs": [],
   "source": [
    "Final_DLY[\"DLY\"] = Final_DLY[\"DLY\"].map({False : 'N', True : 'Y'})"
   ]
  },
  {
   "cell_type": "code",
   "execution_count": 670,
   "metadata": {},
   "outputs": [],
   "source": [
    "Final_DLY[\"DLY_RATE\"] = Total_RT[1]"
   ]
  },
  {
   "cell_type": "code",
   "execution_count": 677,
   "metadata": {},
   "outputs": [
    {
     "data": {
      "text/plain": [
       "0.0    15298\n",
       "1.0      678\n",
       "3.0       74\n",
       "2.0       59\n",
       "2.5       27\n",
       "4.5       13\n",
       "4.0        3\n",
       "3.5        2\n",
       "Name: 0, dtype: int64"
      ]
     },
     "execution_count": 677,
     "metadata": {},
     "output_type": "execute_result"
    }
   ],
   "source": [
    "Total_RT[0].value_counts()"
   ]
  },
  {
   "cell_type": "code",
   "execution_count": 683,
   "metadata": {
    "scrolled": true
   },
   "outputs": [],
   "source": [
    "Final_DLY.to_csv(\"FinalDLY.csv\", encoding='CP949')"
   ]
  },
  {
   "cell_type": "code",
   "execution_count": 688,
   "metadata": {},
   "outputs": [
    {
     "data": {
      "text/plain": [
       "985759"
      ]
     },
     "execution_count": 688,
     "metadata": {},
     "output_type": "execute_result"
    }
   ],
   "source": [
    "b"
   ]
  },
  {
   "cell_type": "code",
   "execution_count": null,
   "metadata": {},
   "outputs": [],
   "source": []
  },
  {
   "cell_type": "code",
   "execution_count": null,
   "metadata": {},
   "outputs": [],
   "source": []
  },
  {
   "cell_type": "code",
   "execution_count": null,
   "metadata": {},
   "outputs": [],
   "source": []
  },
  {
   "cell_type": "code",
   "execution_count": null,
   "metadata": {},
   "outputs": [],
   "source": []
  },
  {
   "cell_type": "code",
   "execution_count": null,
   "metadata": {},
   "outputs": [],
   "source": []
  }
 ],
 "metadata": {
  "kernelspec": {
   "display_name": "Python 3",
   "language": "python",
   "name": "python3"
  },
  "language_info": {
   "codemirror_mode": {
    "name": "ipython",
    "version": 3
   },
   "file_extension": ".py",
   "mimetype": "text/x-python",
   "name": "python",
   "nbconvert_exporter": "python",
   "pygments_lexer": "ipython3",
   "version": "3.7.3"
  }
 },
 "nbformat": 4,
 "nbformat_minor": 2
}
